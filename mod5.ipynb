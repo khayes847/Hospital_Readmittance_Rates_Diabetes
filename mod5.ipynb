{
 "cells": [
  {
   "cell_type": "code",
   "execution_count": 1,
   "metadata": {},
   "outputs": [],
   "source": [
    "import pandas as pd\n",
    "import numpy as np\n",
    "import swifter\n",
    "import matplotlib.pyplot as plt\n",
    "%matplotlib inline\n",
    "from matplotlib import style\n",
    "style.use('ggplot')\n",
    "import seaborn as sns\n",
    "import operator\n",
    "import data_prep_final as d\n",
    "import functions as f\n",
    "import models as m\n",
    "from sklearn.linear_model import LogisticRegression\n",
    "from sklearn.preprocessing import OneHotEncoder\n",
    "from sklearn.model_selection import train_test_split\n",
    "from sklearn.dummy import DummyClassifier\n",
    "from sklearn.metrics import accuracy_score, f1_score, confusion_matrix\n",
    "from sklearn.utils import resample\n",
    "from sklearn import tree\n",
    "from sklearn.ensemble import RandomForestClassifier\n",
    "from sklearn.model_selection import cross_validate\n",
    "from yellowbrick.classifier import ConfusionMatrix\n",
    "from imblearn.over_sampling import SMOTE\n",
    "from sklearn.neighbors import KNeighborsClassifier\n",
    "from sklearn.metrics import precision_score, recall_score, accuracy_score, f1_score\n",
    "from progressbar import progressbar\n",
    "%load_ext autoreload\n",
    "%autoreload 2\n",
    "pd.set_option('display.max_columns', None)"
   ]
  },
  {
   "cell_type": "code",
   "execution_count": 2,
   "metadata": {
    "scrolled": true
   },
   "outputs": [
    {
     "name": "stdout",
     "output_type": "stream",
     "text": [
      "Upload\n",
      "y_clean\n",
      "column_drop\n",
      "null_value_drop\n",
      "x_clean\n"
     ]
    },
    {
     "name": "stderr",
     "output_type": "stream",
     "text": [
      "C:\\Users\\Rocio\\Desktop\\Class_files\\Projects\\mod_5_project\\Hospital_Readmittance_Rates_Diabetes\\data_prep_final.py:72: SettingWithCopyWarning: \n",
      "A value is trying to be set on a copy of a slice from a DataFrame.\n",
      "Try using .loc[row_indexer,col_indexer] = value instead\n",
      "\n",
      "See the caveats in the documentation: http://pandas.pydata.org/pandas-docs/stable/indexing.html#indexing-view-versus-copy\n",
      "  8: 'no_info'})\n"
     ]
    },
    {
     "name": "stdout",
     "output_type": "stream",
     "text": [
      "reset_indices\n"
     ]
    },
    {
     "data": {
      "application/vnd.jupyter.widget-view+json": {
       "model_id": "f8affd7228114ab4b30f06dd9fd82935",
       "version_major": 2,
       "version_minor": 0
      },
      "text/plain": [
       "HBox(children=(IntProgress(value=0, description='Pandas Apply', max=68133, style=ProgressStyle(description_wid…"
      ]
     },
     "metadata": {},
     "output_type": "display_data"
    },
    {
     "name": "stdout",
     "output_type": "stream",
     "text": [
      "\n"
     ]
    },
    {
     "data": {
      "application/vnd.jupyter.widget-view+json": {
       "model_id": "e80333aff18f460680df8d67976d3d2a",
       "version_major": 2,
       "version_minor": 0
      },
      "text/plain": [
       "HBox(children=(IntProgress(value=0, description='Pandas Apply', max=68133, style=ProgressStyle(description_wid…"
      ]
     },
     "metadata": {},
     "output_type": "display_data"
    },
    {
     "name": "stdout",
     "output_type": "stream",
     "text": [
      "\n"
     ]
    },
    {
     "data": {
      "application/vnd.jupyter.widget-view+json": {
       "model_id": "b727ab24d9f746538d0bde6599af5414",
       "version_major": 2,
       "version_minor": 0
      },
      "text/plain": [
       "HBox(children=(IntProgress(value=0, description='Pandas Apply', max=68133, style=ProgressStyle(description_wid…"
      ]
     },
     "metadata": {},
     "output_type": "display_data"
    },
    {
     "name": "stdout",
     "output_type": "stream",
     "text": [
      "\n"
     ]
    },
    {
     "data": {
      "application/vnd.jupyter.widget-view+json": {
       "model_id": "cc87bec2e0db4b8e9dd4c930fe50ab5c",
       "version_major": 2,
       "version_minor": 0
      },
      "text/plain": [
       "HBox(children=(IntProgress(value=0, description='Pandas Apply', max=68133, style=ProgressStyle(description_wid…"
      ]
     },
     "metadata": {},
     "output_type": "display_data"
    },
    {
     "name": "stdout",
     "output_type": "stream",
     "text": [
      "\n"
     ]
    },
    {
     "data": {
      "application/vnd.jupyter.widget-view+json": {
       "model_id": "9c840791e44640a686907cf6f9914878",
       "version_major": 2,
       "version_minor": 0
      },
      "text/plain": [
       "HBox(children=(IntProgress(value=0, description='Pandas Apply', max=68133, style=ProgressStyle(description_wid…"
      ]
     },
     "metadata": {},
     "output_type": "display_data"
    },
    {
     "name": "stdout",
     "output_type": "stream",
     "text": [
      "\n"
     ]
    },
    {
     "data": {
      "application/vnd.jupyter.widget-view+json": {
       "model_id": "b92c837449f5437c93c4c6874590f031",
       "version_major": 2,
       "version_minor": 0
      },
      "text/plain": [
       "HBox(children=(IntProgress(value=0, description='Pandas Apply', max=68133, style=ProgressStyle(description_wid…"
      ]
     },
     "metadata": {},
     "output_type": "display_data"
    },
    {
     "name": "stdout",
     "output_type": "stream",
     "text": [
      "\n"
     ]
    },
    {
     "data": {
      "application/vnd.jupyter.widget-view+json": {
       "model_id": "96dd6d1bac0541bcac957df57891a19b",
       "version_major": 2,
       "version_minor": 0
      },
      "text/plain": [
       "HBox(children=(IntProgress(value=0, description='Pandas Apply', max=68133, style=ProgressStyle(description_wid…"
      ]
     },
     "metadata": {},
     "output_type": "display_data"
    },
    {
     "name": "stdout",
     "output_type": "stream",
     "text": [
      "\n"
     ]
    },
    {
     "data": {
      "application/vnd.jupyter.widget-view+json": {
       "model_id": "366af976d6c24f13910496b407c106d9",
       "version_major": 2,
       "version_minor": 0
      },
      "text/plain": [
       "HBox(children=(IntProgress(value=0, description='Pandas Apply', max=68133, style=ProgressStyle(description_wid…"
      ]
     },
     "metadata": {},
     "output_type": "display_data"
    },
    {
     "name": "stdout",
     "output_type": "stream",
     "text": [
      "\n"
     ]
    },
    {
     "data": {
      "application/vnd.jupyter.widget-view+json": {
       "model_id": "361fbcfbbea846e7a213973a8a9ac12f",
       "version_major": 2,
       "version_minor": 0
      },
      "text/plain": [
       "HBox(children=(IntProgress(value=0, description='Pandas Apply', max=68133, style=ProgressStyle(description_wid…"
      ]
     },
     "metadata": {},
     "output_type": "display_data"
    },
    {
     "name": "stdout",
     "output_type": "stream",
     "text": [
      "\n"
     ]
    },
    {
     "data": {
      "application/vnd.jupyter.widget-view+json": {
       "model_id": "ce0d5f669e6045a2b9a7c0edfb61fa50",
       "version_major": 2,
       "version_minor": 0
      },
      "text/plain": [
       "HBox(children=(IntProgress(value=0, description='Pandas Apply', max=68133, style=ProgressStyle(description_wid…"
      ]
     },
     "metadata": {},
     "output_type": "display_data"
    },
    {
     "name": "stdout",
     "output_type": "stream",
     "text": [
      "\n"
     ]
    },
    {
     "data": {
      "application/vnd.jupyter.widget-view+json": {
       "model_id": "43c79a4b1daa483e827397a6efc9516e",
       "version_major": 2,
       "version_minor": 0
      },
      "text/plain": [
       "HBox(children=(IntProgress(value=0, description='Pandas Apply', max=68133, style=ProgressStyle(description_wid…"
      ]
     },
     "metadata": {},
     "output_type": "display_data"
    },
    {
     "name": "stdout",
     "output_type": "stream",
     "text": [
      "\n"
     ]
    },
    {
     "data": {
      "application/vnd.jupyter.widget-view+json": {
       "model_id": "afdc906e07334834866c7546dcea7f28",
       "version_major": 2,
       "version_minor": 0
      },
      "text/plain": [
       "HBox(children=(IntProgress(value=0, description='Pandas Apply', max=68133, style=ProgressStyle(description_wid…"
      ]
     },
     "metadata": {},
     "output_type": "display_data"
    },
    {
     "name": "stdout",
     "output_type": "stream",
     "text": [
      "\n"
     ]
    },
    {
     "data": {
      "application/vnd.jupyter.widget-view+json": {
       "model_id": "7030de2a4185424ba2979e19dd53f323",
       "version_major": 2,
       "version_minor": 0
      },
      "text/plain": [
       "HBox(children=(IntProgress(value=0, description='Pandas Apply', max=68133, style=ProgressStyle(description_wid…"
      ]
     },
     "metadata": {},
     "output_type": "display_data"
    },
    {
     "name": "stdout",
     "output_type": "stream",
     "text": [
      "\n"
     ]
    },
    {
     "data": {
      "application/vnd.jupyter.widget-view+json": {
       "model_id": "c09e62b1a96444f599c705aa4254a3cd",
       "version_major": 2,
       "version_minor": 0
      },
      "text/plain": [
       "HBox(children=(IntProgress(value=0, description='Pandas Apply', max=68133, style=ProgressStyle(description_wid…"
      ]
     },
     "metadata": {},
     "output_type": "display_data"
    },
    {
     "name": "stdout",
     "output_type": "stream",
     "text": [
      "\n"
     ]
    },
    {
     "data": {
      "application/vnd.jupyter.widget-view+json": {
       "model_id": "a0398c04abbe4243aa8742bec8771ed7",
       "version_major": 2,
       "version_minor": 0
      },
      "text/plain": [
       "HBox(children=(IntProgress(value=0, description='Pandas Apply', max=68133, style=ProgressStyle(description_wid…"
      ]
     },
     "metadata": {},
     "output_type": "display_data"
    },
    {
     "name": "stdout",
     "output_type": "stream",
     "text": [
      "\n"
     ]
    },
    {
     "data": {
      "application/vnd.jupyter.widget-view+json": {
       "model_id": "7708f6f2ff074c0e98575c5d820b7103",
       "version_major": 2,
       "version_minor": 0
      },
      "text/plain": [
       "HBox(children=(IntProgress(value=0, description='Pandas Apply', max=68133, style=ProgressStyle(description_wid…"
      ]
     },
     "metadata": {},
     "output_type": "display_data"
    },
    {
     "name": "stdout",
     "output_type": "stream",
     "text": [
      "\n"
     ]
    },
    {
     "data": {
      "application/vnd.jupyter.widget-view+json": {
       "model_id": "64d7a33bb5014810849d66f8f8b68435",
       "version_major": 2,
       "version_minor": 0
      },
      "text/plain": [
       "HBox(children=(IntProgress(value=0, description='Pandas Apply', max=68133, style=ProgressStyle(description_wid…"
      ]
     },
     "metadata": {},
     "output_type": "display_data"
    },
    {
     "name": "stdout",
     "output_type": "stream",
     "text": [
      "\n"
     ]
    },
    {
     "data": {
      "application/vnd.jupyter.widget-view+json": {
       "model_id": "c91fd5f0ae3e4284922a60a81a1eabcf",
       "version_major": 2,
       "version_minor": 0
      },
      "text/plain": [
       "HBox(children=(IntProgress(value=0, description='Pandas Apply', max=68133, style=ProgressStyle(description_wid…"
      ]
     },
     "metadata": {},
     "output_type": "display_data"
    },
    {
     "name": "stdout",
     "output_type": "stream",
     "text": [
      "\n"
     ]
    },
    {
     "data": {
      "application/vnd.jupyter.widget-view+json": {
       "model_id": "b8f383a5a0e1471e9682562dfa62daae",
       "version_major": 2,
       "version_minor": 0
      },
      "text/plain": [
       "HBox(children=(IntProgress(value=0, description='Pandas Apply', max=68133, style=ProgressStyle(description_wid…"
      ]
     },
     "metadata": {},
     "output_type": "display_data"
    },
    {
     "name": "stdout",
     "output_type": "stream",
     "text": [
      "\n",
      "values_lower\n",
      "column_lowercase\n",
      "categorize_all\n"
     ]
    },
    {
     "data": {
      "application/vnd.jupyter.widget-view+json": {
       "model_id": "e71c5a67e7824e0d9356d0f5ea790524",
       "version_major": 2,
       "version_minor": 0
      },
      "text/plain": [
       "HBox(children=(IntProgress(value=0, description='Pandas Apply', max=68133, style=ProgressStyle(description_wid…"
      ]
     },
     "metadata": {},
     "output_type": "display_data"
    },
    {
     "name": "stdout",
     "output_type": "stream",
     "text": [
      "\n"
     ]
    },
    {
     "data": {
      "application/vnd.jupyter.widget-view+json": {
       "model_id": "53e0c8540b284b7482ab785b2f4e566a",
       "version_major": 2,
       "version_minor": 0
      },
      "text/plain": [
       "HBox(children=(IntProgress(value=0, description='Pandas Apply', max=68133, style=ProgressStyle(description_wid…"
      ]
     },
     "metadata": {},
     "output_type": "display_data"
    },
    {
     "name": "stdout",
     "output_type": "stream",
     "text": [
      "\n"
     ]
    },
    {
     "data": {
      "application/vnd.jupyter.widget-view+json": {
       "model_id": "23461ecc2d0e4332ae5507d074b35975",
       "version_major": 2,
       "version_minor": 0
      },
      "text/plain": [
       "HBox(children=(IntProgress(value=0, description='Pandas Apply', max=68133, style=ProgressStyle(description_wid…"
      ]
     },
     "metadata": {},
     "output_type": "display_data"
    },
    {
     "name": "stdout",
     "output_type": "stream",
     "text": [
      "\n"
     ]
    },
    {
     "data": {
      "application/vnd.jupyter.widget-view+json": {
       "model_id": "7a8ea3bafd114f65a6b52bbb82603337",
       "version_major": 2,
       "version_minor": 0
      },
      "text/plain": [
       "HBox(children=(IntProgress(value=0, description='Pandas Apply', max=68133, style=ProgressStyle(description_wid…"
      ]
     },
     "metadata": {},
     "output_type": "display_data"
    },
    {
     "name": "stdout",
     "output_type": "stream",
     "text": [
      "\n"
     ]
    },
    {
     "data": {
      "application/vnd.jupyter.widget-view+json": {
       "model_id": "96e07659253343398bd2e4af718693bb",
       "version_major": 2,
       "version_minor": 0
      },
      "text/plain": [
       "HBox(children=(IntProgress(value=0, description='Pandas Apply', max=68133, style=ProgressStyle(description_wid…"
      ]
     },
     "metadata": {},
     "output_type": "display_data"
    },
    {
     "name": "stdout",
     "output_type": "stream",
     "text": [
      "\n"
     ]
    },
    {
     "data": {
      "application/vnd.jupyter.widget-view+json": {
       "model_id": "9b94410130bf4c28a2c06886f12365e5",
       "version_major": 2,
       "version_minor": 0
      },
      "text/plain": [
       "HBox(children=(IntProgress(value=0, description='Pandas Apply', max=68133, style=ProgressStyle(description_wid…"
      ]
     },
     "metadata": {},
     "output_type": "display_data"
    },
    {
     "name": "stdout",
     "output_type": "stream",
     "text": [
      "\n"
     ]
    }
   ],
   "source": [
    "X, y = d.upload()\n",
    "\n",
    "y = d.y_clean(y)\n",
    "\n",
    "X = d.column_drop(X)\n",
    "\n",
    "X = d.null_value_drop(X)\n",
    "\n",
    "X = d.x_clean(X)\n",
    "\n",
    "X, y = d.reset_indices(X, y)\n",
    "\n",
    "med_cols = ['metformin', 'repaglinide', 'nateglinide', 'chlorpropamide',\n",
    "            'glimepiride', 'acetohexamide', 'glipizide', 'glyburide', 'tolbutamide',\n",
    "            'pioglitazone', 'rosiglitazone', 'acarbose', 'miglitol', 'troglitazone',\n",
    "            'tolazamide', 'glyburide-metformin', 'glipizide-metformin',\n",
    "            'glimepiride-pioglitazone', 'metformin-pioglitazone', ]\n",
    "\n",
    "for col in med_cols:\n",
    "    X[col] = X[col].swifter.apply(lambda x: 'no' if x == 'No' else 'yes')\n",
    "\n",
    "X['med_other'] = ['yes' if x >= 1 else 'no' for x in (\n",
    "    np.sum(X.iloc[:, 19:34] == 'yes', 1)+(np.sum(X.iloc[:, 35:-2] == 'yes', 1)))]\n",
    "\n",
    "X = X.drop(columns=['metformin', 'repaglinide', 'nateglinide', 'chlorpropamide',\n",
    "                    'glimepiride', 'acetohexamide', 'glipizide', 'glyburide', 'tolbutamide',\n",
    "                    'pioglitazone', 'rosiglitazone', 'acarbose', 'miglitol', 'troglitazone',\n",
    "                    'tolazamide', 'glyburide-metformin', 'glipizide-metformin',\n",
    "                    'glimepiride-pioglitazone', 'metformin-pioglitazone'])\n",
    "\n",
    "X = d.values_lower(X)\n",
    "X = d.column_lowercase(X)\n",
    "\n",
    "X = d.categorize_all(X)\n",
    "\n",
    "X['diag_1_cat'] = X.diag_1.swifter.apply(lambda x: 'endocrine' if 280 > x >= 240\n",
    "                                         else (\"circulatory\" if 460 > x >= 390\n",
    "                                               else ('respiratory' if 520 > x >= 460\n",
    "                                                     else ('digestive' if 580 > x >= 520\n",
    "                                                           else ('genitourinary' if 630 > x >= 580\n",
    "                                                                 else ('musculoskeletal' if 740 > x >= 710\n",
    "                                                                       else ('ill_defined' if 800 > x >= 780\n",
    "                                                                             else ('injury' if 1000 > x >= 800\n",
    "                                                                                   else ('none' if x == 0 else 'other')))))))))\n",
    "\n",
    "X['diag_2_cat'] = X.diag_2.swifter.apply(lambda x: 'endocrine' if 280 > x >= 240\n",
    "                                         else (\"circulatory\" if 460 > x >= 390\n",
    "                                               else ('respiratory' if 520 > x >= 460\n",
    "                                                     else ('digestive' if 580 > x >= 520\n",
    "                                                           else ('genitourinary' if 630 > x >= 580\n",
    "                                                                 else ('musculoskeletal' if 740 > x >= 710\n",
    "                                                                       else ('ill_defined' if 800 > x >= 780\n",
    "                                                                             else ('injury' if 1000 > x >= 800\n",
    "                                                                                   else ('none' if x == 0 else 'other')))))))))\n",
    "\n",
    "X['diag_3_cat'] = X.diag_3.swifter.apply(lambda x: 'endocrine' if 280 > x >= 240\n",
    "                                         else (\"circulatory\" if 460 > x >= 390\n",
    "                                               else ('respiratory' if 520 > x >= 460\n",
    "                                                     else ('digestive' if 580 > x >= 520\n",
    "                                                           else ('genitourinary' if 630 > x >= 580\n",
    "                                                                 else ('musculoskeletal' if 740 > x >= 710\n",
    "                                                                       else ('ill_defined' if 800 > x >= 780\n",
    "                                                                             else ('injury' if 1000 > x >= 800\n",
    "                                                                                   else ('none' if x == 0 else 'other')))))))))\n",
    "\n",
    "diag_list = list(set(X.diag_1_cat.unique()))\n",
    "\n",
    "for diag in diag_list:\n",
    "    X[f'diag_{diag}'] = ['yes' if x >= 1 else 'no' for x in (\n",
    "        np.sum(X.iloc[:, 23:26] == diag, 1))]\n",
    "\n",
    "X = X.drop(columns=['diag_1', 'diag_2', 'diag_3',\n",
    "                    'diag_1_cat', 'diag_2_cat', 'diag_3_cat', 'diag_none'])\n",
    "\n",
    "X['gender'] = X['gender'].replace({'female': 1, 'male': 0})\n",
    "X = X.rename(columns={'gender': 'female'})\n",
    "X_race = pd.get_dummies(X.race, drop_first=False)\n",
    "X = pd.concat([X, X_race], axis=1, ignore_index=False)\n",
    "\n",
    "X = X.rename(columns={'other': 'other_race'})\n",
    "\n",
    "X = X.drop(columns=['race', 'caucasian'])\n",
    "\n",
    "X_at_id = pd.get_dummies(X.admission_type_id, drop_first=False)\n",
    "\n",
    "X = pd.concat([X, X_at_id], axis=1, ignore_index=False)\n",
    "\n",
    "X = X.rename(columns={'not_urgent': 'att_not_urgent',\n",
    "                      'urgent': 'att_urgent', })\n",
    "X = X.drop(columns=['admission_type_id', 'no_info'])\n",
    "\n",
    "X_dd_id = pd.get_dummies(X.dd_id, drop_first=False)\n",
    "X = pd.concat([X, X_dd_id], axis=1, ignore_index=False)\n",
    "X = X.rename(columns={'home': 'dd_home', 'care': 'dd_care',\n",
    "                      'care_home': 'dd_care_home', 'care_lt': 'dd_care_lt',\n",
    "                      'other': 'dd_other'})\n",
    "X = X.drop(columns=['no_info', 'dd_id'])\n",
    "\n",
    "X_as_id = pd.get_dummies(X.as_id, drop_first=False)\n",
    "X = pd.concat([X, X_as_id], axis=1, ignore_index=False)\n",
    "X = X.rename(columns={'transfer_er': 'as_transfer_er', 'referral': 'as_referral',\n",
    "                      'transfer_other': 'as_transfer_other'})\n",
    "X = X.drop(columns=['no_info', 'as_id'])\n",
    "\n",
    "X_glu = pd.get_dummies(X.max_glu_serum, drop_first=False)\n",
    "X = pd.concat([X, X_glu], axis=1, ignore_index=False)\n",
    "\n",
    "X = X.rename(columns={'norm': 'glu_norm', 'abnormal': 'glu_abnormal'})\n",
    "X = X.drop(columns=['max_glu_serum', 'none'])\n",
    "\n",
    "X_a1 = pd.get_dummies(X['a1cresult'], drop_first=False)\n",
    "X = pd.concat([X, X_a1], axis=1, ignore_index=False)\n",
    "\n",
    "X = X.rename(columns={'norm': 'a1_norm', 'abnormal': 'a1_abnormal'})\n",
    "X = X.drop(columns=['a1cresult', 'none'])\n",
    "\n",
    "X_insulin = pd.get_dummies(X['insulin'], drop_first=False)\n",
    "X = pd.concat([X, X_insulin], axis=1, ignore_index=False)\n",
    "\n",
    "X = X.rename(columns={'steady': 'insulin_steady',\n",
    "                      'down': 'insulin_down', 'up': 'insulin_up'})\n",
    "X = X.drop(columns=['insulin', 'no'])\n",
    "\n",
    "X['change'] = X['change'].replace({'ch': 1, 'no': 0})\n",
    "X = X.drop(columns=['diabetesmed'])\n",
    "\n",
    "columns = ['med_other', 'diag_respiratory', 'diag_musculoskeletal',\n",
    "           'diag_circulatory', 'diag_ill_defined', 'diag_endocrine',\n",
    "           'diag_digestive', 'diag_genitourinary', 'diag_other', 'diag_injury']\n",
    "\n",
    "for col in columns:\n",
    "    X[col] = X[col].replace({'yes': 1, 'no': 0})\n",
    "\n",
    "X = X.astype('int')"
   ]
  },
  {
   "cell_type": "code",
   "execution_count": null,
   "metadata": {},
   "outputs": [],
   "source": [
    "columns = list(X.columns)\n",
    "for col in columns:\n",
    "    sns.distplot(X[col])\n",
    "    plt.show()"
   ]
  },
  {
   "cell_type": "code",
   "execution_count": 3,
   "metadata": {},
   "outputs": [],
   "source": [
    "X_train, X_test, y_train, y_test =train_test_split(X, y, random_state = 42)"
   ]
  },
  {
   "cell_type": "code",
   "execution_count": 4,
   "metadata": {},
   "outputs": [],
   "source": [
    "from sklearn.preprocessing import StandardScaler\n",
    "scaler = StandardScaler()\n",
    "X_train_cm = X_train\n",
    "X_test_cm = X_test\n",
    "scaler.fit(X_train_cm)\n",
    "\n",
    "X_train_cm = scaler.transform(X_train_cm)\n",
    "\n",
    "X_test_cm = scaler.transform(X_test_cm)"
   ]
  },
  {
   "cell_type": "code",
   "execution_count": 5,
   "metadata": {},
   "outputs": [
    {
     "name": "stdout",
     "output_type": "stream",
     "text": [
      "DUMMY REGRESSION\n",
      "Test Accuracy score:  0.5882352941176471\n"
     ]
    },
    {
     "name": "stderr",
     "output_type": "stream",
     "text": [
      "C:\\Users\\Rocio\\Anaconda3\\lib\\site-packages\\sklearn\\metrics\\classification.py:1437: UndefinedMetricWarning: F-score is ill-defined and being set to 0.0 due to no predicted samples.\n",
      "  'precision', 'predicted', average, warn_for)\n"
     ]
    },
    {
     "name": "stdout",
     "output_type": "stream",
     "text": [
      "Test F1 score:  0.0\n"
     ]
    },
    {
     "data": {
      "image/png": "[encoded data removed]",
      "text/plain": [
       "<Figure size 432x288 with 1 Axes>"
      ]
     },
     "metadata": {
      "needs_background": "light"
     },
     "output_type": "display_data"
    }
   ],
   "source": [
    "m.dummy_binary(X_train_cm, y_train, X_test_cm, y_test)"
   ]
  },
  {
   "cell_type": "code",
   "execution_count": 6,
   "metadata": {},
   "outputs": [
    {
     "name": "stdout",
     "output_type": "stream",
     "text": [
      "UNBALANCED REGRESSION\n",
      "Test Accuracy score:  0.6190560056357872\n",
      "Test F1 score:  0.34986474301172227\n"
     ]
    },
    {
     "data": {
      "image/png": "[encoded data removed]",
      "text/plain": [
       "<Figure size 432x288 with 1 Axes>"
      ]
     },
     "metadata": {
      "needs_background": "light"
     },
     "output_type": "display_data"
    }
   ],
   "source": [
    "m.reg_unbalanced(X_train_cm, y_train, X_test_cm, y_test)"
   ]
  },
  {
   "cell_type": "code",
   "execution_count": 7,
   "metadata": {},
   "outputs": [],
   "source": [
    "sm_val = SMOTE(random_state=42, ratio=1.0)\n",
    "Xs_train, ys_train = sm_val.fit_sample(X_train, y_train)"
   ]
  },
  {
   "cell_type": "code",
   "execution_count": 8,
   "metadata": {},
   "outputs": [],
   "source": [
    "scaler = StandardScaler()\n",
    "Xs_train_cm = Xs_train\n",
    "X_test_cm = X_test\n",
    "scaler.fit(Xs_train_cm)\n",
    "Xs_train_cm = scaler.transform(Xs_train_cm)\n",
    "X_test_cm = scaler.transform(X_test_cm)"
   ]
  },
  {
   "cell_type": "code",
   "execution_count": 9,
   "metadata": {},
   "outputs": [
    {
     "name": "stdout",
     "output_type": "stream",
     "text": [
      "DUMMY REGRESSION\n",
      "Test Accuracy score:  0.5882352941176471\n"
     ]
    },
    {
     "name": "stderr",
     "output_type": "stream",
     "text": [
      "C:\\Users\\Rocio\\Anaconda3\\lib\\site-packages\\sklearn\\metrics\\classification.py:1437: UndefinedMetricWarning: F-score is ill-defined and being set to 0.0 due to no predicted samples.\n",
      "  'precision', 'predicted', average, warn_for)\n"
     ]
    },
    {
     "name": "stdout",
     "output_type": "stream",
     "text": [
      "Test F1 score:  0.0\n"
     ]
    },
    {
     "data": {
      "image/png": "[encoded data removed]",
      "text/plain": [
       "<Figure size 432x288 with 1 Axes>"
      ]
     },
     "metadata": {
      "needs_background": "light"
     },
     "output_type": "display_data"
    }
   ],
   "source": [
    "m.dummy_binary(Xs_train_cm, ys_train, X_test_cm, y_test)"
   ]
  },
  {
   "cell_type": "code",
   "execution_count": 10,
   "metadata": {
    "scrolled": true
   },
   "outputs": [
    {
     "name": "stdout",
     "output_type": "stream",
     "text": [
      "UNBALANCED REGRESSION\n",
      "Test Accuracy score:  0.5767288951508748\n",
      "Test F1 score:  0.45254365983295364\n"
     ]
    },
    {
     "data": {
      "image/png": "[encoded data removed]",
      "text/plain": [
       "<Figure size 432x288 with 1 Axes>"
      ]
     },
     "metadata": {
      "needs_background": "light"
     },
     "output_type": "display_data"
    }
   ],
   "source": [
    "m.reg_unbalanced(Xs_train_cm, ys_train, X_test_cm, y_test)"
   ]
  },
  {
   "cell_type": "code",
   "execution_count": 11,
   "metadata": {},
   "outputs": [],
   "source": [
    "def find_best_k(X_train, y_train, X_test, y_test, min_k=1, max_k=25):\n",
    "    best_k = 0\n",
    "    best_score = 0.0\n",
    "    for k in range(min_k, max_k+1, 2):\n",
    "        knn = KNeighborsClassifier(n_neighbors=k)\n",
    "        knn.fit(X_train, y_train)\n",
    "        preds = knn.predict(X_test)\n",
    "        f1 = f1_score(y_test, preds)\n",
    "        print(f'best_k: {best_k}')\n",
    "        print(f'best_score: {best_score}')\n",
    "        print(f'k: {k}')\n",
    "        print(f'f1_score: {f1}')\n",
    "        if f1 > best_score:\n",
    "            best_k = k\n",
    "            best_score = f1\n",
    "        print(f'best_k is now {best_k}')\n",
    "        print(f'best_score is now {best_score}\\n')\n",
    "    \n",
    "    print(\"Best Value for k: {}\".format(best_k))\n",
    "    print(\"F1-Score: {}\".format(best_score))"
   ]
  },
  {
   "cell_type": "code",
   "execution_count": 12,
   "metadata": {},
   "outputs": [
    {
     "name": "stdout",
     "output_type": "stream",
     "text": [
      "best_k: 0\n",
      "best_score: 0.0\n",
      "k: 1\n",
      "f1_score: 0.46\n",
      "best_k is now 1\n",
      "best_score is now 0.46\n",
      "\n",
      "best_k: 1\n",
      "best_score: 0.46\n",
      "k: 3\n",
      "f1_score: 0.4471733759627961\n",
      "best_k is now 1\n",
      "best_score is now 0.46\n",
      "\n",
      "best_k: 1\n",
      "best_score: 0.46\n",
      "k: 5\n",
      "f1_score: 0.44935679432204645\n",
      "best_k is now 1\n",
      "best_score is now 0.46\n",
      "\n",
      "best_k: 1\n",
      "best_score: 0.46\n",
      "k: 7\n",
      "f1_score: 0.45301385248970427\n",
      "best_k is now 1\n",
      "best_score is now 0.46\n",
      "\n",
      "best_k: 1\n",
      "best_score: 0.46\n",
      "k: 9\n",
      "f1_score: 0.45549342602387793\n",
      "best_k is now 1\n",
      "best_score is now 0.46\n",
      "\n",
      "best_k: 1\n",
      "best_score: 0.46\n",
      "k: 11\n",
      "f1_score: 0.4557693770441926\n",
      "best_k is now 1\n",
      "best_score is now 0.46\n",
      "\n",
      "best_k: 1\n",
      "best_score: 0.46\n",
      "k: 13\n",
      "f1_score: 0.4529082688328608\n",
      "best_k is now 1\n",
      "best_score is now 0.46\n",
      "\n",
      "best_k: 1\n",
      "best_score: 0.46\n",
      "k: 15\n",
      "f1_score: 0.45024570024570026\n",
      "best_k is now 1\n",
      "best_score is now 0.46\n",
      "\n",
      "best_k: 1\n",
      "best_score: 0.46\n",
      "k: 17\n",
      "f1_score: 0.4504255808603635\n",
      "best_k is now 1\n",
      "best_score is now 0.46\n",
      "\n",
      "best_k: 1\n",
      "best_score: 0.46\n",
      "k: 19\n",
      "f1_score: 0.4524231450805147\n",
      "best_k is now 1\n",
      "best_score is now 0.46\n",
      "\n",
      "best_k: 1\n",
      "best_score: 0.46\n",
      "k: 21\n",
      "f1_score: 0.45268959093378874\n",
      "best_k is now 1\n",
      "best_score is now 0.46\n",
      "\n",
      "best_k: 1\n",
      "best_score: 0.46\n",
      "k: 23\n",
      "f1_score: 0.4532815533980582\n",
      "best_k is now 1\n",
      "best_score is now 0.46\n",
      "\n",
      "best_k: 1\n",
      "best_score: 0.46\n",
      "k: 25\n",
      "f1_score: 0.4549423136888057\n",
      "best_k is now 1\n",
      "best_score is now 0.46\n",
      "\n",
      "Best Value for k: 1\n",
      "F1-Score: 0.46\n"
     ]
    }
   ],
   "source": [
    "find_best_k(Xs_train_cm, ys_train, X_test_cm, y_test)"
   ]
  },
  {
   "cell_type": "code",
   "execution_count": 13,
   "metadata": {
    "scrolled": true
   },
   "outputs": [
    {
     "name": "stdout",
     "output_type": "stream",
     "text": [
      "num: 1\n",
      "estimatorn R2 score:  0.5321548207356307 \n",
      "estimator_importances:  [0. 0. 0. 0. 0. 0. 0. 0. 1. 0. 0. 0. 0. 0. 0. 0. 0. 0. 0. 0. 0. 0. 0. 0.\n",
      " 0. 0. 0. 0. 0. 0. 0. 0. 0. 0. 0. 0. 0. 0. 0. 0.]\n",
      "estimatorn R2 score_test:  0.6145943407303041\n",
      "num: 2\n",
      "estimatorn R2 score:  0.5321548207356307 \n",
      "estimator_importances:  [0.         0.         0.         0.         0.         0.\n",
      " 0.         0.         0.54723297 0.         0.         0.\n",
      " 0.         0.         0.         0.         0.         0.\n",
      " 0.         0.         0.         0.         0.         0.\n",
      " 0.         0.         0.         0.         0.         0.\n",
      " 0.         0.         0.45276703 0.         0.         0.\n",
      " 0.         0.         0.         0.        ]\n",
      "estimatorn R2 score_test:  0.6145943407303041\n",
      "num: 3\n",
      "estimatorn R2 score:  0.5739776458492256 \n",
      "estimator_importances:  [0.         0.         0.         0.         0.         0.\n",
      " 0.         0.         0.37023994 0.02447516 0.         0.\n",
      " 0.         0.         0.         0.         0.         0.\n",
      " 0.         0.         0.         0.         0.         0.02137093\n",
      " 0.         0.         0.         0.         0.28929998 0.\n",
      " 0.         0.         0.29461399 0.         0.         0.\n",
      " 0.         0.         0.         0.        ]\n",
      "estimatorn R2 score_test:  0.5689796876834566\n",
      "num: 4\n",
      "estimatorn R2 score:  0.5780571125335809 \n",
      "estimator_importances:  [0.         0.         0.         0.         0.         0.00326074\n",
      " 0.00466655 0.         0.28037065 0.0225771  0.         0.\n",
      " 0.         0.         0.         0.         0.         0.\n",
      " 0.         0.         0.         0.         0.         0.01618351\n",
      " 0.01538042 0.11741743 0.         0.         0.21907745 0.\n",
      " 0.09796458 0.         0.22310158 0.         0.         0.\n",
      " 0.         0.         0.         0.        ]\n",
      "estimatorn R2 score_test:  0.5860631677820829\n",
      "num: 5\n",
      "estimatorn R2 score:  0.598305197174223 \n",
      "estimator_importances:  [0.         0.01051797 0.0031693  0.00236573 0.00195801 0.00684235\n",
      " 0.00519773 0.         0.18803177 0.05323819 0.         0.\n",
      " 0.         0.         0.0040384  0.         0.         0.\n",
      " 0.         0.         0.         0.         0.         0.01085354\n",
      " 0.01031494 0.0787465  0.13704399 0.         0.14692522 0.\n",
      " 0.06570037 0.11633976 0.15733541 0.         0.00138083 0.\n",
      " 0.         0.         0.         0.        ]\n",
      "estimatorn R2 score_test:  0.5926969590231302\n",
      "num: 6\n",
      "estimatorn R2 score:  0.6054691386687009 \n",
      "estimator_importances:  [0.         0.03655903 0.00504512 0.01375584 0.00889995 0.01089835\n",
      " 0.00690919 0.         0.15199011 0.04504964 0.00166157 0.\n",
      " 0.         0.00200477 0.00326433 0.         0.         0.\n",
      " 0.         0.         0.00100585 0.         0.         0.04112783\n",
      " 0.00833779 0.06365248 0.11166208 0.05399168 0.11876281 0.\n",
      " 0.05310701 0.09403993 0.12717758 0.         0.04109706 0.\n",
      " 0.         0.         0.         0.        ]\n",
      "estimatorn R2 score_test:  0.5745567688153106\n",
      "num: 7\n",
      "estimatorn R2 score:  0.6148552286822991 \n",
      "estimator_importances:  [0.00155446 0.03908387 0.00654288 0.01685402 0.00739254 0.03516151\n",
      " 0.00907373 0.00387023 0.12624709 0.04032181 0.00138015 0.00279312\n",
      " 0.         0.00166522 0.00271144 0.0052645  0.0386786  0.\n",
      " 0.00773245 0.         0.00083549 0.00190866 0.00967365 0.03537633\n",
      " 0.02321757 0.05287147 0.09274954 0.04484694 0.09925328 0.\n",
      " 0.04614573 0.0781121  0.10662259 0.02327096 0.03413632 0.\n",
      " 0.         0.         0.00465175 0.        ]\n",
      "estimatorn R2 score_test:  0.5912880122108723\n",
      "num: 8\n",
      "estimatorn R2 score:  0.625136811382707 \n",
      "estimator_importances:  [0.00363163 0.03642215 0.01538399 0.02490728 0.01440689 0.0379897\n",
      " 0.01050671 0.00941461 0.10803872 0.04244456 0.00151113 0.00351545\n",
      " 0.00427173 0.00385069 0.00229928 0.01199592 0.03245842 0.00367124\n",
      " 0.00856083 0.00054407 0.00070849 0.00161853 0.0097355  0.02999888\n",
      " 0.04408946 0.04483465 0.07967325 0.0380299  0.08418355 0.02352507\n",
      " 0.04107328 0.06623853 0.09207779 0.01973362 0.02894737 0.0085835\n",
      " 0.         0.         0.01070568 0.00041792]\n",
      "estimatorn R2 score_test:  0.5728542914171657\n",
      "num: 9\n",
      "estimatorn R2 score:  0.6363470531657325 \n",
      "estimator_importances:  [0.00565595 0.03853721 0.01897373 0.04560117 0.02117497 0.03968154\n",
      " 0.01719744 0.01242003 0.09234613 0.03915865 0.00204235 0.00353\n",
      " 0.00754006 0.00502647 0.01473894 0.02678453 0.03209542 0.00274681\n",
      " 0.00891121 0.00094985 0.00346825 0.00138344 0.00832142 0.02953143\n",
      " 0.0398439  0.03832243 0.06914648 0.03339399 0.07266413 0.02010806\n",
      " 0.04266592 0.05770038 0.079239   0.01921109 0.02474278 0.00943468\n",
      " 0.00186292 0.00138382 0.01153862 0.00092479]\n",
      "estimatorn R2 score_test:  0.5742632382294235\n",
      "num: 10\n",
      "estimatorn R2 score:  0.6472256309906802 \n",
      "estimator_importances:  [0.00605672 0.03968397 0.03261405 0.07065301 0.02831311 0.04961955\n",
      " 0.01551374 0.01736953 0.07743098 0.03812032 0.00292972 0.0044354\n",
      " 0.00697942 0.00410853 0.01361309 0.02318499 0.03605903 0.00356542\n",
      " 0.01385463 0.01082639 0.00362989 0.00399062 0.00752008 0.02442896\n",
      " 0.03578996 0.03287306 0.05771115 0.02800041 0.06274543 0.01686034\n",
      " 0.03642228 0.0558912  0.06644082 0.01668903 0.02155837 0.01446673\n",
      " 0.00497043 0.00262266 0.01089973 0.00155727]\n",
      "estimatorn R2 score_test:  0.5795467887753903\n"
     ]
    }
   ],
   "source": [
    "for num in list(range(1, 11)):\n",
    "    estimator = tree.DecisionTreeClassifier(\n",
    "        criterion='entropy', max_depth=(num))\n",
    "    estimator.fit(Xs_train, ys_train)\n",
    "    print(f\"num: {num}\")\n",
    "    print('estimatorn R2 score: ', estimator.score(Xs_train, ys_train),\n",
    "          '\\nestimator_importances: ', estimator.feature_importances_)\n",
    "    print('estimatorn R2 score_test: ', estimator.score(X_test, y_test))"
   ]
  },
  {
   "cell_type": "code",
   "execution_count": null,
   "metadata": {},
   "outputs": [],
   "source": [
    "m.reg_unbalanced(xs_train, ys_train, X_test, y_test)"
   ]
  },
  {
   "cell_type": "code",
   "execution_count": null,
   "metadata": {},
   "outputs": [],
   "source": [
    "from sklearn.preprocessing import StandardScaler\n",
    "scaler = StandardScaler()"
   ]
  },
  {
   "cell_type": "code",
   "execution_count": null,
   "metadata": {},
   "outputs": [],
   "source": [
    "len(ys_train)"
   ]
  },
  {
   "cell_type": "code",
   "execution_count": null,
   "metadata": {},
   "outputs": [],
   "source": [
    "X_train_cm = xs_train\n",
    "X_test_cm = X_test"
   ]
  },
  {
   "cell_type": "code",
   "execution_count": null,
   "metadata": {},
   "outputs": [],
   "source": [
    "from sklearn.preprocessing import StandardScaler\n",
    "scaler = StandardScaler()\n",
    "\n",
    "scaler.fit(X_train_cm)\n",
    "\n",
    "X_train_cm = scaler.transform(X_train_cm)\n",
    "\n",
    "X_test_cm = scaler.transform(X_test_cm)\n",
    "\n",
    "m.reg_unbalanced(X_train_cm, ys_train, X_test_cm, y_test)"
   ]
  },
  {
   "cell_type": "code",
   "execution_count": null,
   "metadata": {},
   "outputs": [],
   "source": [
    "m.smote(X_train_cm, y_train, X_test_cm, y_test)"
   ]
  },
  {
   "cell_type": "code",
   "execution_count": null,
   "metadata": {},
   "outputs": [],
   "source": [
    "corr"
   ]
  },
  {
   "cell_type": "code",
   "execution_count": null,
   "metadata": {},
   "outputs": [],
   "source": [
    "columns "
   ]
  },
  {
   "cell_type": "code",
   "execution_count": null,
   "metadata": {},
   "outputs": [],
   "source": [
    "m.run_all_regressions(X_no_nbr, y)"
   ]
  },
  {
   "cell_type": "code",
   "execution_count": null,
   "metadata": {},
   "outputs": [],
   "source": [
    "m.run_all_regressions(X, y)"
   ]
  },
  {
   "cell_type": "code",
   "execution_count": null,
   "metadata": {
    "scrolled": true
   },
   "outputs": [],
   "source": [
    "rfc = RandomForestClassifier(n_estimators=300, max_features= 'sqrt', max_depth= 5,  oob_score=True)\n",
    "cv = cross_validate(rfc, X, y, return_estimator=True, cv=5)\n",
    "est = cv['estimator'][3]\n",
    "\n",
    "print(est.oob_score_)\n",
    "\n",
    "index = X.columns.tolist()\n",
    "feat_imp = pd.DataFrame(est.feature_importances_, index = index, columns = ['importances'])\n",
    "feat_imp.sort_values(by = 'importances', ascending = False)"
   ]
  },
  {
   "cell_type": "code",
   "execution_count": null,
   "metadata": {},
   "outputs": [],
   "source": [
    "data = f.concat(X, y)"
   ]
  },
  {
   "cell_type": "code",
   "execution_count": null,
   "metadata": {},
   "outputs": [],
   "source": [
    "data_gluc = data.loc[(data['glu_200_300'] == 1) | (data['glu_over_300'] == 1) | (data['glu_norm'] == 1)]\n",
    "\n",
    "data_a1 = data.loc[(data['a1_7_8'] == 1) | (data['a1_norm'] == 1) | (data['al_over_8'] == 1)]\n",
    "\n",
    "data_gluc = data_gluc.drop(columns = ['icd_11', 'icd_14', 'icd_15', 'repaglinide_up', 'glimepiride_down',\n",
    "                                     'glimepiride_up', 'pioglitazone_down', 'pioglitazone_up',\n",
    "                                      'rosiglitazone_down', 'rosiglitazone_up'])\n",
    "\n",
    "X_gluc = data_gluc.drop(columns = ['readmitted'])\n",
    "y_gluc = data_gluc.readmitted"
   ]
  },
  {
   "cell_type": "code",
   "execution_count": null,
   "metadata": {},
   "outputs": [],
   "source": [
    "m.run_all_regressions(X_gluc, y_gluc)"
   ]
  },
  {
   "cell_type": "code",
   "execution_count": null,
   "metadata": {},
   "outputs": [],
   "source": [
    "rfc = RandomForestClassifier(n_estimators=300, max_features= 'sqrt', max_depth= 5,  oob_score=True)\n",
    "cv = cross_validate(rfc, X_gluc, y_gluc, return_estimator=True, cv=5)\n",
    "est = cv['estimator'][3]\n",
    "\n",
    "print(est.oob_score_)\n",
    "\n",
    "index = X_gluc.columns.tolist()\n",
    "feat_imp = pd.DataFrame(est.feature_importances_, index = index, columns = ['importances'])\n",
    "feat_imp.sort_values(by = 'importances', ascending = False)"
   ]
  },
  {
   "cell_type": "code",
   "execution_count": null,
   "metadata": {},
   "outputs": [],
   "source": [
    "def y_split_race(X_train, y_train):\n",
    "    training = pd.concat([X_train, y_train], axis=1)\n",
    "    training_aa = training[training['african_american'] == 1]\n",
    "    training_asian = training[training['asian'] == 1]\n",
    "    training_hispanic = training[training['hispanic'] == 1]\n",
    "    training_other = training[training['other'] == 1]\n",
    "    training_cauc = training[(training['african_american'] == 0) & (\n",
    "        training['asian'] == 0) & (training['hispanic'] == 0) & (training['other'] == 0)]\n",
    "    return training_aa, training_asian, training_hispanic, training_other, training_cauc"
   ]
  },
  {
   "cell_type": "code",
   "execution_count": null,
   "metadata": {},
   "outputs": [],
   "source": [
    "gluc_aa, gluc_asian, gluc_hispanic, gluc_other, gluc_cauc = y_split_race(X_gluc, y_gluc)\n",
    "\n",
    "gluc_aa_upsampled = resample(gluc_aa,\n",
    "                             replace=True,  # sample with replacement\n",
    "                             # match number in majority class\n",
    "                             n_samples=len(gluc_cauc),\n",
    "                             random_state=23)  # reproducible results\n",
    "gluc_asian_upsampled = resample(gluc_asian,\n",
    "                                replace=True,  # sample with replacement\n",
    "                                # match number in majority class\n",
    "                                n_samples=len(gluc_cauc),\n",
    "                                random_state=23)  # reproducible results\n",
    "gluc_hispanic_upsampled = resample(gluc_hispanic,\n",
    "                                   replace=True,  # sample with replacement\n",
    "                                   # match number in majority class\n",
    "                                   n_samples=len(gluc_cauc),\n",
    "                                   random_state=23)  # reproducible results\n",
    "gluc_other_upsampled = resample(gluc_other,\n",
    "                                replace=True,  # sample with replacement\n",
    "                                # match number in majority class\n",
    "                                n_samples=len(gluc_cauc),\n",
    "                                random_state=23)  # reproducible results\n",
    "\n",
    "upsampled = pd.concat([gluc_cauc, gluc_aa_upsampled, gluc_asian_upsampled,\n",
    "                       gluc_hispanic_upsampled, gluc_other_upsampled])\n",
    "\n",
    "upsampled_X = upsampled.drop(columns = ['readmitted'])\n",
    "upsampled_y = upsampled.readmitted\n",
    "\n",
    "X_train, X_test, y_train, y_test = train_test_split(\n",
    "    upsampled_X, upsampled_y, test_size=0.25, random_state=23)\n",
    "\n",
    "dummy_binary(X_train, y_train, X_test, y_test)\n",
    "\n",
    "reg_unbalanced(X_train, y_train, X_test, y_test)\n",
    "\n",
    "no, yes = y_split(X_train, y_train)\n",
    "\n",
    "upsample(no, yes, X_test, y_test)\n",
    "\n",
    "downsampled(no, yes, X_test, y_test)\n",
    "\n",
    "smote(upsampled_X, upsampled_y, test_size=0.25, random_state=23)\n",
    "\n",
    "rfc = RandomForestClassifier(n_estimators=300, max_features= 'sqrt', max_depth= 5,  oob_score=True)\n",
    "cv = cross_validate(rfc, upsampled_X, upsampled_y, return_estimator=True, cv=5)\n",
    "est = cv['estimator'][3]\n",
    "\n",
    "print(est.oob_score_)\n",
    "\n",
    "index = upsampled_X.columns.tolist()\n",
    "feat_imp = pd.DataFrame(est.feature_importances_, index = index, columns = ['importances'])\n",
    "feat_imp.sort_values(by = 'importances', ascending = False)\n",
    "\n",
    "rfc = RandomForestClassifier(n_estimators=300, max_features= 'sqrt', max_depth= 7,  oob_score=True)\n",
    "cv = cross_validate(rfc, upsampled_X, upsampled_y, return_estimator=True, cv=5)\n",
    "est = cv['estimator'][3]\n",
    "\n",
    "print(est.oob_score_)\n",
    "\n",
    "index = upsampled_X.columns.tolist()\n",
    "feat_imp = pd.DataFrame(est.feature_importances_, index = index, columns = ['importances'])\n",
    "feat_imp.sort_values(by = 'importances', ascending = False)"
   ]
  },
  {
   "cell_type": "code",
   "execution_count": null,
   "metadata": {},
   "outputs": [],
   "source": [
    "gluc_cauc_downsampled = resample(gluc_cauc,\n",
    "                             replace=True,  # sample with replacement\n",
    "                             # match number in majority class\n",
    "                             n_samples=len(gluc_aa),\n",
    "                             random_state=23)  # reproducible results\n",
    "gluc_asian_upsampled = resample(gluc_asian,\n",
    "                                replace=True,  # sample with replacement\n",
    "                                # match number in majority class\n",
    "                                n_samples=len(gluc_aa),\n",
    "                                random_state=23)  # reproducible results\n",
    "gluc_hispanic_upsampled = resample(gluc_hispanic,\n",
    "                                   replace=True,  # sample with replacement\n",
    "                                   # match number in majority class\n",
    "                                   n_samples=len(gluc_aa),\n",
    "                                   random_state=23)  # reproducible results\n",
    "gluc_other_upsampled = resample(gluc_other,\n",
    "                                replace=True,  # sample with replacement\n",
    "                                # match number in majority class\n",
    "                                n_samples=len(gluc_aa),\n",
    "                                random_state=23)  # reproducible results\n",
    "\n",
    "midsampled = pd.concat([gluc_cauc_downsampled, gluc_aa, gluc_asian_upsampled,\n",
    "                        gluc_hispanic_upsampled, gluc_other_upsampled])\n",
    "\n",
    "midsampled_X = midsampled.drop(columns = ['readmitted'])\n",
    "midsampled_y = midsampled.readmitted\n",
    "\n",
    "X_train, X_test, y_train, y_test = train_test_split(\n",
    "    midsampled_X, midsampled_y, test_size=0.25, random_state=23)\n",
    "\n",
    "dummy_binary(X_train, y_train, X_test, y_test)\n",
    "\n",
    "reg_unbalanced(X_train, y_train, X_test, y_test)\n",
    "\n",
    "no, yes = y_split(X_train, y_train)\n",
    "\n",
    "upsample(no, yes, X_test, y_test)\n",
    "\n",
    "downsampled(no, yes, X_test, y_test)\n",
    "\n",
    "smote(midsampled_X, midsampled_y, test_size=0.25, random_state=23)"
   ]
  },
  {
   "cell_type": "code",
   "execution_count": null,
   "metadata": {},
   "outputs": [],
   "source": [
    "data_a1 = data_a1.drop(columns = ['icd_15', 'repaglinide_down'])\n",
    "\n",
    "X_a1 = data_a1.drop(columns = ['readmitted'])\n",
    "y_a1 = data_a1.readmitted\n",
    "\n",
    "X_train, X_test, y_train, y_test = train_test_split(\n",
    "    X_a1, y_a1, test_size=0.25, random_state=23)\n",
    "\n",
    "dummy_binary(X_train, y_train, X_test, y_test)\n",
    "\n",
    "reg_unbalanced(X_train, y_train, X_test, y_test)\n",
    "\n",
    "no, yes = y_split(X_train, y_train)\n",
    "\n",
    "upsample(no, yes, X_test, y_test)\n",
    "\n",
    "downsampled(no, yes, X_test, y_test)\n",
    "\n",
    "smote(X_a1, y_a1, test_size=0.25, random_state=23)"
   ]
  },
  {
   "cell_type": "code",
   "execution_count": null,
   "metadata": {},
   "outputs": [],
   "source": [
    "data_a1_glu_200_300 = data_a1.loc[data_a1.glu_200_300 == 1]\n",
    "data_a1_glu_over_300 = data_a1.loc[data_a1.glu_over_300 == 1]\n",
    "data_a1_glu_norm = data_a1.loc[data_a1.glu_norm == 1]\n",
    "data_a1_glu_none = data_a1.loc[(data_a1.glu_norm == 0)&(data_a1.glu_over_300 == 0)&(data_a1.glu_200_300 == 0)]\n",
    "\n",
    "up_a1_glu_200_300 = resample(data_a1_glu_200_300,\n",
    "                             replace=True,  # sample with replacement\n",
    "                             # match number in majority class\n",
    "                             n_samples=3120,\n",
    "                             random_state=23)  # reproducible results\n",
    "up_a1_glu_over_300 = resample(data_a1_glu_over_300,\n",
    "                              replace=True,  # sample with replacement\n",
    "                              # match number in majority class\n",
    "                              n_samples=3120,\n",
    "                              random_state=23)  # reproducible results\n",
    "up_a1_glu_norm = resample(data_a1_glu_norm,\n",
    "                          replace=True,  # sample with replacement\n",
    "                          # match number in majority class\n",
    "                          n_samples=3120,\n",
    "                          random_state=23)  # reproducible results\n",
    "up_a1_glu_none = resample(data_a1_glu_none,\n",
    "                          replace=True,  # sample with replacement\n",
    "                          # match number in majority class\n",
    "                          n_samples=3120,\n",
    "                          random_state=23)  # reproducible results\n",
    "\n",
    "up_a1_gluc = pd.concat([up_a1_glu_200_300, up_a1_glu_over_300, up_a1_glu_norm])\n",
    "\n",
    "up_a1_gluc_X = up_a1_gluc.drop(columns=['readmitted'])\n",
    "up_a1_gluc_y = up_a1_gluc.readmitted\n",
    "\n",
    "X_train, X_test, y_train, y_test = train_test_split(\n",
    "    up_a1_gluc_X, up_a1_gluc_y, test_size=0.25, random_state=23)\n",
    "\n",
    "dummy_binary(X_train, y_train, X_test, y_test)\n",
    "\n",
    "reg_unbalanced(X_train, y_train, X_test, y_test)\n",
    "\n",
    "no, yes = y_split(X_train, y_train)\n",
    "\n",
    "upsample(no, yes, X_test, y_test)\n",
    "\n",
    "downsampled(no, yes, X_test, y_test)\n",
    "\n",
    "smote(up_a1_gluc_X, up_a1_gluc_y, test_size=0.25, random_state=23)"
   ]
  }
 ],
 "metadata": {
  "kernelspec": {
   "display_name": "Python 3",
   "language": "python",
   "name": "python3"
  },
  "language_info": {
   "codemirror_mode": {
    "name": "ipython",
    "version": 3
   },
   "file_extension": ".py",
   "mimetype": "text/x-python",
   "name": "python",
   "nbconvert_exporter": "python",
   "pygments_lexer": "ipython3",
   "version": "3.7.3"
  }
 },
 "nbformat": 4,
 "nbformat_minor": 2
}
