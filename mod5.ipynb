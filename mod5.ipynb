{
 "cells": [
  {
   "cell_type": "code",
   "execution_count": 18,
   "metadata": {},
   "outputs": [
    {
     "name": "stdout",
     "output_type": "stream",
     "text": [
      "The autoreload extension is already loaded. To reload it, use:\n",
      "  %reload_ext autoreload\n"
     ]
    }
   ],
   "source": [
    "import pandas as pd\n",
    "import numpy as np\n",
    "import swifter\n",
    "import matplotlib.pyplot as plt\n",
    "%matplotlib inline\n",
    "from matplotlib import style\n",
    "style.use('ggplot')\n",
    "import seaborn as sns\n",
    "import operator\n",
    "import data_prep as d\n",
    "import functions as f\n",
    "from sklearn.linear_model import LogisticRegression\n",
    "from sklearn.preprocessing import OneHotEncoder\n",
    "from sklearn.model_selection import train_test_split\n",
    "from sklearn.dummy import DummyClassifier\n",
    "from sklearn.metrics import accuracy_score, f1_score, confusion_matrix\n",
    "from sklearn.utils import resample\n",
    "from sklearn import tree\n",
    "from sklearn.ensemble import RandomForestClassifier\n",
    "from sklearn.model_selection import cross_validate\n",
    "from yellowbrick.classifier import ConfusionMatrix\n",
    "from imblearn.over_sampling import SMOTE\n",
    "%load_ext autoreload\n",
    "%autoreload 2\n",
    "pd.set_option('display.max_columns', None)"
   ]
  },
  {
   "cell_type": "code",
   "execution_count": 2,
   "metadata": {
    "scrolled": true
   },
   "outputs": [
    {
     "name": "stdout",
     "output_type": "stream",
     "text": [
      "Upload\n",
      "y_clean\n",
      "column_drop\n",
      "null_value_drop\n",
      "x_clean\n",
      "values_lower\n",
      "column_lowercase\n"
     ]
    },
    {
     "data": {
      "application/vnd.jupyter.widget-view+json": {
       "model_id": "30bdb516530f4dabb7f4cdcf13eba1df",
       "version_major": 2,
       "version_minor": 0
      },
      "text/plain": [
       "HBox(children=(IntProgress(value=0, description='Pandas Apply', max=99491, style=ProgressStyle(description_wid…"
      ]
     },
     "metadata": {},
     "output_type": "display_data"
    },
    {
     "name": "stdout",
     "output_type": "stream",
     "text": [
      "\n"
     ]
    },
    {
     "data": {
      "application/vnd.jupyter.widget-view+json": {
       "model_id": "7651a7f78fc64bff9a14f49a04d6635c",
       "version_major": 2,
       "version_minor": 0
      },
      "text/plain": [
       "HBox(children=(IntProgress(value=0, description='Pandas Apply', max=99491, style=ProgressStyle(description_wid…"
      ]
     },
     "metadata": {},
     "output_type": "display_data"
    },
    {
     "name": "stdout",
     "output_type": "stream",
     "text": [
      "\n"
     ]
    },
    {
     "data": {
      "application/vnd.jupyter.widget-view+json": {
       "model_id": "8085daf9df284d9598ce56c11a6b4a87",
       "version_major": 2,
       "version_minor": 0
      },
      "text/plain": [
       "HBox(children=(IntProgress(value=0, description='Pandas Apply', max=99491, style=ProgressStyle(description_wid…"
      ]
     },
     "metadata": {},
     "output_type": "display_data"
    },
    {
     "name": "stdout",
     "output_type": "stream",
     "text": [
      "\n"
     ]
    },
    {
     "name": "stderr",
     "output_type": "stream",
     "text": [
      "C:\\Users\\Rocio\\Desktop\\Class_files\\Projects\\mod_5_project\\Hospital_Readmittance_Rates_Diabetes\\data_prep.py:283: FutureWarning: The signature of `Series.to_csv` was aligned to that of `DataFrame.to_csv`, and argument 'header' will change its default value from False to True: please pass an explicit value to suppress this warning.\n",
      "  y_2.to_csv('./data/y_cleaned.csv', index=None)\n"
     ]
    }
   ],
   "source": [
    "X, y = d.clean_1_5()"
   ]
  },
  {
   "cell_type": "code",
   "execution_count": 3,
   "metadata": {
    "scrolled": true
   },
   "outputs": [
    {
     "data": {
      "application/vnd.jupyter.widget-view+json": {
       "model_id": "62d20bf8e3b7499591672274d053265f",
       "version_major": 2,
       "version_minor": 0
      },
      "text/plain": [
       "HBox(children=(IntProgress(value=0, description='Pandas Apply', max=99491, style=ProgressStyle(description_wid…"
      ]
     },
     "metadata": {},
     "output_type": "display_data"
    },
    {
     "name": "stdout",
     "output_type": "stream",
     "text": [
      "\n"
     ]
    },
    {
     "data": {
      "application/vnd.jupyter.widget-view+json": {
       "model_id": "2e88b9ad7edb4c84a79e765362b8afc8",
       "version_major": 2,
       "version_minor": 0
      },
      "text/plain": [
       "HBox(children=(IntProgress(value=0, description='Pandas Apply', max=99491, style=ProgressStyle(description_wid…"
      ]
     },
     "metadata": {},
     "output_type": "display_data"
    },
    {
     "name": "stdout",
     "output_type": "stream",
     "text": [
      "\n"
     ]
    },
    {
     "data": {
      "application/vnd.jupyter.widget-view+json": {
       "model_id": "fa0a900e5e4c4b068468b6c01af92001",
       "version_major": 2,
       "version_minor": 0
      },
      "text/plain": [
       "HBox(children=(IntProgress(value=0, description='Pandas Apply', max=99491, style=ProgressStyle(description_wid…"
      ]
     },
     "metadata": {},
     "output_type": "display_data"
    },
    {
     "name": "stdout",
     "output_type": "stream",
     "text": [
      "\n"
     ]
    },
    {
     "data": {
      "application/vnd.jupyter.widget-view+json": {
       "model_id": "c9725a1e885c4c9d9a7aee8e32b2b016",
       "version_major": 2,
       "version_minor": 0
      },
      "text/plain": [
       "HBox(children=(IntProgress(value=0, description='Pandas Apply', max=99491, style=ProgressStyle(description_wid…"
      ]
     },
     "metadata": {},
     "output_type": "display_data"
    },
    {
     "name": "stdout",
     "output_type": "stream",
     "text": [
      "\n"
     ]
    },
    {
     "data": {
      "application/vnd.jupyter.widget-view+json": {
       "model_id": "d6dbd69b9e644caba23eb0606b4f2001",
       "version_major": 2,
       "version_minor": 0
      },
      "text/plain": [
       "HBox(children=(IntProgress(value=0, description='Pandas Apply', max=99491, style=ProgressStyle(description_wid…"
      ]
     },
     "metadata": {},
     "output_type": "display_data"
    },
    {
     "name": "stdout",
     "output_type": "stream",
     "text": [
      "\n"
     ]
    },
    {
     "data": {
      "application/vnd.jupyter.widget-view+json": {
       "model_id": "29b2308314194ad4b644fca4613a6a3a",
       "version_major": 2,
       "version_minor": 0
      },
      "text/plain": [
       "HBox(children=(IntProgress(value=0, description='Pandas Apply', max=99491, style=ProgressStyle(description_wid…"
      ]
     },
     "metadata": {},
     "output_type": "display_data"
    },
    {
     "name": "stdout",
     "output_type": "stream",
     "text": [
      "\n"
     ]
    },
    {
     "data": {
      "application/vnd.jupyter.widget-view+json": {
       "model_id": "676a2a777052484eb0d429b153c667ac",
       "version_major": 2,
       "version_minor": 0
      },
      "text/plain": [
       "HBox(children=(IntProgress(value=0, description='Pandas Apply', max=99491, style=ProgressStyle(description_wid…"
      ]
     },
     "metadata": {},
     "output_type": "display_data"
    },
    {
     "name": "stdout",
     "output_type": "stream",
     "text": [
      "\n"
     ]
    },
    {
     "data": {
      "application/vnd.jupyter.widget-view+json": {
       "model_id": "f8c0f2388c4041f4b3384a1ad76a975b",
       "version_major": 2,
       "version_minor": 0
      },
      "text/plain": [
       "HBox(children=(IntProgress(value=0, description='Pandas Apply', max=99491, style=ProgressStyle(description_wid…"
      ]
     },
     "metadata": {},
     "output_type": "display_data"
    },
    {
     "name": "stdout",
     "output_type": "stream",
     "text": [
      "\n"
     ]
    },
    {
     "data": {
      "application/vnd.jupyter.widget-view+json": {
       "model_id": "38e982a3919b4c1da619b012bf181305",
       "version_major": 2,
       "version_minor": 0
      },
      "text/plain": [
       "HBox(children=(IntProgress(value=0, description='Pandas Apply', max=99491, style=ProgressStyle(description_wid…"
      ]
     },
     "metadata": {},
     "output_type": "display_data"
    },
    {
     "name": "stdout",
     "output_type": "stream",
     "text": [
      "\n"
     ]
    },
    {
     "data": {
      "application/vnd.jupyter.widget-view+json": {
       "model_id": "0b3beb5e798f44c78221fdf76d077f57",
       "version_major": 2,
       "version_minor": 0
      },
      "text/plain": [
       "HBox(children=(IntProgress(value=0, description='Pandas Apply', max=99491, style=ProgressStyle(description_wid…"
      ]
     },
     "metadata": {},
     "output_type": "display_data"
    },
    {
     "name": "stdout",
     "output_type": "stream",
     "text": [
      "\n"
     ]
    },
    {
     "data": {
      "application/vnd.jupyter.widget-view+json": {
       "model_id": "adda87f07b724b4e81439b199651f5e2",
       "version_major": 2,
       "version_minor": 0
      },
      "text/plain": [
       "HBox(children=(IntProgress(value=0, description='Pandas Apply', max=99491, style=ProgressStyle(description_wid…"
      ]
     },
     "metadata": {},
     "output_type": "display_data"
    },
    {
     "name": "stdout",
     "output_type": "stream",
     "text": [
      "\n"
     ]
    },
    {
     "data": {
      "application/vnd.jupyter.widget-view+json": {
       "model_id": "a3313d1f4fc24f9ea567ce02ae977884",
       "version_major": 2,
       "version_minor": 0
      },
      "text/plain": [
       "HBox(children=(IntProgress(value=0, description='Pandas Apply', max=99491, style=ProgressStyle(description_wid…"
      ]
     },
     "metadata": {},
     "output_type": "display_data"
    },
    {
     "name": "stdout",
     "output_type": "stream",
     "text": [
      "\n"
     ]
    },
    {
     "data": {
      "application/vnd.jupyter.widget-view+json": {
       "model_id": "711b1717a6004463b425f23711ed2358",
       "version_major": 2,
       "version_minor": 0
      },
      "text/plain": [
       "HBox(children=(IntProgress(value=0, description='Pandas Apply', max=99491, style=ProgressStyle(description_wid…"
      ]
     },
     "metadata": {},
     "output_type": "display_data"
    },
    {
     "name": "stdout",
     "output_type": "stream",
     "text": [
      "\n"
     ]
    },
    {
     "data": {
      "application/vnd.jupyter.widget-view+json": {
       "model_id": "1e2c14f1262c43b6bdbdcd4143337502",
       "version_major": 2,
       "version_minor": 0
      },
      "text/plain": [
       "HBox(children=(IntProgress(value=0, description='Pandas Apply', max=99491, style=ProgressStyle(description_wid…"
      ]
     },
     "metadata": {},
     "output_type": "display_data"
    },
    {
     "name": "stdout",
     "output_type": "stream",
     "text": [
      "\n"
     ]
    },
    {
     "data": {
      "application/vnd.jupyter.widget-view+json": {
       "model_id": "6d2a42d0cde74fe79f787f3c0bfc5103",
       "version_major": 2,
       "version_minor": 0
      },
      "text/plain": [
       "HBox(children=(IntProgress(value=0, description='Pandas Apply', max=99491, style=ProgressStyle(description_wid…"
      ]
     },
     "metadata": {},
     "output_type": "display_data"
    },
    {
     "name": "stdout",
     "output_type": "stream",
     "text": [
      "\n"
     ]
    },
    {
     "data": {
      "application/vnd.jupyter.widget-view+json": {
       "model_id": "9b5c170a0e474d03ab456d1469b451da",
       "version_major": 2,
       "version_minor": 0
      },
      "text/plain": [
       "HBox(children=(IntProgress(value=0, description='Pandas Apply', max=99491, style=ProgressStyle(description_wid…"
      ]
     },
     "metadata": {},
     "output_type": "display_data"
    },
    {
     "name": "stdout",
     "output_type": "stream",
     "text": [
      "\n"
     ]
    },
    {
     "data": {
      "application/vnd.jupyter.widget-view+json": {
       "model_id": "d81816fa20314bf888582b282c915ba6",
       "version_major": 2,
       "version_minor": 0
      },
      "text/plain": [
       "HBox(children=(IntProgress(value=0, description='Pandas Apply', max=99491, style=ProgressStyle(description_wid…"
      ]
     },
     "metadata": {},
     "output_type": "display_data"
    },
    {
     "name": "stdout",
     "output_type": "stream",
     "text": [
      "\n"
     ]
    },
    {
     "data": {
      "application/vnd.jupyter.widget-view+json": {
       "model_id": "f86a024d23184aebb0907f51ed493e76",
       "version_major": 2,
       "version_minor": 0
      },
      "text/plain": [
       "HBox(children=(IntProgress(value=0, description='Pandas Apply', max=99491, style=ProgressStyle(description_wid…"
      ]
     },
     "metadata": {},
     "output_type": "display_data"
    },
    {
     "name": "stdout",
     "output_type": "stream",
     "text": [
      "\n"
     ]
    },
    {
     "data": {
      "application/vnd.jupyter.widget-view+json": {
       "model_id": "3716dd614fa24a7196125eeb1863753b",
       "version_major": 2,
       "version_minor": 0
      },
      "text/plain": [
       "HBox(children=(IntProgress(value=0, description='Pandas Apply', max=99491, style=ProgressStyle(description_wid…"
      ]
     },
     "metadata": {},
     "output_type": "display_data"
    },
    {
     "name": "stdout",
     "output_type": "stream",
     "text": [
      "\n"
     ]
    },
    {
     "data": {
      "application/vnd.jupyter.widget-view+json": {
       "model_id": "8469c81f3c6a4f719785cde37ad266e9",
       "version_major": 2,
       "version_minor": 0
      },
      "text/plain": [
       "HBox(children=(IntProgress(value=0, description='Pandas Apply', max=99491, style=ProgressStyle(description_wid…"
      ]
     },
     "metadata": {},
     "output_type": "display_data"
    },
    {
     "name": "stdout",
     "output_type": "stream",
     "text": [
      "\n"
     ]
    },
    {
     "data": {
      "application/vnd.jupyter.widget-view+json": {
       "model_id": "92db996ecce04e8a81beb7c9079eafa0",
       "version_major": 2,
       "version_minor": 0
      },
      "text/plain": [
       "HBox(children=(IntProgress(value=0, description='Pandas Apply', max=99491, style=ProgressStyle(description_wid…"
      ]
     },
     "metadata": {},
     "output_type": "display_data"
    },
    {
     "name": "stdout",
     "output_type": "stream",
     "text": [
      "\n"
     ]
    }
   ],
   "source": [
    "X = d.clean_2_5(X)"
   ]
  },
  {
   "cell_type": "code",
   "execution_count": 4,
   "metadata": {},
   "outputs": [
    {
     "data": {
      "application/vnd.jupyter.widget-view+json": {
       "model_id": "d4c86bc75d1a40448726629b8213789d",
       "version_major": 2,
       "version_minor": 0
      },
      "text/plain": [
       "HBox(children=(IntProgress(value=0, description='Pandas Apply', max=99491, style=ProgressStyle(description_wid…"
      ]
     },
     "metadata": {},
     "output_type": "display_data"
    },
    {
     "name": "stdout",
     "output_type": "stream",
     "text": [
      "\n"
     ]
    },
    {
     "data": {
      "application/vnd.jupyter.widget-view+json": {
       "model_id": "5cdbea5ca93a4e308ece0cedc0a73c1a",
       "version_major": 2,
       "version_minor": 0
      },
      "text/plain": [
       "HBox(children=(IntProgress(value=0, description='Pandas Apply', max=99491, style=ProgressStyle(description_wid…"
      ]
     },
     "metadata": {},
     "output_type": "display_data"
    },
    {
     "name": "stdout",
     "output_type": "stream",
     "text": [
      "\n"
     ]
    },
    {
     "data": {
      "application/vnd.jupyter.widget-view+json": {
       "model_id": "e73e14b927874e9f8beebe96791515d2",
       "version_major": 2,
       "version_minor": 0
      },
      "text/plain": [
       "HBox(children=(IntProgress(value=0, description='Pandas Apply', max=99491, style=ProgressStyle(description_wid…"
      ]
     },
     "metadata": {},
     "output_type": "display_data"
    },
    {
     "name": "stdout",
     "output_type": "stream",
     "text": [
      "\n"
     ]
    },
    {
     "data": {
      "application/vnd.jupyter.widget-view+json": {
       "model_id": "16fc23492e154cf3bbc3527d99b4d04b",
       "version_major": 2,
       "version_minor": 0
      },
      "text/plain": [
       "HBox(children=(IntProgress(value=0, description='Pandas Apply', max=99491, style=ProgressStyle(description_wid…"
      ]
     },
     "metadata": {},
     "output_type": "display_data"
    },
    {
     "name": "stdout",
     "output_type": "stream",
     "text": [
      "\n"
     ]
    },
    {
     "data": {
      "application/vnd.jupyter.widget-view+json": {
       "model_id": "ebc10777272f4756a96daefa524d7e99",
       "version_major": 2,
       "version_minor": 0
      },
      "text/plain": [
       "HBox(children=(IntProgress(value=0, description='Pandas Apply', max=99491, style=ProgressStyle(description_wid…"
      ]
     },
     "metadata": {},
     "output_type": "display_data"
    },
    {
     "name": "stdout",
     "output_type": "stream",
     "text": [
      "\n"
     ]
    },
    {
     "data": {
      "application/vnd.jupyter.widget-view+json": {
       "model_id": "3c76a638154a4b0caa61c87d037cac69",
       "version_major": 2,
       "version_minor": 0
      },
      "text/plain": [
       "HBox(children=(IntProgress(value=0, description='Pandas Apply', max=99491, style=ProgressStyle(description_wid…"
      ]
     },
     "metadata": {},
     "output_type": "display_data"
    },
    {
     "name": "stdout",
     "output_type": "stream",
     "text": [
      "\n"
     ]
    },
    {
     "data": {
      "application/vnd.jupyter.widget-view+json": {
       "model_id": "09d8f54a3c174828bc3605beef539e35",
       "version_major": 2,
       "version_minor": 0
      },
      "text/plain": [
       "HBox(children=(IntProgress(value=0, description='Pandas Apply', max=99491, style=ProgressStyle(description_wid…"
      ]
     },
     "metadata": {},
     "output_type": "display_data"
    },
    {
     "name": "stdout",
     "output_type": "stream",
     "text": [
      "\n"
     ]
    },
    {
     "data": {
      "application/vnd.jupyter.widget-view+json": {
       "model_id": "8cbfad1707e6477fa5ee8d1360aca915",
       "version_major": 2,
       "version_minor": 0
      },
      "text/plain": [
       "HBox(children=(IntProgress(value=0, description='Pandas Apply', max=99491, style=ProgressStyle(description_wid…"
      ]
     },
     "metadata": {},
     "output_type": "display_data"
    },
    {
     "name": "stdout",
     "output_type": "stream",
     "text": [
      "\n"
     ]
    },
    {
     "data": {
      "application/vnd.jupyter.widget-view+json": {
       "model_id": "cc16652516234dd6b2c145ca2c20f382",
       "version_major": 2,
       "version_minor": 0
      },
      "text/plain": [
       "HBox(children=(IntProgress(value=0, description='Pandas Apply', max=99491, style=ProgressStyle(description_wid…"
      ]
     },
     "metadata": {},
     "output_type": "display_data"
    },
    {
     "name": "stdout",
     "output_type": "stream",
     "text": [
      "\n"
     ]
    },
    {
     "data": {
      "application/vnd.jupyter.widget-view+json": {
       "model_id": "c3ecd47701624dfe8ea6432b291f8f1a",
       "version_major": 2,
       "version_minor": 0
      },
      "text/plain": [
       "HBox(children=(IntProgress(value=0, description='Pandas Apply', max=99491, style=ProgressStyle(description_wid…"
      ]
     },
     "metadata": {},
     "output_type": "display_data"
    },
    {
     "name": "stdout",
     "output_type": "stream",
     "text": [
      "\n"
     ]
    },
    {
     "data": {
      "application/vnd.jupyter.widget-view+json": {
       "model_id": "2c1416f1fa7b4bb1bc42d023caa43525",
       "version_major": 2,
       "version_minor": 0
      },
      "text/plain": [
       "HBox(children=(IntProgress(value=0, description='Pandas Apply', max=99491, style=ProgressStyle(description_wid…"
      ]
     },
     "metadata": {},
     "output_type": "display_data"
    },
    {
     "name": "stdout",
     "output_type": "stream",
     "text": [
      "\n"
     ]
    },
    {
     "data": {
      "application/vnd.jupyter.widget-view+json": {
       "model_id": "1b11699e5218496e8d324d8b60e961ea",
       "version_major": 2,
       "version_minor": 0
      },
      "text/plain": [
       "HBox(children=(IntProgress(value=0, description='Pandas Apply', max=99491, style=ProgressStyle(description_wid…"
      ]
     },
     "metadata": {},
     "output_type": "display_data"
    },
    {
     "name": "stdout",
     "output_type": "stream",
     "text": [
      "\n"
     ]
    },
    {
     "data": {
      "application/vnd.jupyter.widget-view+json": {
       "model_id": "832f64f7358f48c48b16577cba005f18",
       "version_major": 2,
       "version_minor": 0
      },
      "text/plain": [
       "HBox(children=(IntProgress(value=0, description='Pandas Apply', max=99491, style=ProgressStyle(description_wid…"
      ]
     },
     "metadata": {},
     "output_type": "display_data"
    },
    {
     "name": "stdout",
     "output_type": "stream",
     "text": [
      "\n"
     ]
    },
    {
     "data": {
      "application/vnd.jupyter.widget-view+json": {
       "model_id": "38375553eb4c48b0b82f88ab0fa95866",
       "version_major": 2,
       "version_minor": 0
      },
      "text/plain": [
       "HBox(children=(IntProgress(value=0, description='Pandas Apply', max=99491, style=ProgressStyle(description_wid…"
      ]
     },
     "metadata": {},
     "output_type": "display_data"
    },
    {
     "name": "stdout",
     "output_type": "stream",
     "text": [
      "\n"
     ]
    },
    {
     "data": {
      "application/vnd.jupyter.widget-view+json": {
       "model_id": "166b8e78f31d4dd4a77c1f7ba47ca749",
       "version_major": 2,
       "version_minor": 0
      },
      "text/plain": [
       "HBox(children=(IntProgress(value=0, description='Pandas Apply', max=99491, style=ProgressStyle(description_wid…"
      ]
     },
     "metadata": {},
     "output_type": "display_data"
    },
    {
     "name": "stdout",
     "output_type": "stream",
     "text": [
      "\n"
     ]
    },
    {
     "data": {
      "application/vnd.jupyter.widget-view+json": {
       "model_id": "fc318abc6c0c47cc822ec32b95ca4ab0",
       "version_major": 2,
       "version_minor": 0
      },
      "text/plain": [
       "HBox(children=(IntProgress(value=0, description='Pandas Apply', max=99491, style=ProgressStyle(description_wid…"
      ]
     },
     "metadata": {},
     "output_type": "display_data"
    },
    {
     "name": "stdout",
     "output_type": "stream",
     "text": [
      "\n"
     ]
    },
    {
     "data": {
      "application/vnd.jupyter.widget-view+json": {
       "model_id": "689fe135bc664e07b8227d0899ba8a7c",
       "version_major": 2,
       "version_minor": 0
      },
      "text/plain": [
       "HBox(children=(IntProgress(value=0, description='Pandas Apply', max=99491, style=ProgressStyle(description_wid…"
      ]
     },
     "metadata": {},
     "output_type": "display_data"
    },
    {
     "name": "stdout",
     "output_type": "stream",
     "text": [
      "\n"
     ]
    },
    {
     "data": {
      "application/vnd.jupyter.widget-view+json": {
       "model_id": "60148600c54340eda847aa53e64af3dc",
       "version_major": 2,
       "version_minor": 0
      },
      "text/plain": [
       "HBox(children=(IntProgress(value=0, description='Pandas Apply', max=99491, style=ProgressStyle(description_wid…"
      ]
     },
     "metadata": {},
     "output_type": "display_data"
    },
    {
     "name": "stdout",
     "output_type": "stream",
     "text": [
      "\n"
     ]
    },
    {
     "data": {
      "application/vnd.jupyter.widget-view+json": {
       "model_id": "05d22c88ab75477fbdcd9e4a9fc2a831",
       "version_major": 2,
       "version_minor": 0
      },
      "text/plain": [
       "HBox(children=(IntProgress(value=0, description='Pandas Apply', max=99491, style=ProgressStyle(description_wid…"
      ]
     },
     "metadata": {},
     "output_type": "display_data"
    },
    {
     "name": "stdout",
     "output_type": "stream",
     "text": [
      "\n"
     ]
    },
    {
     "data": {
      "application/vnd.jupyter.widget-view+json": {
       "model_id": "4cd4b95949ef453694e90165089efcfa",
       "version_major": 2,
       "version_minor": 0
      },
      "text/plain": [
       "HBox(children=(IntProgress(value=0, description='Pandas Apply', max=99491, style=ProgressStyle(description_wid…"
      ]
     },
     "metadata": {},
     "output_type": "display_data"
    },
    {
     "name": "stdout",
     "output_type": "stream",
     "text": [
      "\n"
     ]
    },
    {
     "data": {
      "application/vnd.jupyter.widget-view+json": {
       "model_id": "d6a7443a953c48939a900941b696efd6",
       "version_major": 2,
       "version_minor": 0
      },
      "text/plain": [
       "HBox(children=(IntProgress(value=0, description='Pandas Apply', max=99491, style=ProgressStyle(description_wid…"
      ]
     },
     "metadata": {},
     "output_type": "display_data"
    },
    {
     "name": "stdout",
     "output_type": "stream",
     "text": [
      "\n"
     ]
    }
   ],
   "source": [
    "X = d.clean_3_5(X)"
   ]
  },
  {
   "cell_type": "code",
   "execution_count": 5,
   "metadata": {},
   "outputs": [
    {
     "data": {
      "application/vnd.jupyter.widget-view+json": {
       "model_id": "930bc8eac53f42aabe6ba7b486f02e48",
       "version_major": 2,
       "version_minor": 0
      },
      "text/plain": [
       "HBox(children=(IntProgress(value=0, description='Pandas Apply', max=99491, style=ProgressStyle(description_wid…"
      ]
     },
     "metadata": {},
     "output_type": "display_data"
    },
    {
     "name": "stdout",
     "output_type": "stream",
     "text": [
      "\n"
     ]
    },
    {
     "data": {
      "application/vnd.jupyter.widget-view+json": {
       "model_id": "d0ed6fa63b6a4036bb94f8b3e6de6e5b",
       "version_major": 2,
       "version_minor": 0
      },
      "text/plain": [
       "HBox(children=(IntProgress(value=0, description='Pandas Apply', max=99491, style=ProgressStyle(description_wid…"
      ]
     },
     "metadata": {},
     "output_type": "display_data"
    },
    {
     "name": "stdout",
     "output_type": "stream",
     "text": [
      "\n"
     ]
    },
    {
     "data": {
      "application/vnd.jupyter.widget-view+json": {
       "model_id": "2af01c0db4f04440b9f8224bfb7b2b19",
       "version_major": 2,
       "version_minor": 0
      },
      "text/plain": [
       "HBox(children=(IntProgress(value=0, description='Pandas Apply', max=99491, style=ProgressStyle(description_wid…"
      ]
     },
     "metadata": {},
     "output_type": "display_data"
    },
    {
     "name": "stdout",
     "output_type": "stream",
     "text": [
      "\n"
     ]
    },
    {
     "data": {
      "application/vnd.jupyter.widget-view+json": {
       "model_id": "3e65e516548942f084e766b1b80fe4fe",
       "version_major": 2,
       "version_minor": 0
      },
      "text/plain": [
       "HBox(children=(IntProgress(value=0, description='Pandas Apply', max=99491, style=ProgressStyle(description_wid…"
      ]
     },
     "metadata": {},
     "output_type": "display_data"
    },
    {
     "name": "stdout",
     "output_type": "stream",
     "text": [
      "\n"
     ]
    },
    {
     "data": {
      "application/vnd.jupyter.widget-view+json": {
       "model_id": "6a2063dc7a534c5d9b4019b9b32e4e0d",
       "version_major": 2,
       "version_minor": 0
      },
      "text/plain": [
       "HBox(children=(IntProgress(value=0, description='Pandas Apply', max=99491, style=ProgressStyle(description_wid…"
      ]
     },
     "metadata": {},
     "output_type": "display_data"
    },
    {
     "name": "stdout",
     "output_type": "stream",
     "text": [
      "\n"
     ]
    },
    {
     "data": {
      "application/vnd.jupyter.widget-view+json": {
       "model_id": "0e30f46687254c36a8f5534216783985",
       "version_major": 2,
       "version_minor": 0
      },
      "text/plain": [
       "HBox(children=(IntProgress(value=0, description='Pandas Apply', max=99491, style=ProgressStyle(description_wid…"
      ]
     },
     "metadata": {},
     "output_type": "display_data"
    },
    {
     "name": "stdout",
     "output_type": "stream",
     "text": [
      "\n"
     ]
    },
    {
     "data": {
      "application/vnd.jupyter.widget-view+json": {
       "model_id": "fda9fe89647247f5a5c93309330847f9",
       "version_major": 2,
       "version_minor": 0
      },
      "text/plain": [
       "HBox(children=(IntProgress(value=0, description='Pandas Apply', max=99491, style=ProgressStyle(description_wid…"
      ]
     },
     "metadata": {},
     "output_type": "display_data"
    },
    {
     "name": "stdout",
     "output_type": "stream",
     "text": [
      "\n"
     ]
    },
    {
     "data": {
      "application/vnd.jupyter.widget-view+json": {
       "model_id": "16c6048420e2445c95877b260ff1659d",
       "version_major": 2,
       "version_minor": 0
      },
      "text/plain": [
       "HBox(children=(IntProgress(value=0, description='Pandas Apply', max=99491, style=ProgressStyle(description_wid…"
      ]
     },
     "metadata": {},
     "output_type": "display_data"
    },
    {
     "name": "stdout",
     "output_type": "stream",
     "text": [
      "\n"
     ]
    },
    {
     "data": {
      "application/vnd.jupyter.widget-view+json": {
       "model_id": "9f1d43fc19af42f4b3497a57f81b1595",
       "version_major": 2,
       "version_minor": 0
      },
      "text/plain": [
       "HBox(children=(IntProgress(value=0, description='Pandas Apply', max=99491, style=ProgressStyle(description_wid…"
      ]
     },
     "metadata": {},
     "output_type": "display_data"
    },
    {
     "name": "stdout",
     "output_type": "stream",
     "text": [
      "\n"
     ]
    },
    {
     "data": {
      "application/vnd.jupyter.widget-view+json": {
       "model_id": "3f257268e3aa400d991261a9e7b96f7d",
       "version_major": 2,
       "version_minor": 0
      },
      "text/plain": [
       "HBox(children=(IntProgress(value=0, description='Pandas Apply', max=99491, style=ProgressStyle(description_wid…"
      ]
     },
     "metadata": {},
     "output_type": "display_data"
    },
    {
     "name": "stdout",
     "output_type": "stream",
     "text": [
      "\n"
     ]
    },
    {
     "data": {
      "application/vnd.jupyter.widget-view+json": {
       "model_id": "1022fbda25db46e2b3ef03fff21c42e7",
       "version_major": 2,
       "version_minor": 0
      },
      "text/plain": [
       "HBox(children=(IntProgress(value=0, description='Pandas Apply', max=99491, style=ProgressStyle(description_wid…"
      ]
     },
     "metadata": {},
     "output_type": "display_data"
    },
    {
     "name": "stdout",
     "output_type": "stream",
     "text": [
      "\n"
     ]
    },
    {
     "data": {
      "application/vnd.jupyter.widget-view+json": {
       "model_id": "3d0babc847744355a513b5060f1d23ae",
       "version_major": 2,
       "version_minor": 0
      },
      "text/plain": [
       "HBox(children=(IntProgress(value=0, description='Pandas Apply', max=99491, style=ProgressStyle(description_wid…"
      ]
     },
     "metadata": {},
     "output_type": "display_data"
    },
    {
     "name": "stdout",
     "output_type": "stream",
     "text": [
      "\n"
     ]
    },
    {
     "data": {
      "application/vnd.jupyter.widget-view+json": {
       "model_id": "7d608aea3ca44b25ad36fcada10d64f4",
       "version_major": 2,
       "version_minor": 0
      },
      "text/plain": [
       "HBox(children=(IntProgress(value=0, description='Pandas Apply', max=99491, style=ProgressStyle(description_wid…"
      ]
     },
     "metadata": {},
     "output_type": "display_data"
    },
    {
     "name": "stdout",
     "output_type": "stream",
     "text": [
      "\n"
     ]
    },
    {
     "data": {
      "application/vnd.jupyter.widget-view+json": {
       "model_id": "bfa72d4aa0d14a4facf45f9d620429be",
       "version_major": 2,
       "version_minor": 0
      },
      "text/plain": [
       "HBox(children=(IntProgress(value=0, description='Pandas Apply', max=99491, style=ProgressStyle(description_wid…"
      ]
     },
     "metadata": {},
     "output_type": "display_data"
    },
    {
     "name": "stdout",
     "output_type": "stream",
     "text": [
      "\n"
     ]
    },
    {
     "data": {
      "application/vnd.jupyter.widget-view+json": {
       "model_id": "2299610154714ed78c41102b3ab5713a",
       "version_major": 2,
       "version_minor": 0
      },
      "text/plain": [
       "HBox(children=(IntProgress(value=0, description='Pandas Apply', max=99491, style=ProgressStyle(description_wid…"
      ]
     },
     "metadata": {},
     "output_type": "display_data"
    },
    {
     "name": "stdout",
     "output_type": "stream",
     "text": [
      "\n"
     ]
    }
   ],
   "source": [
    "X = d.clean_4_5(X)"
   ]
  },
  {
   "cell_type": "code",
   "execution_count": 6,
   "metadata": {
    "scrolled": true
   },
   "outputs": [
    {
     "data": {
      "application/vnd.jupyter.widget-view+json": {
       "model_id": "0a501e2329e4403fa9fca59f6097fc6a",
       "version_major": 2,
       "version_minor": 0
      },
      "text/plain": [
       "HBox(children=(IntProgress(value=0, description='Pandas Apply', max=99491, style=ProgressStyle(description_wid…"
      ]
     },
     "metadata": {},
     "output_type": "display_data"
    },
    {
     "name": "stdout",
     "output_type": "stream",
     "text": [
      "\n"
     ]
    },
    {
     "data": {
      "application/vnd.jupyter.widget-view+json": {
       "model_id": "7d4e882b3c944ae789c462034ac816d0",
       "version_major": 2,
       "version_minor": 0
      },
      "text/plain": [
       "HBox(children=(IntProgress(value=0, description='Pandas Apply', max=99491, style=ProgressStyle(description_wid…"
      ]
     },
     "metadata": {},
     "output_type": "display_data"
    },
    {
     "name": "stdout",
     "output_type": "stream",
     "text": [
      "\n"
     ]
    },
    {
     "data": {
      "application/vnd.jupyter.widget-view+json": {
       "model_id": "455cb229eebf4195849586bcdcf796c7",
       "version_major": 2,
       "version_minor": 0
      },
      "text/plain": [
       "HBox(children=(IntProgress(value=0, description='Pandas Apply', max=99491, style=ProgressStyle(description_wid…"
      ]
     },
     "metadata": {},
     "output_type": "display_data"
    },
    {
     "name": "stdout",
     "output_type": "stream",
     "text": [
      "\n"
     ]
    },
    {
     "data": {
      "application/vnd.jupyter.widget-view+json": {
       "model_id": "4b484bd07b914b3f878cb97a80fe664b",
       "version_major": 2,
       "version_minor": 0
      },
      "text/plain": [
       "HBox(children=(IntProgress(value=0, description='Pandas Apply', max=99491, style=ProgressStyle(description_wid…"
      ]
     },
     "metadata": {},
     "output_type": "display_data"
    },
    {
     "name": "stdout",
     "output_type": "stream",
     "text": [
      "\n"
     ]
    },
    {
     "data": {
      "application/vnd.jupyter.widget-view+json": {
       "model_id": "a08df30349f84ef89e56b4f59d78f9d1",
       "version_major": 2,
       "version_minor": 0
      },
      "text/plain": [
       "HBox(children=(IntProgress(value=0, description='Pandas Apply', max=99491, style=ProgressStyle(description_wid…"
      ]
     },
     "metadata": {},
     "output_type": "display_data"
    },
    {
     "name": "stdout",
     "output_type": "stream",
     "text": [
      "\n"
     ]
    },
    {
     "data": {
      "application/vnd.jupyter.widget-view+json": {
       "model_id": "825df66897274f39b8b17f264d52f4d9",
       "version_major": 2,
       "version_minor": 0
      },
      "text/plain": [
       "HBox(children=(IntProgress(value=0, description='Pandas Apply', max=99491, style=ProgressStyle(description_wid…"
      ]
     },
     "metadata": {},
     "output_type": "display_data"
    },
    {
     "name": "stdout",
     "output_type": "stream",
     "text": [
      "\n"
     ]
    },
    {
     "data": {
      "application/vnd.jupyter.widget-view+json": {
       "model_id": "8398d89652c04aaa8eb225f64e492524",
       "version_major": 2,
       "version_minor": 0
      },
      "text/plain": [
       "HBox(children=(IntProgress(value=0, description='Pandas Apply', max=99491, style=ProgressStyle(description_wid…"
      ]
     },
     "metadata": {},
     "output_type": "display_data"
    },
    {
     "name": "stdout",
     "output_type": "stream",
     "text": [
      "\n"
     ]
    },
    {
     "data": {
      "application/vnd.jupyter.widget-view+json": {
       "model_id": "cbb35566c15e493889f7fe991f1e2b60",
       "version_major": 2,
       "version_minor": 0
      },
      "text/plain": [
       "HBox(children=(IntProgress(value=0, description='Pandas Apply', max=99491, style=ProgressStyle(description_wid…"
      ]
     },
     "metadata": {},
     "output_type": "display_data"
    },
    {
     "name": "stdout",
     "output_type": "stream",
     "text": [
      "\n"
     ]
    },
    {
     "data": {
      "application/vnd.jupyter.widget-view+json": {
       "model_id": "8e9bc6db0a8d43929df476fc03afa4aa",
       "version_major": 2,
       "version_minor": 0
      },
      "text/plain": [
       "HBox(children=(IntProgress(value=0, description='Pandas Apply', max=99491, style=ProgressStyle(description_wid…"
      ]
     },
     "metadata": {},
     "output_type": "display_data"
    },
    {
     "name": "stdout",
     "output_type": "stream",
     "text": [
      "\n"
     ]
    },
    {
     "data": {
      "application/vnd.jupyter.widget-view+json": {
       "model_id": "4c56299599854af3849e6d608721a346",
       "version_major": 2,
       "version_minor": 0
      },
      "text/plain": [
       "HBox(children=(IntProgress(value=0, description='Pandas Apply', max=99491, style=ProgressStyle(description_wid…"
      ]
     },
     "metadata": {},
     "output_type": "display_data"
    },
    {
     "name": "stdout",
     "output_type": "stream",
     "text": [
      "\n"
     ]
    },
    {
     "data": {
      "application/vnd.jupyter.widget-view+json": {
       "model_id": "0b581abd80ba42a38c9135714c4745e8",
       "version_major": 2,
       "version_minor": 0
      },
      "text/plain": [
       "HBox(children=(IntProgress(value=0, description='Pandas Apply', max=99491, style=ProgressStyle(description_wid…"
      ]
     },
     "metadata": {},
     "output_type": "display_data"
    },
    {
     "name": "stdout",
     "output_type": "stream",
     "text": [
      "\n"
     ]
    },
    {
     "data": {
      "application/vnd.jupyter.widget-view+json": {
       "model_id": "b5180b0577084357a673f59a2bb32457",
       "version_major": 2,
       "version_minor": 0
      },
      "text/plain": [
       "HBox(children=(IntProgress(value=0, description='Pandas Apply', max=99491, style=ProgressStyle(description_wid…"
      ]
     },
     "metadata": {},
     "output_type": "display_data"
    },
    {
     "name": "stdout",
     "output_type": "stream",
     "text": [
      "\n"
     ]
    },
    {
     "data": {
      "application/vnd.jupyter.widget-view+json": {
       "model_id": "f5c09706e0fb4831b3ed3632ee8eff71",
       "version_major": 2,
       "version_minor": 0
      },
      "text/plain": [
       "HBox(children=(IntProgress(value=0, description='Pandas Apply', max=99491, style=ProgressStyle(description_wid…"
      ]
     },
     "metadata": {},
     "output_type": "display_data"
    },
    {
     "name": "stdout",
     "output_type": "stream",
     "text": [
      "\n"
     ]
    },
    {
     "data": {
      "application/vnd.jupyter.widget-view+json": {
       "model_id": "359096c59ced4c7bbe6b076b4d12c560",
       "version_major": 2,
       "version_minor": 0
      },
      "text/plain": [
       "HBox(children=(IntProgress(value=0, description='Pandas Apply', max=99491, style=ProgressStyle(description_wid…"
      ]
     },
     "metadata": {},
     "output_type": "display_data"
    },
    {
     "name": "stdout",
     "output_type": "stream",
     "text": [
      "\n"
     ]
    },
    {
     "data": {
      "application/vnd.jupyter.widget-view+json": {
       "model_id": "f07a62cd482b416b96536b8698cdfea0",
       "version_major": 2,
       "version_minor": 0
      },
      "text/plain": [
       "HBox(children=(IntProgress(value=0, description='Pandas Apply', max=99491, style=ProgressStyle(description_wid…"
      ]
     },
     "metadata": {},
     "output_type": "display_data"
    },
    {
     "name": "stdout",
     "output_type": "stream",
     "text": [
      "\n"
     ]
    },
    {
     "data": {
      "application/vnd.jupyter.widget-view+json": {
       "model_id": "d5b7a4380c1747e8a84ceb8014ad6888",
       "version_major": 2,
       "version_minor": 0
      },
      "text/plain": [
       "HBox(children=(IntProgress(value=0, description='Pandas Apply', max=99491, style=ProgressStyle(description_wid…"
      ]
     },
     "metadata": {},
     "output_type": "display_data"
    },
    {
     "name": "stdout",
     "output_type": "stream",
     "text": [
      "\n"
     ]
    },
    {
     "data": {
      "application/vnd.jupyter.widget-view+json": {
       "model_id": "9aa876883ec8498ea280070dc88e6be0",
       "version_major": 2,
       "version_minor": 0
      },
      "text/plain": [
       "HBox(children=(IntProgress(value=0, description='Pandas Apply', max=99491, style=ProgressStyle(description_wid…"
      ]
     },
     "metadata": {},
     "output_type": "display_data"
    },
    {
     "name": "stdout",
     "output_type": "stream",
     "text": [
      "\n"
     ]
    },
    {
     "data": {
      "application/vnd.jupyter.widget-view+json": {
       "model_id": "359af6c7cc564315ae8b82d7607437ab",
       "version_major": 2,
       "version_minor": 0
      },
      "text/plain": [
       "HBox(children=(IntProgress(value=0, description='Pandas Apply', max=99491, style=ProgressStyle(description_wid…"
      ]
     },
     "metadata": {},
     "output_type": "display_data"
    },
    {
     "name": "stdout",
     "output_type": "stream",
     "text": [
      "\n"
     ]
    },
    {
     "data": {
      "application/vnd.jupyter.widget-view+json": {
       "model_id": "13388ce7851e43f28e0cf291fd389e65",
       "version_major": 2,
       "version_minor": 0
      },
      "text/plain": [
       "HBox(children=(IntProgress(value=0, description='Pandas Apply', max=99491, style=ProgressStyle(description_wid…"
      ]
     },
     "metadata": {},
     "output_type": "display_data"
    },
    {
     "name": "stdout",
     "output_type": "stream",
     "text": [
      "\n"
     ]
    },
    {
     "data": {
      "application/vnd.jupyter.widget-view+json": {
       "model_id": "7855897aeacc4cbc977c6d000050b5f7",
       "version_major": 2,
       "version_minor": 0
      },
      "text/plain": [
       "HBox(children=(IntProgress(value=0, description='Pandas Apply', max=99491, style=ProgressStyle(description_wid…"
      ]
     },
     "metadata": {},
     "output_type": "display_data"
    },
    {
     "name": "stdout",
     "output_type": "stream",
     "text": [
      "\n"
     ]
    },
    {
     "data": {
      "application/vnd.jupyter.widget-view+json": {
       "model_id": "a64d1cf2daba484386216f2e210fef44",
       "version_major": 2,
       "version_minor": 0
      },
      "text/plain": [
       "HBox(children=(IntProgress(value=0, description='Pandas Apply', max=99491, style=ProgressStyle(description_wid…"
      ]
     },
     "metadata": {},
     "output_type": "display_data"
    },
    {
     "name": "stdout",
     "output_type": "stream",
     "text": [
      "\n"
     ]
    },
    {
     "data": {
      "application/vnd.jupyter.widget-view+json": {
       "model_id": "c6632216422b40d88ff784071fccc691",
       "version_major": 2,
       "version_minor": 0
      },
      "text/plain": [
       "HBox(children=(IntProgress(value=0, description='Pandas Apply', max=99491, style=ProgressStyle(description_wid…"
      ]
     },
     "metadata": {},
     "output_type": "display_data"
    },
    {
     "name": "stdout",
     "output_type": "stream",
     "text": [
      "\n"
     ]
    },
    {
     "data": {
      "application/vnd.jupyter.widget-view+json": {
       "model_id": "11d27d9d2ca7484eb00a03b0620afd79",
       "version_major": 2,
       "version_minor": 0
      },
      "text/plain": [
       "HBox(children=(IntProgress(value=0, description='Pandas Apply', max=99491, style=ProgressStyle(description_wid…"
      ]
     },
     "metadata": {},
     "output_type": "display_data"
    },
    {
     "name": "stdout",
     "output_type": "stream",
     "text": [
      "\n"
     ]
    },
    {
     "data": {
      "application/vnd.jupyter.widget-view+json": {
       "model_id": "b2feae8eef5143c382bef6b688b4bb38",
       "version_major": 2,
       "version_minor": 0
      },
      "text/plain": [
       "HBox(children=(IntProgress(value=0, description='Pandas Apply', max=99491, style=ProgressStyle(description_wid…"
      ]
     },
     "metadata": {},
     "output_type": "display_data"
    },
    {
     "name": "stdout",
     "output_type": "stream",
     "text": [
      "\n"
     ]
    },
    {
     "data": {
      "application/vnd.jupyter.widget-view+json": {
       "model_id": "5180765cb6884590a0d2789540e60c58",
       "version_major": 2,
       "version_minor": 0
      },
      "text/plain": [
       "HBox(children=(IntProgress(value=0, description='Pandas Apply', max=99491, style=ProgressStyle(description_wid…"
      ]
     },
     "metadata": {},
     "output_type": "display_data"
    },
    {
     "name": "stdout",
     "output_type": "stream",
     "text": [
      "\n"
     ]
    },
    {
     "data": {
      "application/vnd.jupyter.widget-view+json": {
       "model_id": "0ddd000abfb547dbbbca21f1cbf41568",
       "version_major": 2,
       "version_minor": 0
      },
      "text/plain": [
       "HBox(children=(IntProgress(value=0, description='Pandas Apply', max=99491, style=ProgressStyle(description_wid…"
      ]
     },
     "metadata": {},
     "output_type": "display_data"
    },
    {
     "name": "stdout",
     "output_type": "stream",
     "text": [
      "\n"
     ]
    },
    {
     "data": {
      "application/vnd.jupyter.widget-view+json": {
       "model_id": "3c31b04c13f64cd7adb5ff143649e7fa",
       "version_major": 2,
       "version_minor": 0
      },
      "text/plain": [
       "HBox(children=(IntProgress(value=0, description='Pandas Apply', max=99491, style=ProgressStyle(description_wid…"
      ]
     },
     "metadata": {},
     "output_type": "display_data"
    },
    {
     "name": "stdout",
     "output_type": "stream",
     "text": [
      "\n"
     ]
    },
    {
     "data": {
      "application/vnd.jupyter.widget-view+json": {
       "model_id": "a3eb3cc9bf8840dd9c002f587f487ad1",
       "version_major": 2,
       "version_minor": 0
      },
      "text/plain": [
       "HBox(children=(IntProgress(value=0, description='Pandas Apply', max=99491, style=ProgressStyle(description_wid…"
      ]
     },
     "metadata": {},
     "output_type": "display_data"
    },
    {
     "name": "stdout",
     "output_type": "stream",
     "text": [
      "\n"
     ]
    },
    {
     "data": {
      "application/vnd.jupyter.widget-view+json": {
       "model_id": "8a33ffb52bdf425186e4ec52b61b39e2",
       "version_major": 2,
       "version_minor": 0
      },
      "text/plain": [
       "HBox(children=(IntProgress(value=0, description='Pandas Apply', max=99491, style=ProgressStyle(description_wid…"
      ]
     },
     "metadata": {},
     "output_type": "display_data"
    },
    {
     "name": "stdout",
     "output_type": "stream",
     "text": [
      "\n"
     ]
    },
    {
     "data": {
      "application/vnd.jupyter.widget-view+json": {
       "model_id": "c9a0138ab8134f07b900f6da48119fcf",
       "version_major": 2,
       "version_minor": 0
      },
      "text/plain": [
       "HBox(children=(IntProgress(value=0, description='Pandas Apply', max=99491, style=ProgressStyle(description_wid…"
      ]
     },
     "metadata": {},
     "output_type": "display_data"
    },
    {
     "name": "stdout",
     "output_type": "stream",
     "text": [
      "\n"
     ]
    },
    {
     "data": {
      "application/vnd.jupyter.widget-view+json": {
       "model_id": "7094b21186214344916e7ae1235eeeae",
       "version_major": 2,
       "version_minor": 0
      },
      "text/plain": [
       "HBox(children=(IntProgress(value=0, description='Pandas Apply', max=99491, style=ProgressStyle(description_wid…"
      ]
     },
     "metadata": {},
     "output_type": "display_data"
    },
    {
     "name": "stdout",
     "output_type": "stream",
     "text": [
      "\n"
     ]
    },
    {
     "data": {
      "application/vnd.jupyter.widget-view+json": {
       "model_id": "0cef7b6c976c4974bee6c6475a464d5f",
       "version_major": 2,
       "version_minor": 0
      },
      "text/plain": [
       "HBox(children=(IntProgress(value=0, description='Pandas Apply', max=99491, style=ProgressStyle(description_wid…"
      ]
     },
     "metadata": {},
     "output_type": "display_data"
    },
    {
     "name": "stdout",
     "output_type": "stream",
     "text": [
      "\n"
     ]
    },
    {
     "data": {
      "application/vnd.jupyter.widget-view+json": {
       "model_id": "0150c1c3afb149b6ad39660ddd4f390d",
       "version_major": 2,
       "version_minor": 0
      },
      "text/plain": [
       "HBox(children=(IntProgress(value=0, description='Pandas Apply', max=99491, style=ProgressStyle(description_wid…"
      ]
     },
     "metadata": {},
     "output_type": "display_data"
    },
    {
     "name": "stdout",
     "output_type": "stream",
     "text": [
      "\n"
     ]
    },
    {
     "data": {
      "application/vnd.jupyter.widget-view+json": {
       "model_id": "e079ed8fce594db79c1ee6d9aee51987",
       "version_major": 2,
       "version_minor": 0
      },
      "text/plain": [
       "HBox(children=(IntProgress(value=0, description='Pandas Apply', max=99491, style=ProgressStyle(description_wid…"
      ]
     },
     "metadata": {},
     "output_type": "display_data"
    },
    {
     "name": "stdout",
     "output_type": "stream",
     "text": [
      "\n"
     ]
    },
    {
     "data": {
      "application/vnd.jupyter.widget-view+json": {
       "model_id": "b0467a409f0646488be63d2b6ea16032",
       "version_major": 2,
       "version_minor": 0
      },
      "text/plain": [
       "HBox(children=(IntProgress(value=0, description='Pandas Apply', max=99491, style=ProgressStyle(description_wid…"
      ]
     },
     "metadata": {},
     "output_type": "display_data"
    },
    {
     "name": "stdout",
     "output_type": "stream",
     "text": [
      "\n"
     ]
    },
    {
     "data": {
      "application/vnd.jupyter.widget-view+json": {
       "model_id": "c61ad9f689f940c6ab764aa0883989bc",
       "version_major": 2,
       "version_minor": 0
      },
      "text/plain": [
       "HBox(children=(IntProgress(value=0, description='Pandas Apply', max=99491, style=ProgressStyle(description_wid…"
      ]
     },
     "metadata": {},
     "output_type": "display_data"
    },
    {
     "name": "stdout",
     "output_type": "stream",
     "text": [
      "\n"
     ]
    },
    {
     "data": {
      "application/vnd.jupyter.widget-view+json": {
       "model_id": "4406d4e30cc1411f95e35659394f22c0",
       "version_major": 2,
       "version_minor": 0
      },
      "text/plain": [
       "HBox(children=(IntProgress(value=0, description='Pandas Apply', max=99491, style=ProgressStyle(description_wid…"
      ]
     },
     "metadata": {},
     "output_type": "display_data"
    },
    {
     "name": "stdout",
     "output_type": "stream",
     "text": [
      "\n"
     ]
    },
    {
     "data": {
      "application/vnd.jupyter.widget-view+json": {
       "model_id": "402057ee0082491999499ea0a4c57cca",
       "version_major": 2,
       "version_minor": 0
      },
      "text/plain": [
       "HBox(children=(IntProgress(value=0, description='Pandas Apply', max=99491, style=ProgressStyle(description_wid…"
      ]
     },
     "metadata": {},
     "output_type": "display_data"
    },
    {
     "name": "stdout",
     "output_type": "stream",
     "text": [
      "\n"
     ]
    },
    {
     "data": {
      "application/vnd.jupyter.widget-view+json": {
       "model_id": "bf82d4a0c4db47109d9a763b290146b7",
       "version_major": 2,
       "version_minor": 0
      },
      "text/plain": [
       "HBox(children=(IntProgress(value=0, description='Pandas Apply', max=99491, style=ProgressStyle(description_wid…"
      ]
     },
     "metadata": {},
     "output_type": "display_data"
    },
    {
     "name": "stdout",
     "output_type": "stream",
     "text": [
      "\n"
     ]
    },
    {
     "data": {
      "application/vnd.jupyter.widget-view+json": {
       "model_id": "9e9ec881f81b43f3bc442f0147cb7877",
       "version_major": 2,
       "version_minor": 0
      },
      "text/plain": [
       "HBox(children=(IntProgress(value=0, description='Pandas Apply', max=99491, style=ProgressStyle(description_wid…"
      ]
     },
     "metadata": {},
     "output_type": "display_data"
    },
    {
     "name": "stdout",
     "output_type": "stream",
     "text": [
      "\n"
     ]
    },
    {
     "data": {
      "application/vnd.jupyter.widget-view+json": {
       "model_id": "7a62450c62c74c859653dac3f4beee13",
       "version_major": 2,
       "version_minor": 0
      },
      "text/plain": [
       "HBox(children=(IntProgress(value=0, description='Pandas Apply', max=99491, style=ProgressStyle(description_wid…"
      ]
     },
     "metadata": {},
     "output_type": "display_data"
    },
    {
     "name": "stdout",
     "output_type": "stream",
     "text": [
      "\n"
     ]
    },
    {
     "data": {
      "application/vnd.jupyter.widget-view+json": {
       "model_id": "6d9bff2e33704d4faabcab99e69d5955",
       "version_major": 2,
       "version_minor": 0
      },
      "text/plain": [
       "HBox(children=(IntProgress(value=0, description='Pandas Apply', max=99491, style=ProgressStyle(description_wid…"
      ]
     },
     "metadata": {},
     "output_type": "display_data"
    },
    {
     "name": "stdout",
     "output_type": "stream",
     "text": [
      "\n"
     ]
    },
    {
     "data": {
      "application/vnd.jupyter.widget-view+json": {
       "model_id": "8949ae1b5b654061b5402631df5c0ff0",
       "version_major": 2,
       "version_minor": 0
      },
      "text/plain": [
       "HBox(children=(IntProgress(value=0, description='Pandas Apply', max=99491, style=ProgressStyle(description_wid…"
      ]
     },
     "metadata": {},
     "output_type": "display_data"
    },
    {
     "name": "stdout",
     "output_type": "stream",
     "text": [
      "\n"
     ]
    },
    {
     "data": {
      "application/vnd.jupyter.widget-view+json": {
       "model_id": "31a5a4f62b554710b8b2086e069a7560",
       "version_major": 2,
       "version_minor": 0
      },
      "text/plain": [
       "HBox(children=(IntProgress(value=0, description='Pandas Apply', max=99491, style=ProgressStyle(description_wid…"
      ]
     },
     "metadata": {},
     "output_type": "display_data"
    },
    {
     "name": "stdout",
     "output_type": "stream",
     "text": [
      "\n"
     ]
    },
    {
     "data": {
      "application/vnd.jupyter.widget-view+json": {
       "model_id": "17f8674c4dc04097ade84deee7e5f026",
       "version_major": 2,
       "version_minor": 0
      },
      "text/plain": [
       "HBox(children=(IntProgress(value=0, description='Pandas Apply', max=99491, style=ProgressStyle(description_wid…"
      ]
     },
     "metadata": {},
     "output_type": "display_data"
    },
    {
     "name": "stdout",
     "output_type": "stream",
     "text": [
      "\n"
     ]
    },
    {
     "data": {
      "application/vnd.jupyter.widget-view+json": {
       "model_id": "79ac1bf2d6024bf2bb20ea5bff65f325",
       "version_major": 2,
       "version_minor": 0
      },
      "text/plain": [
       "HBox(children=(IntProgress(value=0, description='Pandas Apply', max=99491, style=ProgressStyle(description_wid…"
      ]
     },
     "metadata": {},
     "output_type": "display_data"
    },
    {
     "name": "stdout",
     "output_type": "stream",
     "text": [
      "\n"
     ]
    },
    {
     "data": {
      "application/vnd.jupyter.widget-view+json": {
       "model_id": "c01be7fc291841d5896cfeac7ef654be",
       "version_major": 2,
       "version_minor": 0
      },
      "text/plain": [
       "HBox(children=(IntProgress(value=0, description='Pandas Apply', max=99491, style=ProgressStyle(description_wid…"
      ]
     },
     "metadata": {},
     "output_type": "display_data"
    },
    {
     "name": "stdout",
     "output_type": "stream",
     "text": [
      "\n"
     ]
    },
    {
     "data": {
      "application/vnd.jupyter.widget-view+json": {
       "model_id": "dcb92e0b92014c2c93801734288bbf05",
       "version_major": 2,
       "version_minor": 0
      },
      "text/plain": [
       "HBox(children=(IntProgress(value=0, description='Pandas Apply', max=99491, style=ProgressStyle(description_wid…"
      ]
     },
     "metadata": {},
     "output_type": "display_data"
    },
    {
     "name": "stdout",
     "output_type": "stream",
     "text": [
      "\n"
     ]
    },
    {
     "data": {
      "application/vnd.jupyter.widget-view+json": {
       "model_id": "6decd90ecb814e4298b61cf0b6befbb3",
       "version_major": 2,
       "version_minor": 0
      },
      "text/plain": [
       "HBox(children=(IntProgress(value=0, description='Pandas Apply', max=99491, style=ProgressStyle(description_wid…"
      ]
     },
     "metadata": {},
     "output_type": "display_data"
    },
    {
     "name": "stdout",
     "output_type": "stream",
     "text": [
      "\n"
     ]
    },
    {
     "data": {
      "application/vnd.jupyter.widget-view+json": {
       "model_id": "f27dc000600140c9989e7168974a09c6",
       "version_major": 2,
       "version_minor": 0
      },
      "text/plain": [
       "HBox(children=(IntProgress(value=0, description='Pandas Apply', max=99491, style=ProgressStyle(description_wid…"
      ]
     },
     "metadata": {},
     "output_type": "display_data"
    },
    {
     "name": "stdout",
     "output_type": "stream",
     "text": [
      "\n"
     ]
    },
    {
     "data": {
      "application/vnd.jupyter.widget-view+json": {
       "model_id": "8a4c68c52b3c459f8a7e2ab23918e69e",
       "version_major": 2,
       "version_minor": 0
      },
      "text/plain": [
       "HBox(children=(IntProgress(value=0, description='Pandas Apply', max=99491, style=ProgressStyle(description_wid…"
      ]
     },
     "metadata": {},
     "output_type": "display_data"
    },
    {
     "name": "stdout",
     "output_type": "stream",
     "text": [
      "\n"
     ]
    },
    {
     "data": {
      "application/vnd.jupyter.widget-view+json": {
       "model_id": "312d5fc6a020484391de9888b59572cd",
       "version_major": 2,
       "version_minor": 0
      },
      "text/plain": [
       "HBox(children=(IntProgress(value=0, description='Pandas Apply', max=99491, style=ProgressStyle(description_wid…"
      ]
     },
     "metadata": {},
     "output_type": "display_data"
    },
    {
     "name": "stdout",
     "output_type": "stream",
     "text": [
      "\n"
     ]
    },
    {
     "data": {
      "application/vnd.jupyter.widget-view+json": {
       "model_id": "4d71a1ecff5a4ca2aadb667d4302ce14",
       "version_major": 2,
       "version_minor": 0
      },
      "text/plain": [
       "HBox(children=(IntProgress(value=0, description='Pandas Apply', max=99491, style=ProgressStyle(description_wid…"
      ]
     },
     "metadata": {},
     "output_type": "display_data"
    },
    {
     "name": "stdout",
     "output_type": "stream",
     "text": [
      "\n"
     ]
    },
    {
     "data": {
      "application/vnd.jupyter.widget-view+json": {
       "model_id": "3979c89f60de41889c28fa08da75f9b0",
       "version_major": 2,
       "version_minor": 0
      },
      "text/plain": [
       "HBox(children=(IntProgress(value=0, description='Pandas Apply', max=99491, style=ProgressStyle(description_wid…"
      ]
     },
     "metadata": {},
     "output_type": "display_data"
    },
    {
     "name": "stdout",
     "output_type": "stream",
     "text": [
      "\n"
     ]
    },
    {
     "data": {
      "application/vnd.jupyter.widget-view+json": {
       "model_id": "0729539e2b8c4d6ea152a44c1b61dde9",
       "version_major": 2,
       "version_minor": 0
      },
      "text/plain": [
       "HBox(children=(IntProgress(value=0, description='Pandas Apply', max=99491, style=ProgressStyle(description_wid…"
      ]
     },
     "metadata": {},
     "output_type": "display_data"
    },
    {
     "name": "stdout",
     "output_type": "stream",
     "text": [
      "\n"
     ]
    },
    {
     "data": {
      "application/vnd.jupyter.widget-view+json": {
       "model_id": "d9caabb95ee24e0fa24197ef9d35afc8",
       "version_major": 2,
       "version_minor": 0
      },
      "text/plain": [
       "HBox(children=(IntProgress(value=0, description='Pandas Apply', max=99491, style=ProgressStyle(description_wid…"
      ]
     },
     "metadata": {},
     "output_type": "display_data"
    },
    {
     "name": "stdout",
     "output_type": "stream",
     "text": [
      "\n"
     ]
    },
    {
     "data": {
      "application/vnd.jupyter.widget-view+json": {
       "model_id": "d807e95b5b4a4500b8aadc75732d8b77",
       "version_major": 2,
       "version_minor": 0
      },
      "text/plain": [
       "HBox(children=(IntProgress(value=0, description='Pandas Apply', max=99491, style=ProgressStyle(description_wid…"
      ]
     },
     "metadata": {},
     "output_type": "display_data"
    },
    {
     "name": "stdout",
     "output_type": "stream",
     "text": [
      "\n"
     ]
    },
    {
     "data": {
      "application/vnd.jupyter.widget-view+json": {
       "model_id": "aa36986d8d2c4d7f8d6518fd906c0eac",
       "version_major": 2,
       "version_minor": 0
      },
      "text/plain": [
       "HBox(children=(IntProgress(value=0, description='Pandas Apply', max=99491, style=ProgressStyle(description_wid…"
      ]
     },
     "metadata": {},
     "output_type": "display_data"
    },
    {
     "name": "stdout",
     "output_type": "stream",
     "text": [
      "\n"
     ]
    },
    {
     "data": {
      "application/vnd.jupyter.widget-view+json": {
       "model_id": "2c60f705550f48f0af327391e7f2917b",
       "version_major": 2,
       "version_minor": 0
      },
      "text/plain": [
       "HBox(children=(IntProgress(value=0, description='Pandas Apply', max=99491, style=ProgressStyle(description_wid…"
      ]
     },
     "metadata": {},
     "output_type": "display_data"
    },
    {
     "name": "stdout",
     "output_type": "stream",
     "text": [
      "\n"
     ]
    },
    {
     "data": {
      "application/vnd.jupyter.widget-view+json": {
       "model_id": "5ecfacae0ccc433fa39d107938366a22",
       "version_major": 2,
       "version_minor": 0
      },
      "text/plain": [
       "HBox(children=(IntProgress(value=0, description='Pandas Apply', max=99491, style=ProgressStyle(description_wid…"
      ]
     },
     "metadata": {},
     "output_type": "display_data"
    },
    {
     "name": "stdout",
     "output_type": "stream",
     "text": [
      "\n",
      "reset_indices\n"
     ]
    },
    {
     "name": "stderr",
     "output_type": "stream",
     "text": [
      "C:\\Users\\Rocio\\Desktop\\Class_files\\Projects\\mod_5_project\\Hospital_Readmittance_Rates_Diabetes\\data_prep.py:313: FutureWarning: The signature of `Series.to_csv` was aligned to that of `DataFrame.to_csv`, and argument 'header' will change its default value from False to True: please pass an explicit value to suppress this warning.\n",
      "  y_3.to_csv('./data/y_cleaned.csv', index=None)\n"
     ]
    }
   ],
   "source": [
    "X, y  = d.clean_5_5(X, y)"
   ]
  },
  {
   "cell_type": "code",
   "execution_count": 9,
   "metadata": {},
   "outputs": [
    {
     "ename": "KeyError",
     "evalue": "Index(['patient_nbr'], dtype='object')",
     "output_type": "error",
     "traceback": [
      "\u001b[1;31m---------------------------------------------------------------------------\u001b[0m",
      "\u001b[1;31mKeyError\u001b[0m                                  Traceback (most recent call last)",
      "\u001b[1;32m<ipython-input-9-e61a1292ce4c>\u001b[0m in \u001b[0;36m<module>\u001b[1;34m\u001b[0m\n\u001b[0;32m      3\u001b[0m \u001b[0mdata\u001b[0m \u001b[1;33m=\u001b[0m \u001b[0mdata\u001b[0m\u001b[1;33m.\u001b[0m\u001b[0msort_index\u001b[0m\u001b[1;33m(\u001b[0m\u001b[1;33m)\u001b[0m\u001b[1;33m\u001b[0m\u001b[1;33m\u001b[0m\u001b[0m\n\u001b[0;32m      4\u001b[0m \u001b[1;33m\u001b[0m\u001b[0m\n\u001b[1;32m----> 5\u001b[1;33m \u001b[0mdata\u001b[0m \u001b[1;33m=\u001b[0m \u001b[0mdata\u001b[0m\u001b[1;33m.\u001b[0m\u001b[0mloc\u001b[0m\u001b[1;33m[\u001b[0m\u001b[0mdata\u001b[0m\u001b[1;33m.\u001b[0m\u001b[0mduplicated\u001b[0m\u001b[1;33m(\u001b[0m\u001b[0msubset\u001b[0m\u001b[1;33m=\u001b[0m\u001b[1;33m[\u001b[0m\u001b[1;34m'patient_nbr'\u001b[0m\u001b[1;33m]\u001b[0m\u001b[1;33m)\u001b[0m \u001b[1;33m==\u001b[0m \u001b[1;32mFalse\u001b[0m\u001b[1;33m]\u001b[0m\u001b[1;33m\u001b[0m\u001b[1;33m\u001b[0m\u001b[0m\n\u001b[0m\u001b[0;32m      6\u001b[0m \u001b[1;33m\u001b[0m\u001b[0m\n\u001b[0;32m      7\u001b[0m \u001b[0mdischarge_list\u001b[0m \u001b[1;33m=\u001b[0m \u001b[1;33m[\u001b[0m\u001b[1;36m11\u001b[0m\u001b[1;33m,\u001b[0m \u001b[1;36m13\u001b[0m\u001b[1;33m,\u001b[0m \u001b[1;36m14\u001b[0m\u001b[1;33m,\u001b[0m \u001b[1;36m19\u001b[0m\u001b[1;33m,\u001b[0m \u001b[1;36m20\u001b[0m\u001b[1;33m,\u001b[0m \u001b[1;36m21\u001b[0m\u001b[1;33m]\u001b[0m\u001b[1;33m\u001b[0m\u001b[1;33m\u001b[0m\u001b[0m\n",
      "\u001b[1;32m~\\Anaconda3\\lib\\site-packages\\pandas\\core\\frame.py\u001b[0m in \u001b[0;36mduplicated\u001b[1;34m(self, subset, keep)\u001b[0m\n\u001b[0;32m   4681\u001b[0m         \u001b[0mdiff\u001b[0m \u001b[1;33m=\u001b[0m \u001b[0mIndex\u001b[0m\u001b[1;33m(\u001b[0m\u001b[0msubset\u001b[0m\u001b[1;33m)\u001b[0m\u001b[1;33m.\u001b[0m\u001b[0mdifference\u001b[0m\u001b[1;33m(\u001b[0m\u001b[0mself\u001b[0m\u001b[1;33m.\u001b[0m\u001b[0mcolumns\u001b[0m\u001b[1;33m)\u001b[0m\u001b[1;33m\u001b[0m\u001b[1;33m\u001b[0m\u001b[0m\n\u001b[0;32m   4682\u001b[0m         \u001b[1;32mif\u001b[0m \u001b[1;32mnot\u001b[0m \u001b[0mdiff\u001b[0m\u001b[1;33m.\u001b[0m\u001b[0mempty\u001b[0m\u001b[1;33m:\u001b[0m\u001b[1;33m\u001b[0m\u001b[1;33m\u001b[0m\u001b[0m\n\u001b[1;32m-> 4683\u001b[1;33m             \u001b[1;32mraise\u001b[0m \u001b[0mKeyError\u001b[0m\u001b[1;33m(\u001b[0m\u001b[0mdiff\u001b[0m\u001b[1;33m)\u001b[0m\u001b[1;33m\u001b[0m\u001b[1;33m\u001b[0m\u001b[0m\n\u001b[0m\u001b[0;32m   4684\u001b[0m \u001b[1;33m\u001b[0m\u001b[0m\n\u001b[0;32m   4685\u001b[0m         vals = (col.values for name, col in self.iteritems()\n",
      "\u001b[1;31mKeyError\u001b[0m: Index(['patient_nbr'], dtype='object')"
     ]
    }
   ],
   "source": [
    "data = pd.concat([X, y], axis=1)\n",
    "\n",
    "data = data.sort_index()\n",
    "\n",
    "data = data.loc[data.duplicated(subset=['patient_nbr']) == False]\n",
    "\n",
    "discharge_list = [11, 13, 14, 19, 20, 21]\n",
    "\n",
    "data = data.loc[data.discharge_disposition_id.isin(discharge_list) == False]"
   ]
  },
  {
   "cell_type": "code",
   "execution_count": 8,
   "metadata": {},
   "outputs": [],
   "source": [
    "X = data.drop(columns = ['readmitted'])\n",
    "y = data.readmitted\n",
    "\n",
    "X['gender'] = X.gender.replace({'female': '1', 'male': '0'})\n",
    "X = X.rename(columns = {'gender': 'female'})\n",
    "\n",
    "X_race = pd.get_dummies(X.race, drop_first=False)\n",
    "X = pd.concat([X, X_race], axis=1, ignore_index=False)\n",
    "X = X.drop(columns = ['race', 'caucasian'])\n",
    "\n",
    "X = X.drop(columns = ['diag_1', 'diag_2', 'diag_3'])\n",
    "\n",
    "X_glucose = pd.get_dummies(X['max_glu_serum'], drop_first=False)\n",
    "X = pd.concat([X, X_glucose], axis=1, ignore_index=False)\n",
    "X = X.rename(columns={'200_to_300': 'glu_200_300',\n",
    "                      'more_than_300': 'glu_over_300', 'norm': 'glu_norm'})\n",
    "X = X.drop(columns=['none', 'max_glu_serum'])\n",
    "\n",
    "X_a1 = pd.get_dummies(X['a1cresult'], drop_first=False)\n",
    "X = pd.concat([X, X_a1], axis=1, ignore_index=False)\n",
    "\n",
    "X = X.rename(columns={'7_to_8': 'a1_7_8',\n",
    "                      'over_8': 'al_over_8', 'norm': 'a1_norm'})\n",
    "X = X.drop(columns=['none', 'a1cresult'])\n",
    "\n",
    "X = X.drop(columns=['nateglinide', 'chlorpropamide', 'acetohexamide',\n",
    "                    'tolbutamide', 'acarbose', 'miglitol', 'troglitazone',\n",
    "                    'tolazamide', 'glyburide-metformin', 'glipizide-metformin',\n",
    "                    'glimepiride-pioglitazone', 'metformin-pioglitazone'])\n",
    "\n",
    "X_metformin = pd.get_dummies(X['metformin'], drop_first=False)\n",
    "X = pd.concat([X, X_metformin], axis=1, ignore_index=False)\n",
    "\n",
    "X = X.rename(columns={'down': 'metformin_down',\n",
    "                      'steady': 'metformin_steady', 'up': 'metformin_up'})\n",
    "X = X.drop(columns=['no', 'metformin'])\n",
    "\n",
    "X_repaglinide = pd.get_dummies(X['repaglinide'], drop_first=False)\n",
    "X = pd.concat([X, X_repaglinide], axis=1, ignore_index=False)\n",
    "X = X.rename(columns={'down': 'repaglinide_down',\n",
    "                      'steady': 'repaglinide_steady', 'up': 'repaglinide_up'})\n",
    "X = X.drop(columns=['no', 'repaglinide'])\n",
    "\n",
    "X_glimepiride = pd.get_dummies(X['glimepiride'], drop_first=False)\n",
    "X = pd.concat([X, X_glimepiride], axis=1, ignore_index=False)\n",
    "X = X.rename(columns={'down': 'glimepiride_down',\n",
    "                      'steady': 'glimepiride_steady', 'up': 'glimepiride_up'})\n",
    "X = X.drop(columns=['no', 'glimepiride'])\n",
    "\n",
    "X_glipizide = pd.get_dummies(X['glipizide'], drop_first=False)\n",
    "X = pd.concat([X, X_glipizide], axis=1, ignore_index=False)\n",
    "X = X.rename(columns={'down': 'glipizide_down',\n",
    "                      'steady': 'glipizide_steady', 'up': 'glipizide_up'})\n",
    "X = X.drop(columns=['no', 'glipizide'])\n",
    "\n",
    "X_glyburide = pd.get_dummies(X['glyburide'], drop_first=False)\n",
    "X = pd.concat([X, X_glyburide], axis=1, ignore_index=False)\n",
    "X = X.rename(columns={'down': 'glyburide_down',\n",
    "                      'steady': 'glyburide_steady', 'up': 'glyburide_up'})\n",
    "X = X.drop(columns=['no', 'glyburide'])\n",
    "\n",
    "X_pioglitazone = pd.get_dummies(X['pioglitazone'], drop_first=False)\n",
    "X = pd.concat([X, X_pioglitazone], axis=1, ignore_index=False)\n",
    "X = X.rename(columns={'down': 'pioglitazone_down',\n",
    "                      'steady': 'pioglitazone_steady', 'up': 'pioglitazone_up'})\n",
    "X = X.drop(columns=['no', 'pioglitazone'])\n",
    "\n",
    "X_rosiglitazone = pd.get_dummies(X['rosiglitazone'], drop_first=False)\n",
    "X = pd.concat([X, X_rosiglitazone], axis=1, ignore_index=False)\n",
    "X = X.rename(columns={'down': 'rosiglitazone_down',\n",
    "                      'steady': 'rosiglitazone_steady', 'up': 'rosiglitazone_up'})\n",
    "X = X.drop(columns=['no', 'rosiglitazone'])\n",
    "\n",
    "X_insulin = pd.get_dummies(X['insulin'], drop_first=False)\n",
    "X = pd.concat([X, X_insulin], axis=1, ignore_index=False)\n",
    "X = X.rename(columns={'down': 'insulin_down',\n",
    "                      'steady': 'insulin_steady', 'up': 'insulin_up'})\n",
    "X = X.drop(columns=['no', 'insulin'])\n",
    "\n",
    "X['change'] = X.change.replace({'ch': 1, 'no': 0})\n",
    "X['diabetesmed'] = X.diabetesmed.replace({'yes': 1, 'no': 0})\n",
    "\n",
    "X['female'] = X['female'].astype('int64')\n",
    "\n",
    "X = X.astype('int64')\n",
    "\n",
    "X = X.drop(columns=['patient_nbr', 'admission_type_id',\n",
    "                    'discharge_disposition_id', 'admission_source_id', ])\n",
    "\n",
    "y = y.replace({'no': 0, 'over_30_days': 1, 'under_30_days': 1})\n",
    "\n",
    "data = pd.concat([X, y], axis=1)"
   ]
  },
  {
   "cell_type": "code",
   "execution_count": 10,
   "metadata": {},
   "outputs": [],
   "source": [
    "def split(X, y, test_size=0.25):\n",
    "    X_train, X_test, y_train, y_test = train_test_split(\n",
    "        X, y, test_size=test_size, random_state=23)\n",
    "    return X_train, X_test, y_train, y_test"
   ]
  },
  {
   "cell_type": "code",
   "execution_count": 11,
   "metadata": {},
   "outputs": [],
   "source": [
    "def dummy_binary(X_train, y_train, X_test, y_test):\n",
    "    dummy = DummyClassifier(strategy='most_frequent',\n",
    "                        random_state=13).fit(X_train, y_train)\n",
    "    dummy_pred = dummy.predict(X_test)\n",
    "\n",
    "    print('Test Accuracy score: ', accuracy_score(y_test, dummy_pred))\n",
    "    print('Test F1 score: ', f1_score(y_test, dummy_pred))\n",
    "    # The ConfusionMatrix visualizer taxes a model\n",
    "    cm = ConfusionMatrix(dummy, classes=[0, 1])\n",
    "\n",
    "    # Fit fits the passed model. This is unnecessary if you pass the visualizer a pre-fitted model\n",
    "    cm.fit(X_train, y_train)\n",
    "\n",
    "    # To create the ConfusionMatrix, we need some test data. Score runs predict() on the data\n",
    "    # and then creates the confusion_matrix from scikit-learn.\n",
    "    cm.score(X_test, y_test)\n",
    "\n",
    "    # How did we do?\n",
    "    cm.poof()"
   ]
  },
  {
   "cell_type": "code",
   "execution_count": 12,
   "metadata": {},
   "outputs": [],
   "source": [
    "def reg_unbalanced(X_train, y_train, X_test, y_test):\n",
    "\n",
    "    # dt_clf = DecisionTreeClassifier(max_depth=5)\n",
    "    lr_clf = LogisticRegression(solver='liblinear', random_state=13)\n",
    "\n",
    "    # dt_clf.fit(X_train, y_train)\n",
    "    lr_clf.fit(X_train, y_train)\n",
    "\n",
    "    # y_pred_test = dt_clf.predict(X_test)\n",
    "    y_pred_test = lr_clf.predict(X_test)\n",
    "\n",
    "    # checking accuracy\n",
    "    print('Test Accuracy score: ', accuracy_score(y_test, y_pred_test))\n",
    "\n",
    "    # checking accuracy\n",
    "    print('Test F1 score: ', f1_score(y_test, y_pred_test))\n",
    "\n",
    "    # checking confusion matrix\n",
    "    # The ConfusionMatrix visualizer taxes a model\n",
    "    cm = ConfusionMatrix(lr_clf, classes=[0, 1])\n",
    "\n",
    "    # Fit fits the passed model. This is unnecessary if you pass the visualizer a pre-fitted model\n",
    "    cm.fit(X_train, y_train)\n",
    "\n",
    "    # To create the ConfusionMatrix, we need some test data. Score runs predict() on the data\n",
    "    # and then creates the confusion_matrix from scikit-learn.\n",
    "    cm.score(X_test, y_test)\n",
    "\n",
    "    # How did we do?\n",
    "    cm.poof()"
   ]
  },
  {
   "cell_type": "code",
   "execution_count": 36,
   "metadata": {},
   "outputs": [],
   "source": [
    "def y_split(X_train, y_train):\n",
    "    training  = pd.concat([X_train, y_train], axis=1)\n",
    "    no = training[training['readmitted']==0]\n",
    "    yes = training[training['readmitted']==1]\n",
    "    return no, yes"
   ]
  },
  {
   "cell_type": "code",
   "execution_count": 14,
   "metadata": {},
   "outputs": [],
   "source": [
    "# upsample minority\n",
    "def upsample(no, yes, X_test, y_test):\n",
    "    yes_upsampled = resample(yes,\n",
    "                             replace=True,  # sample with replacement\n",
    "                             # match number in majority class\n",
    "                             n_samples=len(no),\n",
    "                             random_state=23)  # reproducible results\n",
    "    upsampled = pd.concat([no, yes_upsampled])\n",
    "\n",
    "    # trying logistic regression again with the balanced dataset\n",
    "    y_train = upsampled.readmitted\n",
    "    X_train = upsampled.drop('readmitted', axis=1)\n",
    "\n",
    "    # upsampled_dt = DecisionTreeClassifier(max_depth=5)\n",
    "    upsampled_lr = LogisticRegression(solver='liblinear')\n",
    "\n",
    "    # upsampled_dt.fit(X_train, y_train)\n",
    "    upsampled_lr.fit(X_train, y_train)\n",
    "\n",
    "    # upsampled_pred = upsampled_dt.predict(X_test)\n",
    "    upsampled_pred = upsampled_lr.predict(X_test)\n",
    "\n",
    "    # checking accuracy\n",
    "    print('Test Accuracy score: ', accuracy_score(y_test, upsampled_pred))\n",
    "\n",
    "    # checking accuracy\n",
    "    print('Test F1 score: ', f1_score(y_test, upsampled_pred))\n",
    "\n",
    "    # checking confusion matrix\n",
    "    from yellowbrick.classifier import ConfusionMatrix\n",
    "    # The ConfusionMatrix visualizer taxes a model\n",
    "    cm = ConfusionMatrix(upsampled_lr, classes=[0, 1])\n",
    "\n",
    "    # Fit fits the passed model. This is unnecessary if you pass the visualizer a pre-fitted model\n",
    "    cm.fit(X_train, y_train)\n",
    "\n",
    "    # To create the ConfusionMatrix, we need some test data. Score runs predict() on the data\n",
    "    # and then creates the confusion_matrix from scikit-learn.\n",
    "    cm.score(X_test, y_test)\n",
    "\n",
    "    # How did we do?\n",
    "    cm.poof()"
   ]
  },
  {
   "cell_type": "code",
   "execution_count": 15,
   "metadata": {},
   "outputs": [],
   "source": [
    "def downsampled(no, yes, X_test, y_test):\n",
    "    no_downsampled = resample(no,\n",
    "                              replace=True,  # sample without replacement\n",
    "                              # match minority n\n",
    "                              n_samples=len(yes),\n",
    "                              random_state=23)  # reproducible results\n",
    "\n",
    "    # combine minority and downsampled majority\n",
    "    downsampled = pd.concat([no_downsampled, yes])\n",
    "\n",
    "    y_train = downsampled.readmitted\n",
    "    X_train = downsampled.drop('readmitted', axis=1)\n",
    "\n",
    "    # downsampled_dt = DecisionTreeClassifier(max_depth=5)\n",
    "    downsampled_lr = LogisticRegression(solver='liblinear')\n",
    "\n",
    "    # downsampled_dt.fit(X_train, y_train)\n",
    "    downsampled_lr.fit(X_train, y_train)\n",
    "\n",
    "    # downsampled_pred = upsampled_dt.predict(X_test)\n",
    "    downsampled_pred = downsampled_lr.predict(X_test)\n",
    "\n",
    "    # checking accuracy\n",
    "    print('Test Accuracy score: ', accuracy_score(y_test, downsampled_pred))\n",
    "\n",
    "    # checking accuracy\n",
    "    print('Test F1 score: ', f1_score(y_test, downsampled_pred))\n",
    "\n",
    "    # checking confusion matrix\n",
    "\n",
    "    # The ConfusionMatrix visualizer taxes a model\n",
    "    cm = ConfusionMatrix(downsampled_lr, classes=[0, 1])\n",
    "\n",
    "    # Fit fits the passed model. This is unnecessary if you pass the visualizer a pre-fitted model\n",
    "    cm.fit(X_train, y_train)\n",
    "\n",
    "    # To create the ConfusionMatrix, we need some test data. Score runs predict() on the data\n",
    "    # and then creates the confusion_matrix from scikit-learn.\n",
    "    cm.score(X_test, y_test)\n",
    "\n",
    "    # How did we do?\n",
    "    cm.poof()"
   ]
  },
  {
   "cell_type": "code",
   "execution_count": 16,
   "metadata": {},
   "outputs": [],
   "source": [
    "def smote(X_val, y_val, test_size=0.25, random_state=23):\n",
    "    # setting up testing and training sets\n",
    "    X_train, X_test, y_train, y_test = train_test_split(\n",
    "        X_val, y_val, test_size=test_size, random_state=random_state)\n",
    "\n",
    "    sm = SMOTE(random_state=23, ratio=1.0)\n",
    "    X_train, y_train = sm.fit_sample(X_train, y_train)\n",
    "\n",
    "    # smote_dt = DecisionTreeClassifier(max_depth=5)\n",
    "    smote_lr = LogisticRegression(solver='liblinear')\n",
    "\n",
    "\n",
    "    # smote_dt.fit(X_train, y_train)\n",
    "    smote_lr.fit(X_train, y_train)\n",
    "\n",
    "\n",
    "    # smote_pred = smote_dt.predict(X_test)\n",
    "    smote_pred = smote_lr.predict(X_test)\n",
    "\n",
    "\n",
    "\n",
    "    # checking accuracy\n",
    "    print('Test Accuracy score: ', accuracy_score(y_test, smote_pred))\n",
    "\n",
    "\n",
    "    # checking accuracy\n",
    "    print('Test F1 score: ', f1_score(y_test, smote_pred))\n",
    "\n",
    "    # The ConfusionMatrix visualizer taxes a model\n",
    "    cm = ConfusionMatrix(smote_lr, classes=[0,1])\n",
    "\n",
    "    # Fit fits the passed model. This is unnecessary if you pass the visualizer a pre-fitted model\n",
    "    cm.fit(X_train, y_train)\n",
    "\n",
    "    # To create the ConfusionMatrix, we need some test data. Score runs predict() on the data\n",
    "    # and then creates the confusion_matrix from scikit-learn.\n",
    "    cm.score(X_test, y_test)\n",
    "\n",
    "    # How did we do?\n",
    "    cm.poof()"
   ]
  },
  {
   "cell_type": "code",
   "execution_count": 22,
   "metadata": {},
   "outputs": [
    {
     "name": "stdout",
     "output_type": "stream",
     "text": [
      "Test Accuracy score:  0.5870994248151191\n"
     ]
    },
    {
     "name": "stderr",
     "output_type": "stream",
     "text": [
      "C:\\Users\\Rocio\\Anaconda3\\lib\\site-packages\\sklearn\\metrics\\classification.py:1437: UndefinedMetricWarning: F-score is ill-defined and being set to 0.0 due to no predicted samples.\n",
      "  'precision', 'predicted', average, warn_for)\n"
     ]
    },
    {
     "name": "stdout",
     "output_type": "stream",
     "text": [
      "Test F1 score:  0.0\n"
     ]
    },
    {
     "data": {
      "image/png": "[encoded data removed]",
      "text/plain": [
       "<Figure size 432x288 with 1 Axes>"
      ]
     },
     "metadata": {},
     "output_type": "display_data"
    },
    {
     "name": "stdout",
     "output_type": "stream",
     "text": [
      "Test Accuracy score:  0.622608287357671\n",
      "Test F1 score:  0.3391572456320658\n"
     ]
    },
    {
     "data": {
      "image/png": "[encoded data removed]",
      "text/plain": [
       "<Figure size 432x288 with 1 Axes>"
      ]
     },
     "metadata": {},
     "output_type": "display_data"
    },
    {
     "name": "stdout",
     "output_type": "stream",
     "text": [
      "Test Accuracy score:  0.6012442774973589\n",
      "Test F1 score:  0.5315774958632101\n"
     ]
    },
    {
     "data": {
      "image/png": "[encoded data removed]",
      "text/plain": [
       "<Figure size 432x288 with 1 Axes>"
      ]
     },
     "metadata": {},
     "output_type": "display_data"
    },
    {
     "name": "stdout",
     "output_type": "stream",
     "text": [
      "Test Accuracy score:  0.5994835074539265\n",
      "Test F1 score:  0.5297684674751929\n"
     ]
    },
    {
     "data": {
      "image/png": "[encoded data removed]",
      "text/plain": [
       "<Figure size 432x288 with 1 Axes>"
      ]
     },
     "metadata": {},
     "output_type": "display_data"
    },
    {
     "name": "stdout",
     "output_type": "stream",
     "text": [
      "Test Accuracy score:  0.6084047423406503\n",
      "Test F1 score:  0.39422553114218273\n"
     ]
    },
    {
     "data": {
      "image/png": "[encoded data removed]",
      "text/plain": [
       "<Figure size 432x288 with 1 Axes>"
      ]
     },
     "metadata": {},
     "output_type": "display_data"
    }
   ],
   "source": [
    "X = data.drop(columns = ['readmitted'])\n",
    "y = data.readmitted\n",
    "\n",
    "X_train, X_test, y_train, y_test = train_test_split(\n",
    "    X, y, test_size=0.25, random_state=23)\n",
    "\n",
    "dummy_binary(X_train, y_train, X_test, y_test)\n",
    "\n",
    "reg_unbalanced(X_train, y_train, X_test, y_test)\n",
    "\n",
    "no, yes = y_split(X_train, y_train)\n",
    "\n",
    "upsample(no, yes, X_test, y_test)\n",
    "\n",
    "downsampled(no, yes, X_test, y_test)\n",
    "\n",
    "smote(X, y, test_size=0.25, random_state=23)"
   ]
  },
  {
   "cell_type": "code",
   "execution_count": 32,
   "metadata": {
    "scrolled": true
   },
   "outputs": [
    {
     "name": "stdout",
     "output_type": "stream",
     "text": [
      "0.6165514205535482\n"
     ]
    },
    {
     "data": {
      "text/html": [
       "<div>\n",
       "<style scoped>\n",
       "    .dataframe tbody tr th:only-of-type {\n",
       "        vertical-align: middle;\n",
       "    }\n",
       "\n",
       "    .dataframe tbody tr th {\n",
       "        vertical-align: top;\n",
       "    }\n",
       "\n",
       "    .dataframe thead th {\n",
       "        text-align: right;\n",
       "    }\n",
       "</style>\n",
       "<table border=\"1\" class=\"dataframe\">\n",
       "  <thead>\n",
       "    <tr style=\"text-align: right;\">\n",
       "      <th></th>\n",
       "      <th>importances</th>\n",
       "    </tr>\n",
       "  </thead>\n",
       "  <tbody>\n",
       "    <tr>\n",
       "      <th>number_inpatient</th>\n",
       "      <td>0.308257</td>\n",
       "    </tr>\n",
       "    <tr>\n",
       "      <th>number_diagnoses</th>\n",
       "      <td>0.144633</td>\n",
       "    </tr>\n",
       "    <tr>\n",
       "      <th>number_emergency</th>\n",
       "      <td>0.088782</td>\n",
       "    </tr>\n",
       "    <tr>\n",
       "      <th>number_outpatient</th>\n",
       "      <td>0.065149</td>\n",
       "    </tr>\n",
       "    <tr>\n",
       "      <th>age</th>\n",
       "      <td>0.059143</td>\n",
       "    </tr>\n",
       "    <tr>\n",
       "      <th>num_meds</th>\n",
       "      <td>0.051386</td>\n",
       "    </tr>\n",
       "    <tr>\n",
       "      <th>num_medications</th>\n",
       "      <td>0.046776</td>\n",
       "    </tr>\n",
       "    <tr>\n",
       "      <th>num_lab_procedures</th>\n",
       "      <td>0.041694</td>\n",
       "    </tr>\n",
       "    <tr>\n",
       "      <th>time_in_hospital</th>\n",
       "      <td>0.036696</td>\n",
       "    </tr>\n",
       "    <tr>\n",
       "      <th>diabetesmed</th>\n",
       "      <td>0.027045</td>\n",
       "    </tr>\n",
       "    <tr>\n",
       "      <th>num_procedures</th>\n",
       "      <td>0.012890</td>\n",
       "    </tr>\n",
       "    <tr>\n",
       "      <th>icd_7</th>\n",
       "      <td>0.011511</td>\n",
       "    </tr>\n",
       "    <tr>\n",
       "      <th>icd_11</th>\n",
       "      <td>0.011189</td>\n",
       "    </tr>\n",
       "    <tr>\n",
       "      <th>icd_8</th>\n",
       "      <td>0.010854</td>\n",
       "    </tr>\n",
       "    <tr>\n",
       "      <th>num_down</th>\n",
       "      <td>0.007222</td>\n",
       "    </tr>\n",
       "    <tr>\n",
       "      <th>change</th>\n",
       "      <td>0.007061</td>\n",
       "    </tr>\n",
       "    <tr>\n",
       "      <th>metformin_steady</th>\n",
       "      <td>0.006569</td>\n",
       "    </tr>\n",
       "    <tr>\n",
       "      <th>insulin_down</th>\n",
       "      <td>0.006338</td>\n",
       "    </tr>\n",
       "    <tr>\n",
       "      <th>icd_12</th>\n",
       "      <td>0.004834</td>\n",
       "    </tr>\n",
       "    <tr>\n",
       "      <th>icd_3</th>\n",
       "      <td>0.003491</td>\n",
       "    </tr>\n",
       "    <tr>\n",
       "      <th>african_american</th>\n",
       "      <td>0.002900</td>\n",
       "    </tr>\n",
       "    <tr>\n",
       "      <th>icd_2</th>\n",
       "      <td>0.002775</td>\n",
       "    </tr>\n",
       "    <tr>\n",
       "      <th>a1_norm</th>\n",
       "      <td>0.002686</td>\n",
       "    </tr>\n",
       "    <tr>\n",
       "      <th>insulin_up</th>\n",
       "      <td>0.002102</td>\n",
       "    </tr>\n",
       "    <tr>\n",
       "      <th>icd_17</th>\n",
       "      <td>0.001966</td>\n",
       "    </tr>\n",
       "    <tr>\n",
       "      <th>num_up</th>\n",
       "      <td>0.001876</td>\n",
       "    </tr>\n",
       "    <tr>\n",
       "      <th>glu_200_300</th>\n",
       "      <td>0.001847</td>\n",
       "    </tr>\n",
       "    <tr>\n",
       "      <th>glipizide_steady</th>\n",
       "      <td>0.001828</td>\n",
       "    </tr>\n",
       "    <tr>\n",
       "      <th>icd_13</th>\n",
       "      <td>0.001817</td>\n",
       "    </tr>\n",
       "    <tr>\n",
       "      <th>icd_10</th>\n",
       "      <td>0.001793</td>\n",
       "    </tr>\n",
       "    <tr>\n",
       "      <th>...</th>\n",
       "      <td>...</td>\n",
       "    </tr>\n",
       "    <tr>\n",
       "      <th>female</th>\n",
       "      <td>0.001242</td>\n",
       "    </tr>\n",
       "    <tr>\n",
       "      <th>glu_norm</th>\n",
       "      <td>0.001207</td>\n",
       "    </tr>\n",
       "    <tr>\n",
       "      <th>other</th>\n",
       "      <td>0.001199</td>\n",
       "    </tr>\n",
       "    <tr>\n",
       "      <th>icd_6</th>\n",
       "      <td>0.001156</td>\n",
       "    </tr>\n",
       "    <tr>\n",
       "      <th>asian</th>\n",
       "      <td>0.000980</td>\n",
       "    </tr>\n",
       "    <tr>\n",
       "      <th>icd_4</th>\n",
       "      <td>0.000963</td>\n",
       "    </tr>\n",
       "    <tr>\n",
       "      <th>hispanic</th>\n",
       "      <td>0.000962</td>\n",
       "    </tr>\n",
       "    <tr>\n",
       "      <th>glyburide_steady</th>\n",
       "      <td>0.000807</td>\n",
       "    </tr>\n",
       "    <tr>\n",
       "      <th>icd_18</th>\n",
       "      <td>0.000788</td>\n",
       "    </tr>\n",
       "    <tr>\n",
       "      <th>glimepiride_steady</th>\n",
       "      <td>0.000723</td>\n",
       "    </tr>\n",
       "    <tr>\n",
       "      <th>pioglitazone_steady</th>\n",
       "      <td>0.000721</td>\n",
       "    </tr>\n",
       "    <tr>\n",
       "      <th>icd_1</th>\n",
       "      <td>0.000557</td>\n",
       "    </tr>\n",
       "    <tr>\n",
       "      <th>icd_19</th>\n",
       "      <td>0.000433</td>\n",
       "    </tr>\n",
       "    <tr>\n",
       "      <th>metformin_down</th>\n",
       "      <td>0.000429</td>\n",
       "    </tr>\n",
       "    <tr>\n",
       "      <th>a1_7_8</th>\n",
       "      <td>0.000421</td>\n",
       "    </tr>\n",
       "    <tr>\n",
       "      <th>glipizide_up</th>\n",
       "      <td>0.000399</td>\n",
       "    </tr>\n",
       "    <tr>\n",
       "      <th>icd_14</th>\n",
       "      <td>0.000379</td>\n",
       "    </tr>\n",
       "    <tr>\n",
       "      <th>glyburide_up</th>\n",
       "      <td>0.000289</td>\n",
       "    </tr>\n",
       "    <tr>\n",
       "      <th>metformin_up</th>\n",
       "      <td>0.000281</td>\n",
       "    </tr>\n",
       "    <tr>\n",
       "      <th>glipizide_down</th>\n",
       "      <td>0.000224</td>\n",
       "    </tr>\n",
       "    <tr>\n",
       "      <th>glimepiride_up</th>\n",
       "      <td>0.000210</td>\n",
       "    </tr>\n",
       "    <tr>\n",
       "      <th>pioglitazone_up</th>\n",
       "      <td>0.000175</td>\n",
       "    </tr>\n",
       "    <tr>\n",
       "      <th>glyburide_down</th>\n",
       "      <td>0.000174</td>\n",
       "    </tr>\n",
       "    <tr>\n",
       "      <th>pioglitazone_down</th>\n",
       "      <td>0.000127</td>\n",
       "    </tr>\n",
       "    <tr>\n",
       "      <th>rosiglitazone_down</th>\n",
       "      <td>0.000103</td>\n",
       "    </tr>\n",
       "    <tr>\n",
       "      <th>rosiglitazone_up</th>\n",
       "      <td>0.000079</td>\n",
       "    </tr>\n",
       "    <tr>\n",
       "      <th>repaglinide_up</th>\n",
       "      <td>0.000060</td>\n",
       "    </tr>\n",
       "    <tr>\n",
       "      <th>glimepiride_down</th>\n",
       "      <td>0.000051</td>\n",
       "    </tr>\n",
       "    <tr>\n",
       "      <th>repaglinide_down</th>\n",
       "      <td>0.000002</td>\n",
       "    </tr>\n",
       "    <tr>\n",
       "      <th>icd_15</th>\n",
       "      <td>0.000000</td>\n",
       "    </tr>\n",
       "  </tbody>\n",
       "</table>\n",
       "<p>68 rows × 1 columns</p>\n",
       "</div>"
      ],
      "text/plain": [
       "                     importances\n",
       "number_inpatient        0.308257\n",
       "number_diagnoses        0.144633\n",
       "number_emergency        0.088782\n",
       "number_outpatient       0.065149\n",
       "age                     0.059143\n",
       "num_meds                0.051386\n",
       "num_medications         0.046776\n",
       "num_lab_procedures      0.041694\n",
       "time_in_hospital        0.036696\n",
       "diabetesmed             0.027045\n",
       "num_procedures          0.012890\n",
       "icd_7                   0.011511\n",
       "icd_11                  0.011189\n",
       "icd_8                   0.010854\n",
       "num_down                0.007222\n",
       "change                  0.007061\n",
       "metformin_steady        0.006569\n",
       "insulin_down            0.006338\n",
       "icd_12                  0.004834\n",
       "icd_3                   0.003491\n",
       "african_american        0.002900\n",
       "icd_2                   0.002775\n",
       "a1_norm                 0.002686\n",
       "insulin_up              0.002102\n",
       "icd_17                  0.001966\n",
       "num_up                  0.001876\n",
       "glu_200_300             0.001847\n",
       "glipizide_steady        0.001828\n",
       "icd_13                  0.001817\n",
       "icd_10                  0.001793\n",
       "...                          ...\n",
       "female                  0.001242\n",
       "glu_norm                0.001207\n",
       "other                   0.001199\n",
       "icd_6                   0.001156\n",
       "asian                   0.000980\n",
       "icd_4                   0.000963\n",
       "hispanic                0.000962\n",
       "glyburide_steady        0.000807\n",
       "icd_18                  0.000788\n",
       "glimepiride_steady      0.000723\n",
       "pioglitazone_steady     0.000721\n",
       "icd_1                   0.000557\n",
       "icd_19                  0.000433\n",
       "metformin_down          0.000429\n",
       "a1_7_8                  0.000421\n",
       "glipizide_up            0.000399\n",
       "icd_14                  0.000379\n",
       "glyburide_up            0.000289\n",
       "metformin_up            0.000281\n",
       "glipizide_down          0.000224\n",
       "glimepiride_up          0.000210\n",
       "pioglitazone_up         0.000175\n",
       "glyburide_down          0.000174\n",
       "pioglitazone_down       0.000127\n",
       "rosiglitazone_down      0.000103\n",
       "rosiglitazone_up        0.000079\n",
       "repaglinide_up          0.000060\n",
       "glimepiride_down        0.000051\n",
       "repaglinide_down        0.000002\n",
       "icd_15                  0.000000\n",
       "\n",
       "[68 rows x 1 columns]"
      ]
     },
     "execution_count": 32,
     "metadata": {},
     "output_type": "execute_result"
    }
   ],
   "source": [
    "rfc = RandomForestClassifier(n_estimators=300, max_features= 'sqrt', max_depth= 5,  oob_score=True)\n",
    "cv = cross_validate(rfc, X, y, return_estimator=True, cv=5)\n",
    "est = cv['estimator'][3]\n",
    "\n",
    "print(est.oob_score_)\n",
    "\n",
    "index = X.columns.tolist()\n",
    "feat_imp = pd.DataFrame(est.feature_importances_, index = index, columns = ['importances'])\n",
    "feat_imp.sort_values(by = 'importances', ascending = False)"
   ]
  },
  {
   "cell_type": "code",
   "execution_count": 33,
   "metadata": {},
   "outputs": [],
   "source": [
    "data_gluc = data.loc[(data['glu_200_300'] == 1) | (data['glu_over_300'] == 1) | (data['glu_norm'] == 1)]\n",
    "\n",
    "data_a1 = data.loc[(data['a1_7_8'] == 1) | (data['a1_norm'] == 1) | (data['al_over_8'] == 1)]"
   ]
  },
  {
   "cell_type": "code",
   "execution_count": 34,
   "metadata": {},
   "outputs": [],
   "source": [
    "data_gluc = data_gluc.drop(columns = ['icd_11', 'icd_14', 'icd_15', 'repaglinide_up', 'glimepiride_down',\n",
    "                                     'glimepiride_up', 'pioglitazone_down', 'pioglitazone_up',\n",
    "                                      'rosiglitazone_down', 'rosiglitazone_up'])"
   ]
  },
  {
   "cell_type": "code",
   "execution_count": 37,
   "metadata": {},
   "outputs": [
    {
     "name": "stdout",
     "output_type": "stream",
     "text": [
      "Test Accuracy score:  0.5755743651753326\n"
     ]
    },
    {
     "name": "stderr",
     "output_type": "stream",
     "text": [
      "C:\\Users\\Rocio\\Anaconda3\\lib\\site-packages\\sklearn\\metrics\\classification.py:1437: UndefinedMetricWarning: F-score is ill-defined and being set to 0.0 due to no predicted samples.\n",
      "  'precision', 'predicted', average, warn_for)\n"
     ]
    },
    {
     "name": "stdout",
     "output_type": "stream",
     "text": [
      "Test F1 score:  0.0\n"
     ]
    },
    {
     "data": {
      "image/png": "[encoded data removed]",
      "text/plain": [
       "<Figure size 432x288 with 1 Axes>"
      ]
     },
     "metadata": {},
     "output_type": "display_data"
    },
    {
     "name": "stdout",
     "output_type": "stream",
     "text": [
      "Test Accuracy score:  0.626360338573156\n",
      "Test F1 score:  0.49427168576104746\n"
     ]
    },
    {
     "data": {
      "image/png": "[encoded data removed]",
      "text/plain": [
       "<Figure size 432x288 with 1 Axes>"
      ]
     },
     "metadata": {},
     "output_type": "display_data"
    },
    {
     "name": "stdout",
     "output_type": "stream",
     "text": [
      "Test Accuracy score:  0.5912938331318017\n",
      "Test F1 score:  0.5198863636363636\n"
     ]
    },
    {
     "data": {
      "image/png": "[encoded data removed]",
      "text/plain": [
       "<Figure size 432x288 with 1 Axes>"
      ]
     },
     "metadata": {},
     "output_type": "display_data"
    },
    {
     "name": "stdout",
     "output_type": "stream",
     "text": [
      "Test Accuracy score:  0.599758162031439\n",
      "Test F1 score:  0.5447042640990372\n"
     ]
    },
    {
     "data": {
      "image/png": "[encoded data removed]",
      "text/plain": [
       "<Figure size 432x288 with 1 Axes>"
      ]
     },
     "metadata": {},
     "output_type": "display_data"
    },
    {
     "name": "stdout",
     "output_type": "stream",
     "text": [
      "Test Accuracy score:  0.6239419588875453\n",
      "Test F1 score:  0.5102362204724409\n"
     ]
    },
    {
     "data": {
      "image/png": "[encoded data removed]",
      "text/plain": [
       "<Figure size 432x288 with 1 Axes>"
      ]
     },
     "metadata": {},
     "output_type": "display_data"
    }
   ],
   "source": [
    "X_gluc = data_gluc.drop(columns = ['readmitted'])\n",
    "y_gluc = data_gluc.readmitted\n",
    "\n",
    "X_train, X_test, y_train, y_test = train_test_split(\n",
    "    X_gluc, y_gluc, test_size=0.25, random_state=23)\n",
    "\n",
    "dummy_binary(X_train, y_train, X_test, y_test)\n",
    "\n",
    "reg_unbalanced(X_train, y_train, X_test, y_test)\n",
    "\n",
    "no, yes = y_split(X_train, y_train)\n",
    "\n",
    "upsample(no, yes, X_test, y_test)\n",
    "\n",
    "downsampled(no, yes, X_test, y_test)\n",
    "\n",
    "smote(X_gluc, y_gluc, test_size=0.25, random_state=23)"
   ]
  },
  {
   "cell_type": "code",
   "execution_count": 39,
   "metadata": {},
   "outputs": [
    {
     "name": "stdout",
     "output_type": "stream",
     "text": [
      "0.6073318216175358\n"
     ]
    },
    {
     "data": {
      "text/html": [
       "<div>\n",
       "<style scoped>\n",
       "    .dataframe tbody tr th:only-of-type {\n",
       "        vertical-align: middle;\n",
       "    }\n",
       "\n",
       "    .dataframe tbody tr th {\n",
       "        vertical-align: top;\n",
       "    }\n",
       "\n",
       "    .dataframe thead th {\n",
       "        text-align: right;\n",
       "    }\n",
       "</style>\n",
       "<table border=\"1\" class=\"dataframe\">\n",
       "  <thead>\n",
       "    <tr style=\"text-align: right;\">\n",
       "      <th></th>\n",
       "      <th>importances</th>\n",
       "    </tr>\n",
       "  </thead>\n",
       "  <tbody>\n",
       "    <tr>\n",
       "      <th>num_lab_procedures</th>\n",
       "      <td>0.177567</td>\n",
       "    </tr>\n",
       "    <tr>\n",
       "      <th>number_inpatient</th>\n",
       "      <td>0.165790</td>\n",
       "    </tr>\n",
       "    <tr>\n",
       "      <th>time_in_hospital</th>\n",
       "      <td>0.080327</td>\n",
       "    </tr>\n",
       "    <tr>\n",
       "      <th>number_diagnoses</th>\n",
       "      <td>0.063303</td>\n",
       "    </tr>\n",
       "    <tr>\n",
       "      <th>num_medications</th>\n",
       "      <td>0.055271</td>\n",
       "    </tr>\n",
       "    <tr>\n",
       "      <th>number_emergency</th>\n",
       "      <td>0.039428</td>\n",
       "    </tr>\n",
       "    <tr>\n",
       "      <th>num_meds</th>\n",
       "      <td>0.035070</td>\n",
       "    </tr>\n",
       "    <tr>\n",
       "      <th>age</th>\n",
       "      <td>0.033251</td>\n",
       "    </tr>\n",
       "    <tr>\n",
       "      <th>diabetesmed</th>\n",
       "      <td>0.025479</td>\n",
       "    </tr>\n",
       "    <tr>\n",
       "      <th>num_procedures</th>\n",
       "      <td>0.024844</td>\n",
       "    </tr>\n",
       "    <tr>\n",
       "      <th>number_outpatient</th>\n",
       "      <td>0.019008</td>\n",
       "    </tr>\n",
       "    <tr>\n",
       "      <th>glu_norm</th>\n",
       "      <td>0.017625</td>\n",
       "    </tr>\n",
       "    <tr>\n",
       "      <th>glu_over_300</th>\n",
       "      <td>0.013121</td>\n",
       "    </tr>\n",
       "    <tr>\n",
       "      <th>icd_7</th>\n",
       "      <td>0.012804</td>\n",
       "    </tr>\n",
       "    <tr>\n",
       "      <th>icd_9</th>\n",
       "      <td>0.012663</td>\n",
       "    </tr>\n",
       "    <tr>\n",
       "      <th>icd_1</th>\n",
       "      <td>0.012271</td>\n",
       "    </tr>\n",
       "    <tr>\n",
       "      <th>icd_3</th>\n",
       "      <td>0.012155</td>\n",
       "    </tr>\n",
       "    <tr>\n",
       "      <th>female</th>\n",
       "      <td>0.011345</td>\n",
       "    </tr>\n",
       "    <tr>\n",
       "      <th>icd_6</th>\n",
       "      <td>0.009521</td>\n",
       "    </tr>\n",
       "    <tr>\n",
       "      <th>icd_10</th>\n",
       "      <td>0.008533</td>\n",
       "    </tr>\n",
       "    <tr>\n",
       "      <th>change</th>\n",
       "      <td>0.008125</td>\n",
       "    </tr>\n",
       "    <tr>\n",
       "      <th>icd_8</th>\n",
       "      <td>0.007948</td>\n",
       "    </tr>\n",
       "    <tr>\n",
       "      <th>icd_4</th>\n",
       "      <td>0.007704</td>\n",
       "    </tr>\n",
       "    <tr>\n",
       "      <th>insulin_up</th>\n",
       "      <td>0.007651</td>\n",
       "    </tr>\n",
       "    <tr>\n",
       "      <th>al_over_8</th>\n",
       "      <td>0.007288</td>\n",
       "    </tr>\n",
       "    <tr>\n",
       "      <th>icd_13</th>\n",
       "      <td>0.006766</td>\n",
       "    </tr>\n",
       "    <tr>\n",
       "      <th>icd_12</th>\n",
       "      <td>0.006619</td>\n",
       "    </tr>\n",
       "    <tr>\n",
       "      <th>icd_16</th>\n",
       "      <td>0.006472</td>\n",
       "    </tr>\n",
       "    <tr>\n",
       "      <th>insulin_steady</th>\n",
       "      <td>0.006128</td>\n",
       "    </tr>\n",
       "    <tr>\n",
       "      <th>num_down</th>\n",
       "      <td>0.005782</td>\n",
       "    </tr>\n",
       "    <tr>\n",
       "      <th>metformin_steady</th>\n",
       "      <td>0.005772</td>\n",
       "    </tr>\n",
       "    <tr>\n",
       "      <th>glu_200_300</th>\n",
       "      <td>0.005670</td>\n",
       "    </tr>\n",
       "    <tr>\n",
       "      <th>icd_17</th>\n",
       "      <td>0.005081</td>\n",
       "    </tr>\n",
       "    <tr>\n",
       "      <th>num_up</th>\n",
       "      <td>0.005073</td>\n",
       "    </tr>\n",
       "    <tr>\n",
       "      <th>icd_2</th>\n",
       "      <td>0.005011</td>\n",
       "    </tr>\n",
       "    <tr>\n",
       "      <th>icd_19</th>\n",
       "      <td>0.004941</td>\n",
       "    </tr>\n",
       "    <tr>\n",
       "      <th>hispanic</th>\n",
       "      <td>0.004862</td>\n",
       "    </tr>\n",
       "    <tr>\n",
       "      <th>glipizide_steady</th>\n",
       "      <td>0.004859</td>\n",
       "    </tr>\n",
       "    <tr>\n",
       "      <th>pioglitazone_steady</th>\n",
       "      <td>0.004692</td>\n",
       "    </tr>\n",
       "    <tr>\n",
       "      <th>icd_5</th>\n",
       "      <td>0.004651</td>\n",
       "    </tr>\n",
       "    <tr>\n",
       "      <th>african_american</th>\n",
       "      <td>0.004639</td>\n",
       "    </tr>\n",
       "    <tr>\n",
       "      <th>a1_7_8</th>\n",
       "      <td>0.004424</td>\n",
       "    </tr>\n",
       "    <tr>\n",
       "      <th>glimepiride_steady</th>\n",
       "      <td>0.004353</td>\n",
       "    </tr>\n",
       "    <tr>\n",
       "      <th>glyburide_steady</th>\n",
       "      <td>0.004274</td>\n",
       "    </tr>\n",
       "    <tr>\n",
       "      <th>other</th>\n",
       "      <td>0.004139</td>\n",
       "    </tr>\n",
       "    <tr>\n",
       "      <th>insulin_down</th>\n",
       "      <td>0.004128</td>\n",
       "    </tr>\n",
       "    <tr>\n",
       "      <th>icd_18</th>\n",
       "      <td>0.003888</td>\n",
       "    </tr>\n",
       "    <tr>\n",
       "      <th>rosiglitazone_steady</th>\n",
       "      <td>0.002563</td>\n",
       "    </tr>\n",
       "    <tr>\n",
       "      <th>repaglinide_steady</th>\n",
       "      <td>0.002531</td>\n",
       "    </tr>\n",
       "    <tr>\n",
       "      <th>metformin_down</th>\n",
       "      <td>0.002494</td>\n",
       "    </tr>\n",
       "    <tr>\n",
       "      <th>glipizide_up</th>\n",
       "      <td>0.002441</td>\n",
       "    </tr>\n",
       "    <tr>\n",
       "      <th>asian</th>\n",
       "      <td>0.002388</td>\n",
       "    </tr>\n",
       "    <tr>\n",
       "      <th>glyburide_up</th>\n",
       "      <td>0.001833</td>\n",
       "    </tr>\n",
       "    <tr>\n",
       "      <th>glyburide_down</th>\n",
       "      <td>0.001732</td>\n",
       "    </tr>\n",
       "    <tr>\n",
       "      <th>a1_norm</th>\n",
       "      <td>0.001530</td>\n",
       "    </tr>\n",
       "    <tr>\n",
       "      <th>metformin_up</th>\n",
       "      <td>0.001324</td>\n",
       "    </tr>\n",
       "    <tr>\n",
       "      <th>glipizide_down</th>\n",
       "      <td>0.000848</td>\n",
       "    </tr>\n",
       "    <tr>\n",
       "      <th>repaglinide_down</th>\n",
       "      <td>0.000000</td>\n",
       "    </tr>\n",
       "  </tbody>\n",
       "</table>\n",
       "</div>"
      ],
      "text/plain": [
       "                      importances\n",
       "num_lab_procedures       0.177567\n",
       "number_inpatient         0.165790\n",
       "time_in_hospital         0.080327\n",
       "number_diagnoses         0.063303\n",
       "num_medications          0.055271\n",
       "number_emergency         0.039428\n",
       "num_meds                 0.035070\n",
       "age                      0.033251\n",
       "diabetesmed              0.025479\n",
       "num_procedures           0.024844\n",
       "number_outpatient        0.019008\n",
       "glu_norm                 0.017625\n",
       "glu_over_300             0.013121\n",
       "icd_7                    0.012804\n",
       "icd_9                    0.012663\n",
       "icd_1                    0.012271\n",
       "icd_3                    0.012155\n",
       "female                   0.011345\n",
       "icd_6                    0.009521\n",
       "icd_10                   0.008533\n",
       "change                   0.008125\n",
       "icd_8                    0.007948\n",
       "icd_4                    0.007704\n",
       "insulin_up               0.007651\n",
       "al_over_8                0.007288\n",
       "icd_13                   0.006766\n",
       "icd_12                   0.006619\n",
       "icd_16                   0.006472\n",
       "insulin_steady           0.006128\n",
       "num_down                 0.005782\n",
       "metformin_steady         0.005772\n",
       "glu_200_300              0.005670\n",
       "icd_17                   0.005081\n",
       "num_up                   0.005073\n",
       "icd_2                    0.005011\n",
       "icd_19                   0.004941\n",
       "hispanic                 0.004862\n",
       "glipizide_steady         0.004859\n",
       "pioglitazone_steady      0.004692\n",
       "icd_5                    0.004651\n",
       "african_american         0.004639\n",
       "a1_7_8                   0.004424\n",
       "glimepiride_steady       0.004353\n",
       "glyburide_steady         0.004274\n",
       "other                    0.004139\n",
       "insulin_down             0.004128\n",
       "icd_18                   0.003888\n",
       "rosiglitazone_steady     0.002563\n",
       "repaglinide_steady       0.002531\n",
       "metformin_down           0.002494\n",
       "glipizide_up             0.002441\n",
       "asian                    0.002388\n",
       "glyburide_up             0.001833\n",
       "glyburide_down           0.001732\n",
       "a1_norm                  0.001530\n",
       "metformin_up             0.001324\n",
       "glipizide_down           0.000848\n",
       "repaglinide_down         0.000000"
      ]
     },
     "execution_count": 39,
     "metadata": {},
     "output_type": "execute_result"
    }
   ],
   "source": [
    "rfc = RandomForestClassifier(n_estimators=300, max_features= 'sqrt', max_depth= 5,  oob_score=True)\n",
    "cv = cross_validate(rfc, X_gluc, y_gluc, return_estimator=True, cv=5)\n",
    "est = cv['estimator'][3]\n",
    "\n",
    "print(est.oob_score_)\n",
    "\n",
    "index = X_gluc.columns.tolist()\n",
    "feat_imp = pd.DataFrame(est.feature_importances_, index = index, columns = ['importances'])\n",
    "feat_imp.sort_values(by = 'importances', ascending = False)"
   ]
  },
  {
   "cell_type": "code",
   "execution_count": 40,
   "metadata": {},
   "outputs": [],
   "source": [
    "def y_split_race(X_train, y_train):\n",
    "    training = pd.concat([X_train, y_train], axis=1)\n",
    "    training_aa = training[training['african_american'] == 1]\n",
    "    training_asian = training[training['asian'] == 1]\n",
    "    training_hispanic = training[training['hispanic'] == 1]\n",
    "    training_other = training[training['other'] == 1]\n",
    "    training_cauc = training[(training['african_american'] == 0) & (\n",
    "        training['asian'] == 0) & (training['hispanic'] == 0) & (training['other'] == 0)]\n",
    "    return training_aa, training_asian, training_hispanic, training_other, training_cauc"
   ]
  },
  {
   "cell_type": "code",
   "execution_count": 44,
   "metadata": {},
   "outputs": [
    {
     "name": "stdout",
     "output_type": "stream",
     "text": [
      "0.8305357142857143\n"
     ]
    },
    {
     "data": {
      "text/html": [
       "<div>\n",
       "<style scoped>\n",
       "    .dataframe tbody tr th:only-of-type {\n",
       "        vertical-align: middle;\n",
       "    }\n",
       "\n",
       "    .dataframe tbody tr th {\n",
       "        vertical-align: top;\n",
       "    }\n",
       "\n",
       "    .dataframe thead th {\n",
       "        text-align: right;\n",
       "    }\n",
       "</style>\n",
       "<table border=\"1\" class=\"dataframe\">\n",
       "  <thead>\n",
       "    <tr style=\"text-align: right;\">\n",
       "      <th></th>\n",
       "      <th>importances</th>\n",
       "    </tr>\n",
       "  </thead>\n",
       "  <tbody>\n",
       "    <tr>\n",
       "      <th>time_in_hospital</th>\n",
       "      <td>0.084282</td>\n",
       "    </tr>\n",
       "    <tr>\n",
       "      <th>num_lab_procedures</th>\n",
       "      <td>0.076708</td>\n",
       "    </tr>\n",
       "    <tr>\n",
       "      <th>al_over_8</th>\n",
       "      <td>0.070031</td>\n",
       "    </tr>\n",
       "    <tr>\n",
       "      <th>hispanic</th>\n",
       "      <td>0.069762</td>\n",
       "    </tr>\n",
       "    <tr>\n",
       "      <th>asian</th>\n",
       "      <td>0.055709</td>\n",
       "    </tr>\n",
       "    <tr>\n",
       "      <th>num_medications</th>\n",
       "      <td>0.054234</td>\n",
       "    </tr>\n",
       "    <tr>\n",
       "      <th>number_inpatient</th>\n",
       "      <td>0.048915</td>\n",
       "    </tr>\n",
       "    <tr>\n",
       "      <th>number_diagnoses</th>\n",
       "      <td>0.042617</td>\n",
       "    </tr>\n",
       "    <tr>\n",
       "      <th>metformin_steady</th>\n",
       "      <td>0.037084</td>\n",
       "    </tr>\n",
       "    <tr>\n",
       "      <th>icd_16</th>\n",
       "      <td>0.035087</td>\n",
       "    </tr>\n",
       "    <tr>\n",
       "      <th>age</th>\n",
       "      <td>0.032543</td>\n",
       "    </tr>\n",
       "    <tr>\n",
       "      <th>icd_9</th>\n",
       "      <td>0.029220</td>\n",
       "    </tr>\n",
       "    <tr>\n",
       "      <th>num_meds</th>\n",
       "      <td>0.025794</td>\n",
       "    </tr>\n",
       "    <tr>\n",
       "      <th>num_procedures</th>\n",
       "      <td>0.022269</td>\n",
       "    </tr>\n",
       "    <tr>\n",
       "      <th>num_up</th>\n",
       "      <td>0.019592</td>\n",
       "    </tr>\n",
       "    <tr>\n",
       "      <th>icd_7</th>\n",
       "      <td>0.018787</td>\n",
       "    </tr>\n",
       "    <tr>\n",
       "      <th>change</th>\n",
       "      <td>0.018611</td>\n",
       "    </tr>\n",
       "    <tr>\n",
       "      <th>other</th>\n",
       "      <td>0.018118</td>\n",
       "    </tr>\n",
       "    <tr>\n",
       "      <th>glu_norm</th>\n",
       "      <td>0.017213</td>\n",
       "    </tr>\n",
       "    <tr>\n",
       "      <th>glimepiride_steady</th>\n",
       "      <td>0.016436</td>\n",
       "    </tr>\n",
       "    <tr>\n",
       "      <th>icd_3</th>\n",
       "      <td>0.014125</td>\n",
       "    </tr>\n",
       "    <tr>\n",
       "      <th>glipizide_up</th>\n",
       "      <td>0.013411</td>\n",
       "    </tr>\n",
       "    <tr>\n",
       "      <th>african_american</th>\n",
       "      <td>0.012968</td>\n",
       "    </tr>\n",
       "    <tr>\n",
       "      <th>glu_over_300</th>\n",
       "      <td>0.011479</td>\n",
       "    </tr>\n",
       "    <tr>\n",
       "      <th>icd_8</th>\n",
       "      <td>0.010983</td>\n",
       "    </tr>\n",
       "    <tr>\n",
       "      <th>diabetesmed</th>\n",
       "      <td>0.010362</td>\n",
       "    </tr>\n",
       "    <tr>\n",
       "      <th>insulin_down</th>\n",
       "      <td>0.009270</td>\n",
       "    </tr>\n",
       "    <tr>\n",
       "      <th>glu_200_300</th>\n",
       "      <td>0.009040</td>\n",
       "    </tr>\n",
       "    <tr>\n",
       "      <th>icd_2</th>\n",
       "      <td>0.008727</td>\n",
       "    </tr>\n",
       "    <tr>\n",
       "      <th>num_down</th>\n",
       "      <td>0.008196</td>\n",
       "    </tr>\n",
       "    <tr>\n",
       "      <th>insulin_steady</th>\n",
       "      <td>0.007968</td>\n",
       "    </tr>\n",
       "    <tr>\n",
       "      <th>insulin_up</th>\n",
       "      <td>0.007913</td>\n",
       "    </tr>\n",
       "    <tr>\n",
       "      <th>number_emergency</th>\n",
       "      <td>0.007425</td>\n",
       "    </tr>\n",
       "    <tr>\n",
       "      <th>icd_10</th>\n",
       "      <td>0.006730</td>\n",
       "    </tr>\n",
       "    <tr>\n",
       "      <th>female</th>\n",
       "      <td>0.006476</td>\n",
       "    </tr>\n",
       "    <tr>\n",
       "      <th>glyburide_steady</th>\n",
       "      <td>0.005802</td>\n",
       "    </tr>\n",
       "    <tr>\n",
       "      <th>glipizide_steady</th>\n",
       "      <td>0.004986</td>\n",
       "    </tr>\n",
       "    <tr>\n",
       "      <th>number_outpatient</th>\n",
       "      <td>0.004883</td>\n",
       "    </tr>\n",
       "    <tr>\n",
       "      <th>metformin_up</th>\n",
       "      <td>0.004528</td>\n",
       "    </tr>\n",
       "    <tr>\n",
       "      <th>a1_7_8</th>\n",
       "      <td>0.004516</td>\n",
       "    </tr>\n",
       "    <tr>\n",
       "      <th>repaglinide_steady</th>\n",
       "      <td>0.004409</td>\n",
       "    </tr>\n",
       "    <tr>\n",
       "      <th>icd_1</th>\n",
       "      <td>0.003962</td>\n",
       "    </tr>\n",
       "    <tr>\n",
       "      <th>rosiglitazone_steady</th>\n",
       "      <td>0.003785</td>\n",
       "    </tr>\n",
       "    <tr>\n",
       "      <th>glyburide_down</th>\n",
       "      <td>0.003674</td>\n",
       "    </tr>\n",
       "    <tr>\n",
       "      <th>icd_12</th>\n",
       "      <td>0.003325</td>\n",
       "    </tr>\n",
       "    <tr>\n",
       "      <th>icd_4</th>\n",
       "      <td>0.002976</td>\n",
       "    </tr>\n",
       "    <tr>\n",
       "      <th>icd_13</th>\n",
       "      <td>0.002752</td>\n",
       "    </tr>\n",
       "    <tr>\n",
       "      <th>icd_17</th>\n",
       "      <td>0.002616</td>\n",
       "    </tr>\n",
       "    <tr>\n",
       "      <th>icd_5</th>\n",
       "      <td>0.002396</td>\n",
       "    </tr>\n",
       "    <tr>\n",
       "      <th>icd_6</th>\n",
       "      <td>0.002077</td>\n",
       "    </tr>\n",
       "    <tr>\n",
       "      <th>icd_18</th>\n",
       "      <td>0.001623</td>\n",
       "    </tr>\n",
       "    <tr>\n",
       "      <th>pioglitazone_steady</th>\n",
       "      <td>0.001075</td>\n",
       "    </tr>\n",
       "    <tr>\n",
       "      <th>icd_19</th>\n",
       "      <td>0.000989</td>\n",
       "    </tr>\n",
       "    <tr>\n",
       "      <th>a1_norm</th>\n",
       "      <td>0.000808</td>\n",
       "    </tr>\n",
       "    <tr>\n",
       "      <th>glipizide_down</th>\n",
       "      <td>0.000317</td>\n",
       "    </tr>\n",
       "    <tr>\n",
       "      <th>metformin_down</th>\n",
       "      <td>0.000274</td>\n",
       "    </tr>\n",
       "    <tr>\n",
       "      <th>glyburide_up</th>\n",
       "      <td>0.000145</td>\n",
       "    </tr>\n",
       "    <tr>\n",
       "      <th>repaglinide_down</th>\n",
       "      <td>0.000000</td>\n",
       "    </tr>\n",
       "  </tbody>\n",
       "</table>\n",
       "</div>"
      ],
      "text/plain": [
       "                      importances\n",
       "time_in_hospital         0.084282\n",
       "num_lab_procedures       0.076708\n",
       "al_over_8                0.070031\n",
       "hispanic                 0.069762\n",
       "asian                    0.055709\n",
       "num_medications          0.054234\n",
       "number_inpatient         0.048915\n",
       "number_diagnoses         0.042617\n",
       "metformin_steady         0.037084\n",
       "icd_16                   0.035087\n",
       "age                      0.032543\n",
       "icd_9                    0.029220\n",
       "num_meds                 0.025794\n",
       "num_procedures           0.022269\n",
       "num_up                   0.019592\n",
       "icd_7                    0.018787\n",
       "change                   0.018611\n",
       "other                    0.018118\n",
       "glu_norm                 0.017213\n",
       "glimepiride_steady       0.016436\n",
       "icd_3                    0.014125\n",
       "glipizide_up             0.013411\n",
       "african_american         0.012968\n",
       "glu_over_300             0.011479\n",
       "icd_8                    0.010983\n",
       "diabetesmed              0.010362\n",
       "insulin_down             0.009270\n",
       "glu_200_300              0.009040\n",
       "icd_2                    0.008727\n",
       "num_down                 0.008196\n",
       "insulin_steady           0.007968\n",
       "insulin_up               0.007913\n",
       "number_emergency         0.007425\n",
       "icd_10                   0.006730\n",
       "female                   0.006476\n",
       "glyburide_steady         0.005802\n",
       "glipizide_steady         0.004986\n",
       "number_outpatient        0.004883\n",
       "metformin_up             0.004528\n",
       "a1_7_8                   0.004516\n",
       "repaglinide_steady       0.004409\n",
       "icd_1                    0.003962\n",
       "rosiglitazone_steady     0.003785\n",
       "glyburide_down           0.003674\n",
       "icd_12                   0.003325\n",
       "icd_4                    0.002976\n",
       "icd_13                   0.002752\n",
       "icd_17                   0.002616\n",
       "icd_5                    0.002396\n",
       "icd_6                    0.002077\n",
       "icd_18                   0.001623\n",
       "pioglitazone_steady      0.001075\n",
       "icd_19                   0.000989\n",
       "a1_norm                  0.000808\n",
       "glipizide_down           0.000317\n",
       "metformin_down           0.000274\n",
       "glyburide_up             0.000145\n",
       "repaglinide_down         0.000000"
      ]
     },
     "execution_count": 44,
     "metadata": {},
     "output_type": "execute_result"
    }
   ],
   "source": [
    "gluc_aa, gluc_asian, gluc_hispanic, gluc_other, gluc_cauc = y_split_race(X_gluc, y_gluc)\n",
    "\n",
    "gluc_aa_upsampled = resample(gluc_aa,\n",
    "                             replace=True,  # sample with replacement\n",
    "                             # match number in majority class\n",
    "                             n_samples=len(gluc_cauc),\n",
    "                             random_state=23)  # reproducible results\n",
    "gluc_asian_upsampled = resample(gluc_asian,\n",
    "                                replace=True,  # sample with replacement\n",
    "                                # match number in majority class\n",
    "                                n_samples=len(gluc_cauc),\n",
    "                                random_state=23)  # reproducible results\n",
    "gluc_hispanic_upsampled = resample(gluc_hispanic,\n",
    "                                   replace=True,  # sample with replacement\n",
    "                                   # match number in majority class\n",
    "                                   n_samples=len(gluc_cauc),\n",
    "                                   random_state=23)  # reproducible results\n",
    "gluc_other_upsampled = resample(gluc_other,\n",
    "                                replace=True,  # sample with replacement\n",
    "                                # match number in majority class\n",
    "                                n_samples=len(gluc_cauc),\n",
    "                                random_state=23)  # reproducible results\n",
    "\n",
    "upsampled = pd.concat([gluc_cauc, gluc_aa_upsampled, gluc_asian_upsampled,\n",
    "                       gluc_hispanic_upsampled, gluc_other_upsampled])\n",
    "\n",
    "upsampled_X = upsampled.drop(columns = ['readmitted'])\n",
    "upsampled_y = upsampled.readmitted\n",
    "\n",
    "X_train, X_test, y_train, y_test = train_test_split(\n",
    "    upsampled_X, upsampled_y, test_size=0.25, random_state=23)\n",
    "\n",
    "dummy_binary(X_train, y_train, X_test, y_test)\n",
    "\n",
    "reg_unbalanced(X_train, y_train, X_test, y_test)\n",
    "\n",
    "no, yes = y_split(X_train, y_train)\n",
    "\n",
    "upsample(no, yes, X_test, y_test)\n",
    "\n",
    "downsampled(no, yes, X_test, y_test)\n",
    "\n",
    "smote(upsampled_X, upsampled_y, test_size=0.25, random_state=23)\n",
    "\n",
    "rfc = RandomForestClassifier(n_estimators=300, max_features= 'sqrt', max_depth= 5,  oob_score=True)\n",
    "cv = cross_validate(rfc, upsampled_X, upsampled_y, return_estimator=True, cv=5)\n",
    "est = cv['estimator'][3]\n",
    "\n",
    "print(est.oob_score_)\n",
    "\n",
    "index = upsampled_X.columns.tolist()\n",
    "feat_imp = pd.DataFrame(est.feature_importances_, index = index, columns = ['importances'])\n",
    "feat_imp.sort_values(by = 'importances', ascending = False)\n",
    "\n",
    "rfc = RandomForestClassifier(n_estimators=300, max_features= 'sqrt', max_depth= 7,  oob_score=True)\n",
    "cv = cross_validate(rfc, upsampled_X, upsampled_y, return_estimator=True, cv=5)\n",
    "est = cv['estimator'][3]\n",
    "\n",
    "print(est.oob_score_)\n",
    "\n",
    "index = upsampled_X.columns.tolist()\n",
    "feat_imp = pd.DataFrame(est.feature_importances_, index = index, columns = ['importances'])\n",
    "feat_imp.sort_values(by = 'importances', ascending = False)"
   ]
  },
  {
   "cell_type": "code",
   "execution_count": null,
   "metadata": {},
   "outputs": [],
   "source": [
    "gluc_cauc_downsampled = resample(gluc_cauc,\n",
    "                             replace=True,  # sample with replacement\n",
    "                             # match number in majority class\n",
    "                             n_samples=len(gluc_aa),\n",
    "                             random_state=23)  # reproducible results\n",
    "gluc_asian_upsampled = resample(gluc_asian,\n",
    "                                replace=True,  # sample with replacement\n",
    "                                # match number in majority class\n",
    "                                n_samples=len(gluc_aa),\n",
    "                                random_state=23)  # reproducible results\n",
    "gluc_hispanic_upsampled = resample(gluc_hispanic,\n",
    "                                   replace=True,  # sample with replacement\n",
    "                                   # match number in majority class\n",
    "                                   n_samples=len(gluc_aa),\n",
    "                                   random_state=23)  # reproducible results\n",
    "gluc_other_upsampled = resample(gluc_other,\n",
    "                                replace=True,  # sample with replacement\n",
    "                                # match number in majority class\n",
    "                                n_samples=len(gluc_aa),\n",
    "                                random_state=23)  # reproducible results\n",
    "\n",
    "midsampled = pd.concat([gluc_cauc_downsampled, gluc_aa, gluc_asian_upsampled,\n",
    "                        gluc_hispanic_upsampled, gluc_other_upsampled])\n",
    "\n",
    "midsampled_X = midsampled.drop(columns = ['readmitted'])\n",
    "midsampled_y = midsampled.readmitted\n",
    "\n",
    "X_train, X_test, y_train, y_test = train_test_split(\n",
    "    midsampled_X, midsampled_y, test_size=0.25, random_state=23)\n",
    "\n",
    "dummy_binary(X_train, y_train, X_test, y_test)\n",
    "\n",
    "reg_unbalanced(X_train, y_train, X_test, y_test)\n",
    "\n",
    "no, yes = y_split(X_train, y_train)\n",
    "\n",
    "upsample(no, yes, X_test, y_test)\n",
    "\n",
    "downsampled(no, yes, X_test, y_test)\n",
    "\n",
    "smote(midsampled_X, midsampled_y, test_size=0.25, random_state=23)"
   ]
  },
  {
   "cell_type": "code",
   "execution_count": null,
   "metadata": {},
   "outputs": [],
   "source": [
    "data_a1 = data_a1.drop(columns = ['icd_15', 'repaglinide_down'])\n",
    "\n",
    "X_a1 = data_a1.drop(columns = ['readmitted'])\n",
    "y_a1 = data_a1.readmitted\n",
    "\n",
    "X_train, X_test, y_train, y_test = train_test_split(\n",
    "    X_a1, y_a1, test_size=0.25, random_state=23)\n",
    "\n",
    "dummy_binary(X_train, y_train, X_test, y_test)\n",
    "\n",
    "reg_unbalanced(X_train, y_train, X_test, y_test)\n",
    "\n",
    "no, yes = y_split(X_train, y_train)\n",
    "\n",
    "upsample(no, yes, X_test, y_test)\n",
    "\n",
    "downsampled(no, yes, X_test, y_test)\n",
    "\n",
    "smote(X_a1, y_a1, test_size=0.25, random_state=23)"
   ]
  },
  {
   "cell_type": "code",
   "execution_count": 45,
   "metadata": {},
   "outputs": [
    {
     "name": "stdout",
     "output_type": "stream",
     "text": [
      "Test Accuracy score:  0.5508547008547009\n",
      "Test F1 score:  0.7103885367869937\n"
     ]
    },
    {
     "data": {
      "image/png": "[encoded data removed]",
      "text/plain": [
       "<Figure size 432x288 with 1 Axes>"
      ]
     },
     "metadata": {},
     "output_type": "display_data"
    },
    {
     "name": "stdout",
     "output_type": "stream",
     "text": [
      "Test Accuracy score:  0.7658119658119659\n",
      "Test F1 score:  0.794756554307116\n"
     ]
    },
    {
     "data": {
      "image/png": "[encoded data removed]",
      "text/plain": [
       "<Figure size 432x288 with 1 Axes>"
      ]
     },
     "metadata": {},
     "output_type": "display_data"
    },
    {
     "name": "stdout",
     "output_type": "stream",
     "text": [
      "Test Accuracy score:  0.7615384615384615\n",
      "Test F1 score:  0.7766212970376303\n"
     ]
    },
    {
     "data": {
      "image/png": "[encoded data removed]",
      "text/plain": [
       "<Figure size 432x288 with 1 Axes>"
      ]
     },
     "metadata": {},
     "output_type": "display_data"
    },
    {
     "name": "stdout",
     "output_type": "stream",
     "text": [
      "Test Accuracy score:  0.7384615384615385\n",
      "Test F1 score:  0.7536231884057971\n"
     ]
    },
    {
     "data": {
      "image/png": "[encoded data removed]",
      "text/plain": [
       "<Figure size 432x288 with 1 Axes>"
      ]
     },
     "metadata": {},
     "output_type": "display_data"
    },
    {
     "name": "stdout",
     "output_type": "stream",
     "text": [
      "Test Accuracy score:  0.7435897435897436\n",
      "Test F1 score:  0.7545008183306056\n"
     ]
    },
    {
     "data": {
      "image/png": "[encoded data removed]",
      "text/plain": [
       "<Figure size 432x288 with 1 Axes>"
      ]
     },
     "metadata": {},
     "output_type": "display_data"
    }
   ],
   "source": [
    "data_a1_glu_200_300 = data_a1.loc[data_a1.glu_200_300 == 1]\n",
    "data_a1_glu_over_300 = data_a1.loc[data_a1.glu_over_300 == 1]\n",
    "data_a1_glu_norm = data_a1.loc[data_a1.glu_norm == 1]\n",
    "data_a1_glu_none = data_a1.loc[(data_a1.glu_norm == 0)&(data_a1.glu_over_300 == 0)&(data_a1.glu_200_300 == 0)]\n",
    "\n",
    "up_a1_glu_200_300 = resample(data_a1_glu_200_300,\n",
    "                             replace=True,  # sample with replacement\n",
    "                             # match number in majority class\n",
    "                             n_samples=3120,\n",
    "                             random_state=23)  # reproducible results\n",
    "up_a1_glu_over_300 = resample(data_a1_glu_over_300,\n",
    "                              replace=True,  # sample with replacement\n",
    "                              # match number in majority class\n",
    "                              n_samples=3120,\n",
    "                              random_state=23)  # reproducible results\n",
    "up_a1_glu_norm = resample(data_a1_glu_norm,\n",
    "                          replace=True,  # sample with replacement\n",
    "                          # match number in majority class\n",
    "                          n_samples=3120,\n",
    "                          random_state=23)  # reproducible results\n",
    "up_a1_glu_none = resample(data_a1_glu_none,\n",
    "                          replace=True,  # sample with replacement\n",
    "                          # match number in majority class\n",
    "                          n_samples=3120,\n",
    "                          random_state=23)  # reproducible results\n",
    "\n",
    "up_a1_gluc = pd.concat([up_a1_glu_200_300, up_a1_glu_over_300, up_a1_glu_norm])\n",
    "\n",
    "up_a1_gluc_X = up_a1_gluc.drop(columns=['readmitted'])\n",
    "up_a1_gluc_y = up_a1_gluc.readmitted\n",
    "\n",
    "X_train, X_test, y_train, y_test = train_test_split(\n",
    "    up_a1_gluc_X, up_a1_gluc_y, test_size=0.25, random_state=23)\n",
    "\n",
    "dummy_binary(X_train, y_train, X_test, y_test)\n",
    "\n",
    "reg_unbalanced(X_train, y_train, X_test, y_test)\n",
    "\n",
    "no, yes = y_split(X_train, y_train)\n",
    "\n",
    "upsample(no, yes, X_test, y_test)\n",
    "\n",
    "downsampled(no, yes, X_test, y_test)\n",
    "\n",
    "smote(up_a1_gluc_X, up_a1_gluc_y, test_size=0.25, random_state=23)"
   ]
  },
  {
   "cell_type": "code",
   "execution_count": null,
   "metadata": {},
   "outputs": [],
   "source": []
  },
  {
   "cell_type": "code",
   "execution_count": null,
   "metadata": {},
   "outputs": [],
   "source": [
    "data_no_test = data.loc[(data['glu_200_300'] == 0) & (data['glu_over_300'] == 0) & (\n",
    "    data['glu_norm'] == 0) & (data['a1_7_8'] == 0) & (data['a1_norm'] == 0) & (data['al_over_8'] == 0)]"
   ]
  },
  {
   "cell_type": "code",
   "execution_count": null,
   "metadata": {},
   "outputs": [],
   "source": [
    "len(data_no_test)"
   ]
  },
  {
   "cell_type": "code",
   "execution_count": null,
   "metadata": {},
   "outputs": [],
   "source": []
  },
  {
   "cell_type": "code",
   "execution_count": null,
   "metadata": {},
   "outputs": [],
   "source": [
    "data_no_test_X = data_no_test.drop(columns=['readmitted'])\n",
    "data_no_test_y = data_no_test.readmitted\n",
    "\n",
    "X_train, X_test, y_train, y_test = train_test_split(\n",
    "    data_no_test_X, data_no_test_y, test_size=0.25, random_state=23)\n",
    "\n",
    "dummy_binary(X_train, y_train, X_test, y_test)\n",
    "\n",
    "reg_unbalanced(X_train, y_train, X_test, y_test)\n",
    "\n",
    "no, yes = y_split(X_train, y_train)\n",
    "\n",
    "upsample(no, yes, X_test, y_test)\n",
    "\n",
    "downsampled(no, yes, X_test, y_test)\n",
    "\n",
    "smote(data_no_test_X, data_no_test_y, test_size=0.25, random_state=23)"
   ]
  },
  {
   "cell_type": "code",
   "execution_count": null,
   "metadata": {},
   "outputs": [],
   "source": [
    "columns = list(data_no_test.columns)\n",
    "for col in columns:\n",
    "    print(col)\n",
    "    print(data_no_test[col].value_counts())\n",
    "    print('\\n')"
   ]
  },
  {
   "cell_type": "code",
   "execution_count": null,
   "metadata": {},
   "outputs": [],
   "source": [
    "data_no_test.columns"
   ]
  },
  {
   "cell_type": "code",
   "execution_count": null,
   "metadata": {},
   "outputs": [],
   "source": [
    "data_no_test = data_no_test.drop(columns = ['glu_200_300', 'glu_over_300', 'glu_norm', 'a1_7_8', 'a1_norm',\n",
    "       'al_over_8'])"
   ]
  },
  {
   "cell_type": "code",
   "execution_count": null,
   "metadata": {},
   "outputs": [],
   "source": [
    "data_a1.columns"
   ]
  },
  {
   "cell_type": "code",
   "execution_count": null,
   "metadata": {},
   "outputs": [],
   "source": [
    "no_aa, no_asian, no_hispanic, no_other, no_cauc = y_split_race(data_no_test_X, data_no_test_y)"
   ]
  },
  {
   "cell_type": "code",
   "execution_count": null,
   "metadata": {},
   "outputs": [],
   "source": [
    "print(len(no_aa))\n",
    "print(len(no_asian))\n",
    "print(len(no_hispanic))\n",
    "print(len(no_other))\n",
    "print(len(no_cauc))"
   ]
  },
  {
   "cell_type": "code",
   "execution_count": null,
   "metadata": {},
   "outputs": [],
   "source": [
    "(9789+366+1018+856+40573)/5"
   ]
  },
  {
   "cell_type": "code",
   "execution_count": null,
   "metadata": {},
   "outputs": [],
   "source": [
    "no_aa_upsampled = resample(no_aa,\n",
    "                           replace=True,  # sample with replacement\n",
    "                           # match number in majority class\n",
    "                           n_samples=10520,\n",
    "                           random_state=23)  # reproducible results\n",
    "no_asian_upsampled = resample(no_asian,\n",
    "                              replace=True,  # sample with replacement\n",
    "                              # match number in majority class\n",
    "                              n_samples=10520,\n",
    "                              random_state=23)  # reproducible results\n",
    "no_hispanic_upsampled = resample(no_hispanic,\n",
    "                                 replace=True,  # sample with replacement\n",
    "                                 # match number in majority class\n",
    "                                 n_samples=10520,\n",
    "                                 random_state=23)  # reproducible results\n",
    "no_other_upsampled = resample(no_other,\n",
    "                              replace=True,  # sample with replacement\n",
    "                              # match number in majority class\n",
    "                              n_samples=10520,\n",
    "                              random_state=23)  # reproducible results\n",
    "no_cauc_upsampled = resample(no_cauc,\n",
    "                             replace=True,  # sample with replacement\n",
    "                             # match number in majority class\n",
    "                             n_samples=10520,\n",
    "                             random_state=23)  # reproducible results"
   ]
  },
  {
   "cell_type": "code",
   "execution_count": null,
   "metadata": {},
   "outputs": [],
   "source": [
    "no_up = pd.concat([no_aa_upsampled, no_asian_upsampled,\n",
    "                   no_hispanic_upsampled, no_other_upsampled, no_cauc_upsampled])"
   ]
  },
  {
   "cell_type": "code",
   "execution_count": null,
   "metadata": {},
   "outputs": [],
   "source": [
    "no_up_X = no_up.drop(columns=['readmitted'])\n",
    "no_up_y = no_up.readmitted\n",
    "\n",
    "X_train, X_test, y_train, y_test = train_test_split(\n",
    "    no_up_X, no_up_y, test_size=0.25, random_state=23)\n",
    "\n",
    "dummy_binary(X_train, y_train, X_test, y_test)\n",
    "\n",
    "reg_unbalanced(X_train, y_train, X_test, y_test)\n",
    "\n",
    "no, yes = y_split(X_train, y_train)\n",
    "\n",
    "upsample(no, yes, X_test, y_test)\n",
    "\n",
    "downsampled(no, yes, X_test, y_test)\n",
    "\n",
    "smote(no_up_X, no_up_y, test_size=0.25, random_state=23)"
   ]
  },
  {
   "cell_type": "code",
   "execution_count": null,
   "metadata": {},
   "outputs": [],
   "source": []
  }
 ],
 "metadata": {
  "kernelspec": {
   "display_name": "Python 3",
   "language": "python",
   "name": "python3"
  },
  "language_info": {
   "codemirror_mode": {
    "name": "ipython",
    "version": 3
   },
   "file_extension": ".py",
   "mimetype": "text/x-python",
   "name": "python",
   "nbconvert_exporter": "python",
   "pygments_lexer": "ipython3",
   "version": "3.7.3"
  }
 },
 "nbformat": 4,
 "nbformat_minor": 2
}
